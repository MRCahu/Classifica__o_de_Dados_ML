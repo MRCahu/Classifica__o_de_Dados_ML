{
 "cells": [
  {
   "cell_type": "markdown",
   "metadata": {},
   "source": [
    "# Projeto Completo de Machine Learning: Classificação de Reclamações de Consumidores\n",
    "\n",
    "## 📋 Objetivo do Projeto\n",
    "\n",
    "Este projeto desenvolve um sistema de **classificação multiclasse** para categorizar automaticamente reclamações de consumidores em diferentes tipos de problemas. O contexto é de **serviço público/administrativo**, simulando um sistema que poderia ser usado por órgãos de defesa do consumidor.\n",
    "\n",
    "### 🎯 Objetivos Específicos:\n",
    "- Classificar reclamações em 4 categorias principais\n",
    "- Aplicar boas práticas de Machine Learning\n",
    "- Demonstrar o pipeline completo de um projeto de ML\n",
    "- Criar modelos reutilizáveis para produção\n",
    "\n",
    "### 📊 Metodologia:\n",
    "1. **Análise Exploratória de Dados (EDA)**\n",
    "2. **Pré-processamento e Feature Engineering**\n",
    "3. **Treinamento de Múltiplos Modelos**\n",
    "4. **Avaliação e Comparação**\n",
    "5. **Validação e Ajuste de Hiperparâmetros**\n",
    "6. **Predição em Novos Dados**\n",
    "7. **Salvamento de Modelos**\n",
    "\n",
    "---"
   ]
  },
  {
   "cell_type": "markdown",
   "metadata": {},
   "source": [
    "## 1. 📚 Importação de Bibliotecas e Configuração\n",
    "\n",
    "Primeiro, vamos importar todas as bibliotecas necessárias para nosso projeto. Cada biblioteca tem um propósito específico no pipeline de Machine Learning."
   ]
  },
  {
   "cell_type": "code",
   "execution_count": 1,
   "metadata": {},
   "outputs": [
    {
     "name": "stdout",
     "output_type": "stream",
     "text": [
      "✅ Bibliotecas importadas com sucesso!\n",
      "📅 Data de execução: 10/07/2025 21:55:56\n"
     ]
    }
   ],
   "source": [
    "# Manipulação de dados\n",
    "import pandas as pd\n",
    "import numpy as np\n",
    "import warnings\n",
    "warnings.filterwarnings('ignore')\n",
    "\n",
    "# Visualização\n",
    "import matplotlib.pyplot as plt\n",
    "import seaborn as sns\n",
    "import plotly.express as px\n",
    "import plotly.graph_objects as go\n",
    "from plotly.subplots import make_subplots\n",
    "\n",
    "# Machine Learning - Pré-processamento\n",
    "from sklearn.model_selection import train_test_split, cross_val_score, GridSearchCV, StratifiedKFold\n",
    "from sklearn.preprocessing import LabelEncoder, StandardScaler, OneHotEncoder\n",
    "from sklearn.feature_extraction.text import TfidfVectorizer\n",
    "from sklearn.compose import ColumnTransformer\n",
    "from sklearn.pipeline import Pipeline\n",
    "\n",
    "# Machine Learning - Modelos\n",
    "from sklearn.ensemble import RandomForestClassifier, GradientBoostingClassifier\n",
    "from sklearn.svm import SVC\n",
    "from sklearn.linear_model import LogisticRegression\n",
    "from sklearn.naive_bayes import MultinomialNB\n",
    "\n",
    "# Machine Learning - Avaliação\n",
    "from sklearn.metrics import (\n",
    "    classification_report, confusion_matrix, accuracy_score,\n",
    "    precision_score, recall_score, f1_score, roc_auc_score\n",
    ")\n",
    "\n",
    "# Persistência de modelos\n",
    "import pickle\n",
    "import joblib\n",
    "from datetime import datetime\n",
    "\n",
    "# Configurações de visualização\n",
    "plt.style.use('seaborn-v0_8')\n",
    "sns.set_palette(\"husl\")\n",
    "pd.set_option('display.max_columns', None)\n",
    "pd.set_option('display.width', None)\n",
    "\n",
    "print(\"✅ Bibliotecas importadas com sucesso!\")\n",
    "print(f\"📅 Data de execução: {datetime.now().strftime('%d/%m/%Y %H:%M:%S')}\")"
   ]
  },
  {
   "cell_type": "markdown",
   "metadata": {},
   "source": [
    "## 2. 🗂️ Criação e Carregamento do Dataset\n",
    "\n",
    "Como estamos trabalhando com um contexto educativo, vamos criar um dataset sintético realista de reclamações de consumidores. Este dataset simula dados que poderiam ser encontrados em órgãos como PROCON ou plataformas de atendimento ao consumidor.\n",
    "\n",
    "### 📝 Estrutura do Dataset:\n",
    "- **Texto da reclamação**: Descrição do problema\n",
    "- **Categoria**: Tipo de problema (4 classes)\n",
    "- **Empresa**: Nome da empresa reclamada\n",
    "- **Estado**: Estado onde ocorreu o problema\n",
    "- **Valor**: Valor envolvido na reclamação\n",
    "- **Tempo_resposta**: Tempo para resposta da empresa"
   ]
  },
  {
   "cell_type": "code",
   "execution_count": 2,
   "metadata": {},
   "outputs": [
    {
     "name": "stdout",
     "output_type": "stream",
     "text": [
      "✅ Dataset criado com sucesso!\n",
      "📊 Dimensões: 2000 linhas e 6 colunas\n",
      "🎯 Classes: 4 categorias\n"
     ]
    },
    {
     "ename": "OSError",
     "evalue": "Cannot save file into a non-existent directory: '\\home\\ubuntu'",
     "output_type": "error",
     "traceback": [
      "\u001b[31m---------------------------------------------------------------------------\u001b[39m",
      "\u001b[31mOSError\u001b[39m                                   Traceback (most recent call last)",
      "\u001b[36mCell\u001b[39m\u001b[36m \u001b[39m\u001b[32mIn[2]\u001b[39m\u001b[32m, line 98\u001b[39m\n\u001b[32m     95\u001b[39m \u001b[38;5;28mprint\u001b[39m(\u001b[33mf\u001b[39m\u001b[33m\"\u001b[39m\u001b[33m🎯 Classes: \u001b[39m\u001b[38;5;132;01m{\u001b[39;00mdf[\u001b[33m'\u001b[39m\u001b[33mcategoria\u001b[39m\u001b[33m'\u001b[39m].nunique()\u001b[38;5;132;01m}\u001b[39;00m\u001b[33m categorias\u001b[39m\u001b[33m\"\u001b[39m)\n\u001b[32m     97\u001b[39m \u001b[38;5;66;03m# Salvando o dataset\u001b[39;00m\n\u001b[32m---> \u001b[39m\u001b[32m98\u001b[39m \u001b[43mdf\u001b[49m\u001b[43m.\u001b[49m\u001b[43mto_csv\u001b[49m\u001b[43m(\u001b[49m\u001b[33;43m'\u001b[39;49m\u001b[33;43m/home/ubuntu/reclamacoes_dataset.csv\u001b[39;49m\u001b[33;43m'\u001b[39;49m\u001b[43m,\u001b[49m\u001b[43m \u001b[49m\u001b[43mindex\u001b[49m\u001b[43m=\u001b[49m\u001b[38;5;28;43;01mFalse\u001b[39;49;00m\u001b[43m)\u001b[49m\n\u001b[32m     99\u001b[39m \u001b[38;5;28mprint\u001b[39m(\u001b[33m\"\u001b[39m\u001b[33m💾 Dataset salvo como \u001b[39m\u001b[33m'\u001b[39m\u001b[33mreclamacoes_dataset.csv\u001b[39m\u001b[33m'\u001b[39m\u001b[33m\"\u001b[39m)\n",
      "\u001b[36mFile \u001b[39m\u001b[32m~\\AppData\\Local\\Packages\\PythonSoftwareFoundation.Python.3.11_qbz5n2kfra8p0\\LocalCache\\local-packages\\Python311\\site-packages\\pandas\\util\\_decorators.py:333\u001b[39m, in \u001b[36mdeprecate_nonkeyword_arguments.<locals>.decorate.<locals>.wrapper\u001b[39m\u001b[34m(*args, **kwargs)\u001b[39m\n\u001b[32m    327\u001b[39m \u001b[38;5;28;01mif\u001b[39;00m \u001b[38;5;28mlen\u001b[39m(args) > num_allow_args:\n\u001b[32m    328\u001b[39m     warnings.warn(\n\u001b[32m    329\u001b[39m         msg.format(arguments=_format_argument_list(allow_args)),\n\u001b[32m    330\u001b[39m         \u001b[38;5;167;01mFutureWarning\u001b[39;00m,\n\u001b[32m    331\u001b[39m         stacklevel=find_stack_level(),\n\u001b[32m    332\u001b[39m     )\n\u001b[32m--> \u001b[39m\u001b[32m333\u001b[39m \u001b[38;5;28;01mreturn\u001b[39;00m \u001b[43mfunc\u001b[49m\u001b[43m(\u001b[49m\u001b[43m*\u001b[49m\u001b[43margs\u001b[49m\u001b[43m,\u001b[49m\u001b[43m \u001b[49m\u001b[43m*\u001b[49m\u001b[43m*\u001b[49m\u001b[43mkwargs\u001b[49m\u001b[43m)\u001b[49m\n",
      "\u001b[36mFile \u001b[39m\u001b[32m~\\AppData\\Local\\Packages\\PythonSoftwareFoundation.Python.3.11_qbz5n2kfra8p0\\LocalCache\\local-packages\\Python311\\site-packages\\pandas\\core\\generic.py:3967\u001b[39m, in \u001b[36mNDFrame.to_csv\u001b[39m\u001b[34m(self, path_or_buf, sep, na_rep, float_format, columns, header, index, index_label, mode, encoding, compression, quoting, quotechar, lineterminator, chunksize, date_format, doublequote, escapechar, decimal, errors, storage_options)\u001b[39m\n\u001b[32m   3956\u001b[39m df = \u001b[38;5;28mself\u001b[39m \u001b[38;5;28;01mif\u001b[39;00m \u001b[38;5;28misinstance\u001b[39m(\u001b[38;5;28mself\u001b[39m, ABCDataFrame) \u001b[38;5;28;01melse\u001b[39;00m \u001b[38;5;28mself\u001b[39m.to_frame()\n\u001b[32m   3958\u001b[39m formatter = DataFrameFormatter(\n\u001b[32m   3959\u001b[39m     frame=df,\n\u001b[32m   3960\u001b[39m     header=header,\n\u001b[32m   (...)\u001b[39m\u001b[32m   3964\u001b[39m     decimal=decimal,\n\u001b[32m   3965\u001b[39m )\n\u001b[32m-> \u001b[39m\u001b[32m3967\u001b[39m \u001b[38;5;28;01mreturn\u001b[39;00m \u001b[43mDataFrameRenderer\u001b[49m\u001b[43m(\u001b[49m\u001b[43mformatter\u001b[49m\u001b[43m)\u001b[49m\u001b[43m.\u001b[49m\u001b[43mto_csv\u001b[49m\u001b[43m(\u001b[49m\n\u001b[32m   3968\u001b[39m \u001b[43m    \u001b[49m\u001b[43mpath_or_buf\u001b[49m\u001b[43m,\u001b[49m\n\u001b[32m   3969\u001b[39m \u001b[43m    \u001b[49m\u001b[43mlineterminator\u001b[49m\u001b[43m=\u001b[49m\u001b[43mlineterminator\u001b[49m\u001b[43m,\u001b[49m\n\u001b[32m   3970\u001b[39m \u001b[43m    \u001b[49m\u001b[43msep\u001b[49m\u001b[43m=\u001b[49m\u001b[43msep\u001b[49m\u001b[43m,\u001b[49m\n\u001b[32m   3971\u001b[39m \u001b[43m    \u001b[49m\u001b[43mencoding\u001b[49m\u001b[43m=\u001b[49m\u001b[43mencoding\u001b[49m\u001b[43m,\u001b[49m\n\u001b[32m   3972\u001b[39m \u001b[43m    \u001b[49m\u001b[43merrors\u001b[49m\u001b[43m=\u001b[49m\u001b[43merrors\u001b[49m\u001b[43m,\u001b[49m\n\u001b[32m   3973\u001b[39m \u001b[43m    \u001b[49m\u001b[43mcompression\u001b[49m\u001b[43m=\u001b[49m\u001b[43mcompression\u001b[49m\u001b[43m,\u001b[49m\n\u001b[32m   3974\u001b[39m \u001b[43m    \u001b[49m\u001b[43mquoting\u001b[49m\u001b[43m=\u001b[49m\u001b[43mquoting\u001b[49m\u001b[43m,\u001b[49m\n\u001b[32m   3975\u001b[39m \u001b[43m    \u001b[49m\u001b[43mcolumns\u001b[49m\u001b[43m=\u001b[49m\u001b[43mcolumns\u001b[49m\u001b[43m,\u001b[49m\n\u001b[32m   3976\u001b[39m \u001b[43m    \u001b[49m\u001b[43mindex_label\u001b[49m\u001b[43m=\u001b[49m\u001b[43mindex_label\u001b[49m\u001b[43m,\u001b[49m\n\u001b[32m   3977\u001b[39m \u001b[43m    \u001b[49m\u001b[43mmode\u001b[49m\u001b[43m=\u001b[49m\u001b[43mmode\u001b[49m\u001b[43m,\u001b[49m\n\u001b[32m   3978\u001b[39m \u001b[43m    \u001b[49m\u001b[43mchunksize\u001b[49m\u001b[43m=\u001b[49m\u001b[43mchunksize\u001b[49m\u001b[43m,\u001b[49m\n\u001b[32m   3979\u001b[39m \u001b[43m    \u001b[49m\u001b[43mquotechar\u001b[49m\u001b[43m=\u001b[49m\u001b[43mquotechar\u001b[49m\u001b[43m,\u001b[49m\n\u001b[32m   3980\u001b[39m \u001b[43m    \u001b[49m\u001b[43mdate_format\u001b[49m\u001b[43m=\u001b[49m\u001b[43mdate_format\u001b[49m\u001b[43m,\u001b[49m\n\u001b[32m   3981\u001b[39m \u001b[43m    \u001b[49m\u001b[43mdoublequote\u001b[49m\u001b[43m=\u001b[49m\u001b[43mdoublequote\u001b[49m\u001b[43m,\u001b[49m\n\u001b[32m   3982\u001b[39m \u001b[43m    \u001b[49m\u001b[43mescapechar\u001b[49m\u001b[43m=\u001b[49m\u001b[43mescapechar\u001b[49m\u001b[43m,\u001b[49m\n\u001b[32m   3983\u001b[39m \u001b[43m    \u001b[49m\u001b[43mstorage_options\u001b[49m\u001b[43m=\u001b[49m\u001b[43mstorage_options\u001b[49m\u001b[43m,\u001b[49m\n\u001b[32m   3984\u001b[39m \u001b[43m\u001b[49m\u001b[43m)\u001b[49m\n",
      "\u001b[36mFile \u001b[39m\u001b[32m~\\AppData\\Local\\Packages\\PythonSoftwareFoundation.Python.3.11_qbz5n2kfra8p0\\LocalCache\\local-packages\\Python311\\site-packages\\pandas\\io\\formats\\format.py:1014\u001b[39m, in \u001b[36mDataFrameRenderer.to_csv\u001b[39m\u001b[34m(self, path_or_buf, encoding, sep, columns, index_label, mode, compression, quoting, quotechar, lineterminator, chunksize, date_format, doublequote, escapechar, errors, storage_options)\u001b[39m\n\u001b[32m    993\u001b[39m     created_buffer = \u001b[38;5;28;01mFalse\u001b[39;00m\n\u001b[32m    995\u001b[39m csv_formatter = CSVFormatter(\n\u001b[32m    996\u001b[39m     path_or_buf=path_or_buf,\n\u001b[32m    997\u001b[39m     lineterminator=lineterminator,\n\u001b[32m   (...)\u001b[39m\u001b[32m   1012\u001b[39m     formatter=\u001b[38;5;28mself\u001b[39m.fmt,\n\u001b[32m   1013\u001b[39m )\n\u001b[32m-> \u001b[39m\u001b[32m1014\u001b[39m \u001b[43mcsv_formatter\u001b[49m\u001b[43m.\u001b[49m\u001b[43msave\u001b[49m\u001b[43m(\u001b[49m\u001b[43m)\u001b[49m\n\u001b[32m   1016\u001b[39m \u001b[38;5;28;01mif\u001b[39;00m created_buffer:\n\u001b[32m   1017\u001b[39m     \u001b[38;5;28;01massert\u001b[39;00m \u001b[38;5;28misinstance\u001b[39m(path_or_buf, StringIO)\n",
      "\u001b[36mFile \u001b[39m\u001b[32m~\\AppData\\Local\\Packages\\PythonSoftwareFoundation.Python.3.11_qbz5n2kfra8p0\\LocalCache\\local-packages\\Python311\\site-packages\\pandas\\io\\formats\\csvs.py:251\u001b[39m, in \u001b[36mCSVFormatter.save\u001b[39m\u001b[34m(self)\u001b[39m\n\u001b[32m    247\u001b[39m \u001b[38;5;250m\u001b[39m\u001b[33;03m\"\"\"\u001b[39;00m\n\u001b[32m    248\u001b[39m \u001b[33;03mCreate the writer & save.\u001b[39;00m\n\u001b[32m    249\u001b[39m \u001b[33;03m\"\"\"\u001b[39;00m\n\u001b[32m    250\u001b[39m \u001b[38;5;66;03m# apply compression and byte/text conversion\u001b[39;00m\n\u001b[32m--> \u001b[39m\u001b[32m251\u001b[39m \u001b[38;5;28;01mwith\u001b[39;00m \u001b[43mget_handle\u001b[49m\u001b[43m(\u001b[49m\n\u001b[32m    252\u001b[39m \u001b[43m    \u001b[49m\u001b[38;5;28;43mself\u001b[39;49m\u001b[43m.\u001b[49m\u001b[43mfilepath_or_buffer\u001b[49m\u001b[43m,\u001b[49m\n\u001b[32m    253\u001b[39m \u001b[43m    \u001b[49m\u001b[38;5;28;43mself\u001b[39;49m\u001b[43m.\u001b[49m\u001b[43mmode\u001b[49m\u001b[43m,\u001b[49m\n\u001b[32m    254\u001b[39m \u001b[43m    \u001b[49m\u001b[43mencoding\u001b[49m\u001b[43m=\u001b[49m\u001b[38;5;28;43mself\u001b[39;49m\u001b[43m.\u001b[49m\u001b[43mencoding\u001b[49m\u001b[43m,\u001b[49m\n\u001b[32m    255\u001b[39m \u001b[43m    \u001b[49m\u001b[43merrors\u001b[49m\u001b[43m=\u001b[49m\u001b[38;5;28;43mself\u001b[39;49m\u001b[43m.\u001b[49m\u001b[43merrors\u001b[49m\u001b[43m,\u001b[49m\n\u001b[32m    256\u001b[39m \u001b[43m    \u001b[49m\u001b[43mcompression\u001b[49m\u001b[43m=\u001b[49m\u001b[38;5;28;43mself\u001b[39;49m\u001b[43m.\u001b[49m\u001b[43mcompression\u001b[49m\u001b[43m,\u001b[49m\n\u001b[32m    257\u001b[39m \u001b[43m    \u001b[49m\u001b[43mstorage_options\u001b[49m\u001b[43m=\u001b[49m\u001b[38;5;28;43mself\u001b[39;49m\u001b[43m.\u001b[49m\u001b[43mstorage_options\u001b[49m\u001b[43m,\u001b[49m\n\u001b[32m    258\u001b[39m \u001b[43m\u001b[49m\u001b[43m)\u001b[49m \u001b[38;5;28;01mas\u001b[39;00m handles:\n\u001b[32m    259\u001b[39m     \u001b[38;5;66;03m# Note: self.encoding is irrelevant here\u001b[39;00m\n\u001b[32m    260\u001b[39m     \u001b[38;5;28mself\u001b[39m.writer = csvlib.writer(\n\u001b[32m    261\u001b[39m         handles.handle,\n\u001b[32m    262\u001b[39m         lineterminator=\u001b[38;5;28mself\u001b[39m.lineterminator,\n\u001b[32m   (...)\u001b[39m\u001b[32m    267\u001b[39m         quotechar=\u001b[38;5;28mself\u001b[39m.quotechar,\n\u001b[32m    268\u001b[39m     )\n\u001b[32m    270\u001b[39m     \u001b[38;5;28mself\u001b[39m._save()\n",
      "\u001b[36mFile \u001b[39m\u001b[32m~\\AppData\\Local\\Packages\\PythonSoftwareFoundation.Python.3.11_qbz5n2kfra8p0\\LocalCache\\local-packages\\Python311\\site-packages\\pandas\\io\\common.py:749\u001b[39m, in \u001b[36mget_handle\u001b[39m\u001b[34m(path_or_buf, mode, encoding, compression, memory_map, is_text, errors, storage_options)\u001b[39m\n\u001b[32m    747\u001b[39m \u001b[38;5;66;03m# Only for write methods\u001b[39;00m\n\u001b[32m    748\u001b[39m \u001b[38;5;28;01mif\u001b[39;00m \u001b[33m\"\u001b[39m\u001b[33mr\u001b[39m\u001b[33m\"\u001b[39m \u001b[38;5;129;01mnot\u001b[39;00m \u001b[38;5;129;01min\u001b[39;00m mode \u001b[38;5;129;01mand\u001b[39;00m is_path:\n\u001b[32m--> \u001b[39m\u001b[32m749\u001b[39m     \u001b[43mcheck_parent_directory\u001b[49m\u001b[43m(\u001b[49m\u001b[38;5;28;43mstr\u001b[39;49m\u001b[43m(\u001b[49m\u001b[43mhandle\u001b[49m\u001b[43m)\u001b[49m\u001b[43m)\u001b[49m\n\u001b[32m    751\u001b[39m \u001b[38;5;28;01mif\u001b[39;00m compression:\n\u001b[32m    752\u001b[39m     \u001b[38;5;28;01mif\u001b[39;00m compression != \u001b[33m\"\u001b[39m\u001b[33mzstd\u001b[39m\u001b[33m\"\u001b[39m:\n\u001b[32m    753\u001b[39m         \u001b[38;5;66;03m# compression libraries do not like an explicit text-mode\u001b[39;00m\n",
      "\u001b[36mFile \u001b[39m\u001b[32m~\\AppData\\Local\\Packages\\PythonSoftwareFoundation.Python.3.11_qbz5n2kfra8p0\\LocalCache\\local-packages\\Python311\\site-packages\\pandas\\io\\common.py:616\u001b[39m, in \u001b[36mcheck_parent_directory\u001b[39m\u001b[34m(path)\u001b[39m\n\u001b[32m    614\u001b[39m parent = Path(path).parent\n\u001b[32m    615\u001b[39m \u001b[38;5;28;01mif\u001b[39;00m \u001b[38;5;129;01mnot\u001b[39;00m parent.is_dir():\n\u001b[32m--> \u001b[39m\u001b[32m616\u001b[39m     \u001b[38;5;28;01mraise\u001b[39;00m \u001b[38;5;167;01mOSError\u001b[39;00m(\u001b[33mrf\u001b[39m\u001b[33m\"\u001b[39m\u001b[33mCannot save file into a non-existent directory: \u001b[39m\u001b[33m'\u001b[39m\u001b[38;5;132;01m{\u001b[39;00mparent\u001b[38;5;132;01m}\u001b[39;00m\u001b[33m'\u001b[39m\u001b[33m\"\u001b[39m)\n",
      "\u001b[31mOSError\u001b[39m: Cannot save file into a non-existent directory: '\\home\\ubuntu'"
     ]
    }
   ],
   "source": [
    "# Criação de um dataset sintético realista\n",
    "np.random.seed(42)\n",
    "\n",
    "# Definindo as categorias de reclamações (4 classes)\n",
    "categorias = {\n",
    "    'Produto Defeituoso': [\n",
    "        'Produto chegou com defeito de fábrica',\n",
    "        'Aparelho parou de funcionar após poucos dias',\n",
    "        'Produto não corresponde à descrição',\n",
    "        'Defeito na tela do celular',\n",
    "        'Produto veio danificado na entrega',\n",
    "        'Qualidade inferior ao esperado',\n",
    "        'Produto apresentou problemas logo após a compra'\n",
    "    ],\n",
    "    'Atendimento': [\n",
    "        'Atendimento muito demorado no telefone',\n",
    "        'Funcionário foi grosseiro e mal educado',\n",
    "        'Não consegui resolver meu problema',\n",
    "        'Atendente não soube me informar',\n",
    "        'Fui mal atendido na loja física',\n",
    "        'Demora excessiva para resposta',\n",
    "        'Atendimento de baixa qualidade'\n",
    "    ],\n",
    "    'Cobrança Indevida': [\n",
    "        'Cobraram valor a mais na fatura',\n",
    "        'Taxa não informada na contratação',\n",
    "        'Cobrança duplicada no cartão',\n",
    "        'Valor diferente do acordado',\n",
    "        'Cobrança após cancelamento do serviço',\n",
    "        'Juros abusivos aplicados',\n",
    "        'Cobrança de serviço não solicitado'\n",
    "    ],\n",
    "    'Entrega': [\n",
    "        'Produto não foi entregue no prazo',\n",
    "        'Entrega foi feita no endereço errado',\n",
    "        'Produto chegou muito atrasado',\n",
    "        'Não recebi o produto comprado',\n",
    "        'Entregador foi mal educado',\n",
    "        'Produto foi entregue danificado',\n",
    "        'Prazo de entrega não foi cumprido'\n",
    "    ]\n",
    "}\n",
    "\n",
    "# Empresas fictícias\n",
    "empresas = [\n",
    "    'TechMart', 'SuperCompras', 'MegaStore', 'FastDelivery', \n",
    "    'EletroMax', 'ShopOnline', 'QuickBuy', 'BestPrice',\n",
    "    'TopQuality', 'ExpressShop'\n",
    "]\n",
    "\n",
    "# Estados brasileiros\n",
    "estados = [\n",
    "    'SP', 'RJ', 'MG', 'RS', 'PR', 'SC', 'BA', 'GO', \n",
    "    'PE', 'CE', 'DF', 'ES', 'PB', 'RN', 'MT'\n",
    "]\n",
    "\n",
    "# Gerando dados sintéticos\n",
    "dados = []\n",
    "n_samples = 2000\n",
    "\n",
    "for i in range(n_samples):\n",
    "    categoria = np.random.choice(list(categorias.keys()))\n",
    "    texto = np.random.choice(categorias[categoria])\n",
    "    empresa = np.random.choice(empresas)\n",
    "    estado = np.random.choice(estados)\n",
    "    \n",
    "    # Valores baseados na categoria\n",
    "    if categoria == 'Produto Defeituoso':\n",
    "        valor = np.random.uniform(50, 2000)\n",
    "        tempo_resposta = np.random.uniform(1, 15)\n",
    "    elif categoria == 'Cobrança Indevida':\n",
    "        valor = np.random.uniform(20, 500)\n",
    "        tempo_resposta = np.random.uniform(1, 10)\n",
    "    elif categoria == 'Entrega':\n",
    "        valor = np.random.uniform(30, 800)\n",
    "        tempo_resposta = np.random.uniform(1, 7)\n",
    "    else:  # Atendimento\n",
    "        valor = np.random.uniform(0, 100)\n",
    "        tempo_resposta = np.random.uniform(1, 20)\n",
    "    \n",
    "    dados.append({\n",
    "        'texto_reclamacao': texto,\n",
    "        'categoria': categoria,\n",
    "        'empresa': empresa,\n",
    "        'estado': estado,\n",
    "        'valor_envolvido': round(valor, 2),\n",
    "        'tempo_resposta_dias': round(tempo_resposta, 1)\n",
    "    })\n",
    "\n",
    "# Criando DataFrame\n",
    "df = pd.DataFrame(dados)\n",
    "\n",
    "print(f\"✅ Dataset criado com sucesso!\")\n",
    "print(f\"📊 Dimensões: {df.shape[0]} linhas e {df.shape[1]} colunas\")\n",
    "print(f\"🎯 Classes: {df['categoria'].nunique()} categorias\")\n",
    "\n",
    "# Salvando o dataset\n",
    "df.to_csv('/home/ubuntu/reclamacoes_dataset.csv', index=False)\n",
    "print(\"💾 Dataset salvo como 'reclamacoes_dataset.csv'\")"
   ]
  },
  {
   "cell_type": "markdown",
   "metadata": {},
   "source": [
    "## 3. 🔍 Análise Exploratória de Dados (EDA)\n",
    "\n",
    "A **Análise Exploratória de Dados** é uma etapa fundamental em qualquer projeto de Machine Learning. Ela nos permite:\n",
    "\n",
    "- 🎯 **Entender a distribuição dos dados**\n",
    "- 🔍 **Identificar padrões e anomalias**\n",
    "- 📊 **Verificar balanceamento das classes**\n",
    "- 🧹 **Detectar dados faltantes ou inconsistentes**\n",
    "- 💡 **Gerar insights para feature engineering**\n",
    "\n",
    "### 3.1 Visão Geral dos Dados"
   ]
  },
  {
   "cell_type": "code",
   "execution_count": null,
   "metadata": {},
   "outputs": [
    {
     "name": "stdout",
     "output_type": "stream",
     "text": [
      "📋 INFORMAÇÕES GERAIS DO DATASET\n",
      "==================================================\n",
      "Dimensões: (2000, 6)\n",
      "Memória utilizada: 848.85 KB\n",
      "\n",
      "📊 TIPOS DE DADOS:\n",
      "texto_reclamacao        object\n",
      "categoria               object\n",
      "empresa                 object\n",
      "estado                  object\n",
      "valor_envolvido        float64\n",
      "tempo_resposta_dias    float64\n",
      "dtype: object\n",
      "\n",
      "🔍 PRIMEIRAS 5 LINHAS:\n"
     ]
    },
    {
     "data": {
      "text/html": [
       "<div>\n",
       "<style scoped>\n",
       "    .dataframe tbody tr th:only-of-type {\n",
       "        vertical-align: middle;\n",
       "    }\n",
       "\n",
       "    .dataframe tbody tr th {\n",
       "        vertical-align: top;\n",
       "    }\n",
       "\n",
       "    .dataframe thead th {\n",
       "        text-align: right;\n",
       "    }\n",
       "</style>\n",
       "<table border=\"1\" class=\"dataframe\">\n",
       "  <thead>\n",
       "    <tr style=\"text-align: right;\">\n",
       "      <th></th>\n",
       "      <th>texto_reclamacao</th>\n",
       "      <th>categoria</th>\n",
       "      <th>empresa</th>\n",
       "      <th>estado</th>\n",
       "      <th>valor_envolvido</th>\n",
       "      <th>tempo_resposta_dias</th>\n",
       "    </tr>\n",
       "  </thead>\n",
       "  <tbody>\n",
       "    <tr>\n",
       "      <th>0</th>\n",
       "      <td>Valor diferente do acordado</td>\n",
       "      <td>Cobrança Indevida</td>\n",
       "      <td>BestPrice</td>\n",
       "      <td>PB</td>\n",
       "      <td>306.49</td>\n",
       "      <td>5.0</td>\n",
       "    </tr>\n",
       "    <tr>\n",
       "      <th>1</th>\n",
       "      <td>Cobrança duplicada no cartão</td>\n",
       "      <td>Cobrança Indevida</td>\n",
       "      <td>BestPrice</td>\n",
       "      <td>PR</td>\n",
       "      <td>308.54</td>\n",
       "      <td>7.4</td>\n",
       "    </tr>\n",
       "    <tr>\n",
       "      <th>2</th>\n",
       "      <td>Fui mal atendido na loja física</td>\n",
       "      <td>Atendimento</td>\n",
       "      <td>SuperCompras</td>\n",
       "      <td>GO</td>\n",
       "      <td>83.24</td>\n",
       "      <td>5.0</td>\n",
       "    </tr>\n",
       "    <tr>\n",
       "      <th>3</th>\n",
       "      <td>Não recebi o produto comprado</td>\n",
       "      <td>Entrega</td>\n",
       "      <td>EletroMax</td>\n",
       "      <td>SP</td>\n",
       "      <td>264.27</td>\n",
       "      <td>4.1</td>\n",
       "    </tr>\n",
       "    <tr>\n",
       "      <th>4</th>\n",
       "      <td>Produto não foi entregue no prazo</td>\n",
       "      <td>Entrega</td>\n",
       "      <td>TechMart</td>\n",
       "      <td>DF</td>\n",
       "      <td>501.13</td>\n",
       "      <td>1.8</td>\n",
       "    </tr>\n",
       "  </tbody>\n",
       "</table>\n",
       "</div>"
      ],
      "text/plain": [
       "                    texto_reclamacao          categoria       empresa estado  \\\n",
       "0        Valor diferente do acordado  Cobrança Indevida     BestPrice     PB   \n",
       "1       Cobrança duplicada no cartão  Cobrança Indevida     BestPrice     PR   \n",
       "2    Fui mal atendido na loja física        Atendimento  SuperCompras     GO   \n",
       "3      Não recebi o produto comprado            Entrega     EletroMax     SP   \n",
       "4  Produto não foi entregue no prazo            Entrega      TechMart     DF   \n",
       "\n",
       "   valor_envolvido  tempo_resposta_dias  \n",
       "0           306.49                  5.0  \n",
       "1           308.54                  7.4  \n",
       "2            83.24                  5.0  \n",
       "3           264.27                  4.1  \n",
       "4           501.13                  1.8  "
      ]
     },
     "metadata": {},
     "output_type": "display_data"
    },
    {
     "name": "stdout",
     "output_type": "stream",
     "text": [
      "\n",
      "📈 ESTATÍSTICAS DESCRITIVAS:\n"
     ]
    },
    {
     "data": {
      "text/html": [
       "<div>\n",
       "<style scoped>\n",
       "    .dataframe tbody tr th:only-of-type {\n",
       "        vertical-align: middle;\n",
       "    }\n",
       "\n",
       "    .dataframe tbody tr th {\n",
       "        vertical-align: top;\n",
       "    }\n",
       "\n",
       "    .dataframe thead th {\n",
       "        text-align: right;\n",
       "    }\n",
       "</style>\n",
       "<table border=\"1\" class=\"dataframe\">\n",
       "  <thead>\n",
       "    <tr style=\"text-align: right;\">\n",
       "      <th></th>\n",
       "      <th>texto_reclamacao</th>\n",
       "      <th>categoria</th>\n",
       "      <th>empresa</th>\n",
       "      <th>estado</th>\n",
       "      <th>valor_envolvido</th>\n",
       "      <th>tempo_resposta_dias</th>\n",
       "    </tr>\n",
       "  </thead>\n",
       "  <tbody>\n",
       "    <tr>\n",
       "      <th>count</th>\n",
       "      <td>2000</td>\n",
       "      <td>2000</td>\n",
       "      <td>2000</td>\n",
       "      <td>2000</td>\n",
       "      <td>2000.000000</td>\n",
       "      <td>2000.000000</td>\n",
       "    </tr>\n",
       "    <tr>\n",
       "      <th>unique</th>\n",
       "      <td>28</td>\n",
       "      <td>4</td>\n",
       "      <td>10</td>\n",
       "      <td>15</td>\n",
       "      <td>NaN</td>\n",
       "      <td>NaN</td>\n",
       "    </tr>\n",
       "    <tr>\n",
       "      <th>top</th>\n",
       "      <td>Atendimento muito demorado no telefone</td>\n",
       "      <td>Produto Defeituoso</td>\n",
       "      <td>TechMart</td>\n",
       "      <td>PB</td>\n",
       "      <td>NaN</td>\n",
       "      <td>NaN</td>\n",
       "    </tr>\n",
       "    <tr>\n",
       "      <th>freq</th>\n",
       "      <td>91</td>\n",
       "      <td>513</td>\n",
       "      <td>236</td>\n",
       "      <td>163</td>\n",
       "      <td>NaN</td>\n",
       "      <td>NaN</td>\n",
       "    </tr>\n",
       "    <tr>\n",
       "      <th>mean</th>\n",
       "      <td>NaN</td>\n",
       "      <td>NaN</td>\n",
       "      <td>NaN</td>\n",
       "      <td>NaN</td>\n",
       "      <td>450.322815</td>\n",
       "      <td>6.938250</td>\n",
       "    </tr>\n",
       "    <tr>\n",
       "      <th>std</th>\n",
       "      <td>NaN</td>\n",
       "      <td>NaN</td>\n",
       "      <td>NaN</td>\n",
       "      <td>NaN</td>\n",
       "      <td>497.548641</td>\n",
       "      <td>4.473549</td>\n",
       "    </tr>\n",
       "    <tr>\n",
       "      <th>min</th>\n",
       "      <td>NaN</td>\n",
       "      <td>NaN</td>\n",
       "      <td>NaN</td>\n",
       "      <td>NaN</td>\n",
       "      <td>0.160000</td>\n",
       "      <td>1.000000</td>\n",
       "    </tr>\n",
       "    <tr>\n",
       "      <th>25%</th>\n",
       "      <td>NaN</td>\n",
       "      <td>NaN</td>\n",
       "      <td>NaN</td>\n",
       "      <td>NaN</td>\n",
       "      <td>81.057500</td>\n",
       "      <td>3.400000</td>\n",
       "    </tr>\n",
       "    <tr>\n",
       "      <th>50%</th>\n",
       "      <td>NaN</td>\n",
       "      <td>NaN</td>\n",
       "      <td>NaN</td>\n",
       "      <td>NaN</td>\n",
       "      <td>277.655000</td>\n",
       "      <td>6.000000</td>\n",
       "    </tr>\n",
       "    <tr>\n",
       "      <th>75%</th>\n",
       "      <td>NaN</td>\n",
       "      <td>NaN</td>\n",
       "      <td>NaN</td>\n",
       "      <td>NaN</td>\n",
       "      <td>609.900000</td>\n",
       "      <td>9.600000</td>\n",
       "    </tr>\n",
       "    <tr>\n",
       "      <th>max</th>\n",
       "      <td>NaN</td>\n",
       "      <td>NaN</td>\n",
       "      <td>NaN</td>\n",
       "      <td>NaN</td>\n",
       "      <td>1994.300000</td>\n",
       "      <td>19.900000</td>\n",
       "    </tr>\n",
       "  </tbody>\n",
       "</table>\n",
       "</div>"
      ],
      "text/plain": [
       "                              texto_reclamacao           categoria   empresa  \\\n",
       "count                                     2000                2000      2000   \n",
       "unique                                      28                   4        10   \n",
       "top     Atendimento muito demorado no telefone  Produto Defeituoso  TechMart   \n",
       "freq                                        91                 513       236   \n",
       "mean                                       NaN                 NaN       NaN   \n",
       "std                                        NaN                 NaN       NaN   \n",
       "min                                        NaN                 NaN       NaN   \n",
       "25%                                        NaN                 NaN       NaN   \n",
       "50%                                        NaN                 NaN       NaN   \n",
       "75%                                        NaN                 NaN       NaN   \n",
       "max                                        NaN                 NaN       NaN   \n",
       "\n",
       "       estado  valor_envolvido  tempo_resposta_dias  \n",
       "count    2000      2000.000000          2000.000000  \n",
       "unique     15              NaN                  NaN  \n",
       "top        PB              NaN                  NaN  \n",
       "freq      163              NaN                  NaN  \n",
       "mean      NaN       450.322815             6.938250  \n",
       "std       NaN       497.548641             4.473549  \n",
       "min       NaN         0.160000             1.000000  \n",
       "25%       NaN        81.057500             3.400000  \n",
       "50%       NaN       277.655000             6.000000  \n",
       "75%       NaN       609.900000             9.600000  \n",
       "max       NaN      1994.300000            19.900000  "
      ]
     },
     "metadata": {},
     "output_type": "display_data"
    }
   ],
   "source": [
    "# Informações básicas do dataset\n",
    "print(\"📋 INFORMAÇÕES GERAIS DO DATASET\")\n",
    "print(\"=\" * 50)\n",
    "print(f\"Dimensões: {df.shape}\")\n",
    "print(f\"Memória utilizada: {df.memory_usage(deep=True).sum() / 1024:.2f} KB\")\n",
    "print(\"\\n📊 TIPOS DE DADOS:\")\n",
    "print(df.dtypes)\n",
    "print(\"\\n🔍 PRIMEIRAS 5 LINHAS:\")\n",
    "display(df.head())\n",
    "\n",
    "print(\"\\n📈 ESTATÍSTICAS DESCRITIVAS:\")\n",
    "display(df.describe(include='all'))"
   ]
  },
  {
   "cell_type": "code",
   "execution_count": null,
   "metadata": {},
   "outputs": [
    {
     "name": "stdout",
     "output_type": "stream",
     "text": [
      "🔍 ANÁLISE DE DADOS FALTANTES\n",
      "========================================\n",
      "                     Valores Faltantes  Percentual (%)\n",
      "texto_reclamacao                     0             0.0\n",
      "categoria                            0             0.0\n",
      "empresa                              0             0.0\n",
      "estado                               0             0.0\n",
      "valor_envolvido                      0             0.0\n",
      "tempo_resposta_dias                  0             0.0\n",
      "\n",
      "✅ Excelente! Não há dados faltantes no dataset.\n"
     ]
    }
   ],
   "source": [
    "# Verificando dados faltantes\n",
    "print(\"🔍 ANÁLISE DE DADOS FALTANTES\")\n",
    "print(\"=\" * 40)\n",
    "missing_data = df.isnull().sum()\n",
    "missing_percent = (missing_data / len(df)) * 100\n",
    "\n",
    "missing_df = pd.DataFrame({\n",
    "    'Valores Faltantes': missing_data,\n",
    "    'Percentual (%)': missing_percent\n",
    "})\n",
    "\n",
    "print(missing_df)\n",
    "\n",
    "if missing_data.sum() == 0:\n",
    "    print(\"\\n✅ Excelente! Não há dados faltantes no dataset.\")\n",
    "else:\n",
    "    print(\"\\n⚠️ Atenção: Existem dados faltantes que precisam ser tratados.\")"
   ]
  },
  {
   "cell_type": "markdown",
   "metadata": {},
   "source": [
    "### 3.2 Análise da Variável Target (Categoria)\n",
    "\n",
    "A análise da variável target é crucial para entender:\n",
    "- **Balanceamento das classes**\n",
    "- **Distribuição dos dados**\n",
    "- **Possíveis desafios de classificação**"
   ]
  },
  {
   "cell_type": "code",
   "execution_count": 3,
   "metadata": {},
   "outputs": [
    {
     "name": "stdout",
     "output_type": "stream",
     "text": [
      "🎯 ANÁLISE DA VARIÁVEL TARGET (CATEGORIA)\n",
      "==================================================\n",
      "                    Quantidade  Percentual (%)\n",
      "categoria                                     \n",
      "Produto Defeituoso         513           25.65\n",
      "Atendimento                506           25.30\n",
      "Entrega                    498           24.90\n",
      "Cobrança Indevida          483           24.15\n",
      "\n",
      "📊 ANÁLISE DE BALANCEAMENTO:\n",
      "Classe mais frequente: 25.7%\n",
      "Classe menos frequente: 24.1%\n",
      "Razão de desbalanceamento: 1.06\n",
      "✅ Dataset bem balanceado!\n"
     ]
    }
   ],
   "source": [
    "# Análise da distribuição das categorias\n",
    "print(\"🎯 ANÁLISE DA VARIÁVEL TARGET (CATEGORIA)\")\n",
    "print(\"=\" * 50)\n",
    "\n",
    "categoria_counts = df['categoria'].value_counts()\n",
    "categoria_percent = df['categoria'].value_counts(normalize=True) * 100\n",
    "\n",
    "categoria_analysis = pd.DataFrame({\n",
    "    'Quantidade': categoria_counts,\n",
    "    'Percentual (%)': categoria_percent.round(2)\n",
    "})\n",
    "\n",
    "print(categoria_analysis)\n",
    "\n",
    "# Verificando balanceamento\n",
    "max_class = categoria_percent.max()\n",
    "min_class = categoria_percent.min()\n",
    "balance_ratio = max_class / min_class\n",
    "\n",
    "print(f\"\\n📊 ANÁLISE DE BALANCEAMENTO:\")\n",
    "print(f\"Classe mais frequente: {max_class:.1f}%\")\n",
    "print(f\"Classe menos frequente: {min_class:.1f}%\")\n",
    "print(f\"Razão de desbalanceamento: {balance_ratio:.2f}\")\n",
    "\n",
    "if balance_ratio <= 2:\n",
    "    print(\"✅ Dataset bem balanceado!\")\n",
    "elif balance_ratio <= 4:\n",
    "    print(\"⚠️ Leve desbalanceamento - monitorar performance\")\n",
    "else:\n",
    "    print(\"🚨 Dataset desbalanceado - considerar técnicas de balanceamento\")"
   ]
  },
  {
   "cell_type": "code",
   "execution_count": 4,
   "metadata": {},
   "outputs": [
    {
     "data": {
      "application/vnd.plotly.v1+json": {
       "config": {
        "plotlyServerURL": "https://plot.ly"
       },
       "data": [
        {
         "marker": {
          "color": [
           "#FF6B6B",
           "#4ECDC4",
           "#45B7D1",
           "#96CEB4"
          ]
         },
         "name": "Quantidade",
         "text": {
          "bdata": "AAAAAAAIgEAAAAAAAKB/QAAAAAAAIH9AAAAAAAAwfkA=",
          "dtype": "f8"
         },
         "textposition": "auto",
         "type": "bar",
         "x": [
          "Produto Defeituoso",
          "Atendimento",
          "Entrega",
          "Cobrança Indevida"
         ],
         "xaxis": "x",
         "y": {
          "bdata": "AQL6AfIB4wE=",
          "dtype": "i2"
         },
         "yaxis": "y"
        },
        {
         "domain": {
          "x": [
           0.55,
           1
          ],
          "y": [
           0,
           1
          ]
         },
         "labels": [
          "Produto Defeituoso",
          "Atendimento",
          "Entrega",
          "Cobrança Indevida"
         ],
         "marker": {
          "colors": [
           "#FF6B6B",
           "#4ECDC4",
           "#45B7D1",
           "#96CEB4"
          ]
         },
         "textinfo": "label+percent",
         "type": "pie",
         "values": {
          "bdata": "AQL6AfIB4wE=",
          "dtype": "i2"
         }
        }
       ],
       "layout": {
        "annotations": [
         {
          "font": {
           "size": 16
          },
          "showarrow": false,
          "text": "Distribuição das Categorias",
          "x": 0.225,
          "xanchor": "center",
          "xref": "paper",
          "y": 1,
          "yanchor": "bottom",
          "yref": "paper"
         },
         {
          "font": {
           "size": 16
          },
          "showarrow": false,
          "text": "Distribuição Percentual",
          "x": 0.775,
          "xanchor": "center",
          "xref": "paper",
          "y": 1,
          "yanchor": "bottom",
          "yref": "paper"
         }
        ],
        "height": 500,
        "showlegend": false,
        "template": {
         "data": {
          "bar": [
           {
            "error_x": {
             "color": "#2a3f5f"
            },
            "error_y": {
             "color": "#2a3f5f"
            },
            "marker": {
             "line": {
              "color": "#E5ECF6",
              "width": 0.5
             },
             "pattern": {
              "fillmode": "overlay",
              "size": 10,
              "solidity": 0.2
             }
            },
            "type": "bar"
           }
          ],
          "barpolar": [
           {
            "marker": {
             "line": {
              "color": "#E5ECF6",
              "width": 0.5
             },
             "pattern": {
              "fillmode": "overlay",
              "size": 10,
              "solidity": 0.2
             }
            },
            "type": "barpolar"
           }
          ],
          "carpet": [
           {
            "aaxis": {
             "endlinecolor": "#2a3f5f",
             "gridcolor": "white",
             "linecolor": "white",
             "minorgridcolor": "white",
             "startlinecolor": "#2a3f5f"
            },
            "baxis": {
             "endlinecolor": "#2a3f5f",
             "gridcolor": "white",
             "linecolor": "white",
             "minorgridcolor": "white",
             "startlinecolor": "#2a3f5f"
            },
            "type": "carpet"
           }
          ],
          "choropleth": [
           {
            "colorbar": {
             "outlinewidth": 0,
             "ticks": ""
            },
            "type": "choropleth"
           }
          ],
          "contour": [
           {
            "colorbar": {
             "outlinewidth": 0,
             "ticks": ""
            },
            "colorscale": [
             [
              0,
              "#0d0887"
             ],
             [
              0.1111111111111111,
              "#46039f"
             ],
             [
              0.2222222222222222,
              "#7201a8"
             ],
             [
              0.3333333333333333,
              "#9c179e"
             ],
             [
              0.4444444444444444,
              "#bd3786"
             ],
             [
              0.5555555555555556,
              "#d8576b"
             ],
             [
              0.6666666666666666,
              "#ed7953"
             ],
             [
              0.7777777777777778,
              "#fb9f3a"
             ],
             [
              0.8888888888888888,
              "#fdca26"
             ],
             [
              1,
              "#f0f921"
             ]
            ],
            "type": "contour"
           }
          ],
          "contourcarpet": [
           {
            "colorbar": {
             "outlinewidth": 0,
             "ticks": ""
            },
            "type": "contourcarpet"
           }
          ],
          "heatmap": [
           {
            "colorbar": {
             "outlinewidth": 0,
             "ticks": ""
            },
            "colorscale": [
             [
              0,
              "#0d0887"
             ],
             [
              0.1111111111111111,
              "#46039f"
             ],
             [
              0.2222222222222222,
              "#7201a8"
             ],
             [
              0.3333333333333333,
              "#9c179e"
             ],
             [
              0.4444444444444444,
              "#bd3786"
             ],
             [
              0.5555555555555556,
              "#d8576b"
             ],
             [
              0.6666666666666666,
              "#ed7953"
             ],
             [
              0.7777777777777778,
              "#fb9f3a"
             ],
             [
              0.8888888888888888,
              "#fdca26"
             ],
             [
              1,
              "#f0f921"
             ]
            ],
            "type": "heatmap"
           }
          ],
          "histogram": [
           {
            "marker": {
             "pattern": {
              "fillmode": "overlay",
              "size": 10,
              "solidity": 0.2
             }
            },
            "type": "histogram"
           }
          ],
          "histogram2d": [
           {
            "colorbar": {
             "outlinewidth": 0,
             "ticks": ""
            },
            "colorscale": [
             [
              0,
              "#0d0887"
             ],
             [
              0.1111111111111111,
              "#46039f"
             ],
             [
              0.2222222222222222,
              "#7201a8"
             ],
             [
              0.3333333333333333,
              "#9c179e"
             ],
             [
              0.4444444444444444,
              "#bd3786"
             ],
             [
              0.5555555555555556,
              "#d8576b"
             ],
             [
              0.6666666666666666,
              "#ed7953"
             ],
             [
              0.7777777777777778,
              "#fb9f3a"
             ],
             [
              0.8888888888888888,
              "#fdca26"
             ],
             [
              1,
              "#f0f921"
             ]
            ],
            "type": "histogram2d"
           }
          ],
          "histogram2dcontour": [
           {
            "colorbar": {
             "outlinewidth": 0,
             "ticks": ""
            },
            "colorscale": [
             [
              0,
              "#0d0887"
             ],
             [
              0.1111111111111111,
              "#46039f"
             ],
             [
              0.2222222222222222,
              "#7201a8"
             ],
             [
              0.3333333333333333,
              "#9c179e"
             ],
             [
              0.4444444444444444,
              "#bd3786"
             ],
             [
              0.5555555555555556,
              "#d8576b"
             ],
             [
              0.6666666666666666,
              "#ed7953"
             ],
             [
              0.7777777777777778,
              "#fb9f3a"
             ],
             [
              0.8888888888888888,
              "#fdca26"
             ],
             [
              1,
              "#f0f921"
             ]
            ],
            "type": "histogram2dcontour"
           }
          ],
          "mesh3d": [
           {
            "colorbar": {
             "outlinewidth": 0,
             "ticks": ""
            },
            "type": "mesh3d"
           }
          ],
          "parcoords": [
           {
            "line": {
             "colorbar": {
              "outlinewidth": 0,
              "ticks": ""
             }
            },
            "type": "parcoords"
           }
          ],
          "pie": [
           {
            "automargin": true,
            "type": "pie"
           }
          ],
          "scatter": [
           {
            "fillpattern": {
             "fillmode": "overlay",
             "size": 10,
             "solidity": 0.2
            },
            "type": "scatter"
           }
          ],
          "scatter3d": [
           {
            "line": {
             "colorbar": {
              "outlinewidth": 0,
              "ticks": ""
             }
            },
            "marker": {
             "colorbar": {
              "outlinewidth": 0,
              "ticks": ""
             }
            },
            "type": "scatter3d"
           }
          ],
          "scattercarpet": [
           {
            "marker": {
             "colorbar": {
              "outlinewidth": 0,
              "ticks": ""
             }
            },
            "type": "scattercarpet"
           }
          ],
          "scattergeo": [
           {
            "marker": {
             "colorbar": {
              "outlinewidth": 0,
              "ticks": ""
             }
            },
            "type": "scattergeo"
           }
          ],
          "scattergl": [
           {
            "marker": {
             "colorbar": {
              "outlinewidth": 0,
              "ticks": ""
             }
            },
            "type": "scattergl"
           }
          ],
          "scattermap": [
           {
            "marker": {
             "colorbar": {
              "outlinewidth": 0,
              "ticks": ""
             }
            },
            "type": "scattermap"
           }
          ],
          "scattermapbox": [
           {
            "marker": {
             "colorbar": {
              "outlinewidth": 0,
              "ticks": ""
             }
            },
            "type": "scattermapbox"
           }
          ],
          "scatterpolar": [
           {
            "marker": {
             "colorbar": {
              "outlinewidth": 0,
              "ticks": ""
             }
            },
            "type": "scatterpolar"
           }
          ],
          "scatterpolargl": [
           {
            "marker": {
             "colorbar": {
              "outlinewidth": 0,
              "ticks": ""
             }
            },
            "type": "scatterpolargl"
           }
          ],
          "scatterternary": [
           {
            "marker": {
             "colorbar": {
              "outlinewidth": 0,
              "ticks": ""
             }
            },
            "type": "scatterternary"
           }
          ],
          "surface": [
           {
            "colorbar": {
             "outlinewidth": 0,
             "ticks": ""
            },
            "colorscale": [
             [
              0,
              "#0d0887"
             ],
             [
              0.1111111111111111,
              "#46039f"
             ],
             [
              0.2222222222222222,
              "#7201a8"
             ],
             [
              0.3333333333333333,
              "#9c179e"
             ],
             [
              0.4444444444444444,
              "#bd3786"
             ],
             [
              0.5555555555555556,
              "#d8576b"
             ],
             [
              0.6666666666666666,
              "#ed7953"
             ],
             [
              0.7777777777777778,
              "#fb9f3a"
             ],
             [
              0.8888888888888888,
              "#fdca26"
             ],
             [
              1,
              "#f0f921"
             ]
            ],
            "type": "surface"
           }
          ],
          "table": [
           {
            "cells": {
             "fill": {
              "color": "#EBF0F8"
             },
             "line": {
              "color": "white"
             }
            },
            "header": {
             "fill": {
              "color": "#C8D4E3"
             },
             "line": {
              "color": "white"
             }
            },
            "type": "table"
           }
          ]
         },
         "layout": {
          "annotationdefaults": {
           "arrowcolor": "#2a3f5f",
           "arrowhead": 0,
           "arrowwidth": 1
          },
          "autotypenumbers": "strict",
          "coloraxis": {
           "colorbar": {
            "outlinewidth": 0,
            "ticks": ""
           }
          },
          "colorscale": {
           "diverging": [
            [
             0,
             "#8e0152"
            ],
            [
             0.1,
             "#c51b7d"
            ],
            [
             0.2,
             "#de77ae"
            ],
            [
             0.3,
             "#f1b6da"
            ],
            [
             0.4,
             "#fde0ef"
            ],
            [
             0.5,
             "#f7f7f7"
            ],
            [
             0.6,
             "#e6f5d0"
            ],
            [
             0.7,
             "#b8e186"
            ],
            [
             0.8,
             "#7fbc41"
            ],
            [
             0.9,
             "#4d9221"
            ],
            [
             1,
             "#276419"
            ]
           ],
           "sequential": [
            [
             0,
             "#0d0887"
            ],
            [
             0.1111111111111111,
             "#46039f"
            ],
            [
             0.2222222222222222,
             "#7201a8"
            ],
            [
             0.3333333333333333,
             "#9c179e"
            ],
            [
             0.4444444444444444,
             "#bd3786"
            ],
            [
             0.5555555555555556,
             "#d8576b"
            ],
            [
             0.6666666666666666,
             "#ed7953"
            ],
            [
             0.7777777777777778,
             "#fb9f3a"
            ],
            [
             0.8888888888888888,
             "#fdca26"
            ],
            [
             1,
             "#f0f921"
            ]
           ],
           "sequentialminus": [
            [
             0,
             "#0d0887"
            ],
            [
             0.1111111111111111,
             "#46039f"
            ],
            [
             0.2222222222222222,
             "#7201a8"
            ],
            [
             0.3333333333333333,
             "#9c179e"
            ],
            [
             0.4444444444444444,
             "#bd3786"
            ],
            [
             0.5555555555555556,
             "#d8576b"
            ],
            [
             0.6666666666666666,
             "#ed7953"
            ],
            [
             0.7777777777777778,
             "#fb9f3a"
            ],
            [
             0.8888888888888888,
             "#fdca26"
            ],
            [
             1,
             "#f0f921"
            ]
           ]
          },
          "colorway": [
           "#636efa",
           "#EF553B",
           "#00cc96",
           "#ab63fa",
           "#FFA15A",
           "#19d3f3",
           "#FF6692",
           "#B6E880",
           "#FF97FF",
           "#FECB52"
          ],
          "font": {
           "color": "#2a3f5f"
          },
          "geo": {
           "bgcolor": "white",
           "lakecolor": "white",
           "landcolor": "#E5ECF6",
           "showlakes": true,
           "showland": true,
           "subunitcolor": "white"
          },
          "hoverlabel": {
           "align": "left"
          },
          "hovermode": "closest",
          "mapbox": {
           "style": "light"
          },
          "paper_bgcolor": "white",
          "plot_bgcolor": "#E5ECF6",
          "polar": {
           "angularaxis": {
            "gridcolor": "white",
            "linecolor": "white",
            "ticks": ""
           },
           "bgcolor": "#E5ECF6",
           "radialaxis": {
            "gridcolor": "white",
            "linecolor": "white",
            "ticks": ""
           }
          },
          "scene": {
           "xaxis": {
            "backgroundcolor": "#E5ECF6",
            "gridcolor": "white",
            "gridwidth": 2,
            "linecolor": "white",
            "showbackground": true,
            "ticks": "",
            "zerolinecolor": "white"
           },
           "yaxis": {
            "backgroundcolor": "#E5ECF6",
            "gridcolor": "white",
            "gridwidth": 2,
            "linecolor": "white",
            "showbackground": true,
            "ticks": "",
            "zerolinecolor": "white"
           },
           "zaxis": {
            "backgroundcolor": "#E5ECF6",
            "gridcolor": "white",
            "gridwidth": 2,
            "linecolor": "white",
            "showbackground": true,
            "ticks": "",
            "zerolinecolor": "white"
           }
          },
          "shapedefaults": {
           "line": {
            "color": "#2a3f5f"
           }
          },
          "ternary": {
           "aaxis": {
            "gridcolor": "white",
            "linecolor": "white",
            "ticks": ""
           },
           "baxis": {
            "gridcolor": "white",
            "linecolor": "white",
            "ticks": ""
           },
           "bgcolor": "#E5ECF6",
           "caxis": {
            "gridcolor": "white",
            "linecolor": "white",
            "ticks": ""
           }
          },
          "title": {
           "x": 0.05
          },
          "xaxis": {
           "automargin": true,
           "gridcolor": "white",
           "linecolor": "white",
           "ticks": "",
           "title": {
            "standoff": 15
           },
           "zerolinecolor": "white",
           "zerolinewidth": 2
          },
          "yaxis": {
           "automargin": true,
           "gridcolor": "white",
           "linecolor": "white",
           "ticks": "",
           "title": {
            "standoff": 15
           },
           "zerolinecolor": "white",
           "zerolinewidth": 2
          }
         }
        },
        "title": {
         "text": "📊 Análise da Distribuição das Categorias de Reclamações",
         "x": 0.5
        },
        "xaxis": {
         "anchor": "y",
         "domain": [
          0,
          0.45
         ],
         "title": {
          "text": "Categoria"
         }
        },
        "yaxis": {
         "anchor": "x",
         "domain": [
          0,
          1
         ],
         "title": {
          "text": "Quantidade"
         }
        }
       }
      }
     },
     "metadata": {},
     "output_type": "display_data"
    },
    {
     "ename": "FileNotFoundError",
     "evalue": "[Errno 2] No such file or directory: '\\\\home\\\\ubuntu\\\\distribuicao_categorias.html'",
     "output_type": "error",
     "traceback": [
      "\u001b[31m---------------------------------------------------------------------------\u001b[39m",
      "\u001b[31mFileNotFoundError\u001b[39m                         Traceback (most recent call last)",
      "\u001b[36mCell\u001b[39m\u001b[36m \u001b[39m\u001b[32mIn[4]\u001b[39m\u001b[32m, line 45\u001b[39m\n\u001b[32m     42\u001b[39m fig.show()\n\u001b[32m     44\u001b[39m \u001b[38;5;66;03m# Salvando o gráfico\u001b[39;00m\n\u001b[32m---> \u001b[39m\u001b[32m45\u001b[39m \u001b[43mfig\u001b[49m\u001b[43m.\u001b[49m\u001b[43mwrite_html\u001b[49m\u001b[43m(\u001b[49m\u001b[33;43m\"\u001b[39;49m\u001b[33;43m/home/ubuntu/distribuicao_categorias.html\u001b[39;49m\u001b[33;43m\"\u001b[39;49m\u001b[43m)\u001b[49m\n\u001b[32m     46\u001b[39m \u001b[38;5;28mprint\u001b[39m(\u001b[33m\"\u001b[39m\u001b[33m💾 Gráfico salvo como \u001b[39m\u001b[33m'\u001b[39m\u001b[33mdistribuicao_categorias.html\u001b[39m\u001b[33m'\u001b[39m\u001b[33m\"\u001b[39m)\n",
      "\u001b[36mFile \u001b[39m\u001b[32m~\\AppData\\Local\\Packages\\PythonSoftwareFoundation.Python.3.11_qbz5n2kfra8p0\\LocalCache\\local-packages\\Python311\\site-packages\\plotly\\basedatatypes.py:3706\u001b[39m, in \u001b[36mBaseFigure.write_html\u001b[39m\u001b[34m(self, *args, **kwargs)\u001b[39m\n\u001b[32m   3603\u001b[39m \u001b[38;5;250m\u001b[39m\u001b[33;03m\"\"\"\u001b[39;00m\n\u001b[32m   3604\u001b[39m \u001b[33;03mWrite a figure to an HTML file representation\u001b[39;00m\n\u001b[32m   3605\u001b[39m \n\u001b[32m   (...)\u001b[39m\u001b[32m   3702\u001b[39m \u001b[33;03mNone\u001b[39;00m\n\u001b[32m   3703\u001b[39m \u001b[33;03m\"\"\"\u001b[39;00m\n\u001b[32m   3704\u001b[39m \u001b[38;5;28;01mimport\u001b[39;00m\u001b[38;5;250m \u001b[39m\u001b[34;01mplotly\u001b[39;00m\u001b[34;01m.\u001b[39;00m\u001b[34;01mio\u001b[39;00m\u001b[38;5;250m \u001b[39m\u001b[38;5;28;01mas\u001b[39;00m\u001b[38;5;250m \u001b[39m\u001b[34;01mpio\u001b[39;00m\n\u001b[32m-> \u001b[39m\u001b[32m3706\u001b[39m \u001b[38;5;28;01mreturn\u001b[39;00m \u001b[43mpio\u001b[49m\u001b[43m.\u001b[49m\u001b[43mwrite_html\u001b[49m\u001b[43m(\u001b[49m\u001b[38;5;28;43mself\u001b[39;49m\u001b[43m,\u001b[49m\u001b[43m \u001b[49m\u001b[43m*\u001b[49m\u001b[43margs\u001b[49m\u001b[43m,\u001b[49m\u001b[43m \u001b[49m\u001b[43m*\u001b[49m\u001b[43m*\u001b[49m\u001b[43mkwargs\u001b[49m\u001b[43m)\u001b[49m\n",
      "\u001b[36mFile \u001b[39m\u001b[32m~\\AppData\\Local\\Packages\\PythonSoftwareFoundation.Python.3.11_qbz5n2kfra8p0\\LocalCache\\local-packages\\Python311\\site-packages\\plotly\\io\\_html.py:509\u001b[39m, in \u001b[36mwrite_html\u001b[39m\u001b[34m(fig, file, config, auto_play, include_plotlyjs, include_mathjax, post_script, full_html, animation_opts, validate, default_width, default_height, auto_open, div_id)\u001b[39m\n\u001b[32m    506\u001b[39m \u001b[38;5;66;03m# Write HTML string\u001b[39;00m\n\u001b[32m    507\u001b[39m \u001b[38;5;28;01mif\u001b[39;00m path \u001b[38;5;129;01mis\u001b[39;00m \u001b[38;5;129;01mnot\u001b[39;00m \u001b[38;5;28;01mNone\u001b[39;00m:\n\u001b[32m    508\u001b[39m     \u001b[38;5;66;03m# To use a different file encoding, pass a file descriptor\u001b[39;00m\n\u001b[32m--> \u001b[39m\u001b[32m509\u001b[39m     \u001b[43mpath\u001b[49m\u001b[43m.\u001b[49m\u001b[43mwrite_text\u001b[49m\u001b[43m(\u001b[49m\u001b[43mhtml_str\u001b[49m\u001b[43m,\u001b[49m\u001b[43m \u001b[49m\u001b[33;43m\"\u001b[39;49m\u001b[33;43mutf-8\u001b[39;49m\u001b[33;43m\"\u001b[39;49m\u001b[43m)\u001b[49m\n\u001b[32m    510\u001b[39m \u001b[38;5;28;01melse\u001b[39;00m:\n\u001b[32m    511\u001b[39m     file.write(html_str)\n",
      "\u001b[36mFile \u001b[39m\u001b[32mC:\\Program Files\\WindowsApps\\PythonSoftwareFoundation.Python.3.11_3.11.2544.0_x64__qbz5n2kfra8p0\\Lib\\pathlib.py:1078\u001b[39m, in \u001b[36mPath.write_text\u001b[39m\u001b[34m(self, data, encoding, errors, newline)\u001b[39m\n\u001b[32m   1075\u001b[39m     \u001b[38;5;28;01mraise\u001b[39;00m \u001b[38;5;167;01mTypeError\u001b[39;00m(\u001b[33m'\u001b[39m\u001b[33mdata must be str, not \u001b[39m\u001b[38;5;132;01m%s\u001b[39;00m\u001b[33m'\u001b[39m %\n\u001b[32m   1076\u001b[39m                     data.\u001b[34m__class__\u001b[39m.\u001b[34m__name__\u001b[39m)\n\u001b[32m   1077\u001b[39m encoding = io.text_encoding(encoding)\n\u001b[32m-> \u001b[39m\u001b[32m1078\u001b[39m \u001b[38;5;28;01mwith\u001b[39;00m \u001b[38;5;28;43mself\u001b[39;49m\u001b[43m.\u001b[49m\u001b[43mopen\u001b[49m\u001b[43m(\u001b[49m\u001b[43mmode\u001b[49m\u001b[43m=\u001b[49m\u001b[33;43m'\u001b[39;49m\u001b[33;43mw\u001b[39;49m\u001b[33;43m'\u001b[39;49m\u001b[43m,\u001b[49m\u001b[43m \u001b[49m\u001b[43mencoding\u001b[49m\u001b[43m=\u001b[49m\u001b[43mencoding\u001b[49m\u001b[43m,\u001b[49m\u001b[43m \u001b[49m\u001b[43merrors\u001b[49m\u001b[43m=\u001b[49m\u001b[43merrors\u001b[49m\u001b[43m,\u001b[49m\u001b[43m \u001b[49m\u001b[43mnewline\u001b[49m\u001b[43m=\u001b[49m\u001b[43mnewline\u001b[49m\u001b[43m)\u001b[49m \u001b[38;5;28;01mas\u001b[39;00m f:\n\u001b[32m   1079\u001b[39m     \u001b[38;5;28;01mreturn\u001b[39;00m f.write(data)\n",
      "\u001b[36mFile \u001b[39m\u001b[32mC:\\Program Files\\WindowsApps\\PythonSoftwareFoundation.Python.3.11_3.11.2544.0_x64__qbz5n2kfra8p0\\Lib\\pathlib.py:1044\u001b[39m, in \u001b[36mPath.open\u001b[39m\u001b[34m(self, mode, buffering, encoding, errors, newline)\u001b[39m\n\u001b[32m   1042\u001b[39m \u001b[38;5;28;01mif\u001b[39;00m \u001b[33m\"\u001b[39m\u001b[33mb\u001b[39m\u001b[33m\"\u001b[39m \u001b[38;5;129;01mnot\u001b[39;00m \u001b[38;5;129;01min\u001b[39;00m mode:\n\u001b[32m   1043\u001b[39m     encoding = io.text_encoding(encoding)\n\u001b[32m-> \u001b[39m\u001b[32m1044\u001b[39m \u001b[38;5;28;01mreturn\u001b[39;00m io.open(\u001b[38;5;28mself\u001b[39m, mode, buffering, encoding, errors, newline)\n",
      "\u001b[31mFileNotFoundError\u001b[39m: [Errno 2] No such file or directory: '\\\\home\\\\ubuntu\\\\distribuicao_categorias.html'"
     ]
    }
   ],
   "source": [
    "# Visualização da distribuição das categorias\n",
    "fig = make_subplots(\n",
    "    rows=1, cols=2,\n",
    "    subplot_titles=['Distribuição das Categorias', 'Distribuição Percentual'],\n",
    "    specs=[[{'type': 'bar'}, {'type': 'pie'}]]\n",
    ")\n",
    "\n",
    "# Gráfico de barras\n",
    "fig.add_trace(\n",
    "    go.Bar(\n",
    "        x=categoria_counts.index,\n",
    "        y=categoria_counts.values,\n",
    "        text=categoria_counts.values,\n",
    "        textposition='auto',\n",
    "        name='Quantidade',\n",
    "        marker_color=['#FF6B6B', '#4ECDC4', '#45B7D1', '#96CEB4']\n",
    "    ),\n",
    "    row=1, col=1\n",
    ")\n",
    "\n",
    "# Gráfico de pizza\n",
    "fig.add_trace(\n",
    "    go.Pie(\n",
    "        labels=categoria_counts.index,\n",
    "        values=categoria_counts.values,\n",
    "        textinfo='label+percent',\n",
    "        marker_colors=['#FF6B6B', '#4ECDC4', '#45B7D1', '#96CEB4']\n",
    "    ),\n",
    "    row=1, col=2\n",
    ")\n",
    "\n",
    "fig.update_layout(\n",
    "    title_text=\"📊 Análise da Distribuição das Categorias de Reclamações\",\n",
    "    title_x=0.5,\n",
    "    height=500,\n",
    "    showlegend=False\n",
    ")\n",
    "\n",
    "fig.update_xaxes(title_text=\"Categoria\", row=1, col=1)\n",
    "fig.update_yaxes(title_text=\"Quantidade\", row=1, col=1)\n",
    "\n",
    "fig.show()\n",
    "\n",
    "# Salvando o gráfico\n",
    "fig.write_html(\"/home/ubuntu/distribuicao_categorias.html\")\n",
    "print(\"💾 Gráfico salvo como 'distribuicao_categorias.html'\")"
   ]
  },
  {
   "cell_type": "markdown",
   "metadata": {},
   "source": [
    "### 3.3 Análise das Variáveis Numéricas\n",
    "\n",
    "Vamos analisar as variáveis numéricas para entender:\n",
    "- **Distribuições e outliers**\n",
    "- **Correlações entre variáveis**\n",
    "- **Padrões por categoria**"
   ]
  },
  {
   "cell_type": "code",
   "execution_count": 5,
   "metadata": {},
   "outputs": [
    {
     "name": "stdout",
     "output_type": "stream",
     "text": [
      "📊 ANÁLISE DAS VARIÁVEIS NUMÉRICAS\n",
      "========================================\n",
      "\n",
      "🔍 VALOR_ENVOLVIDO:\n",
      "Média: 450.32\n",
      "Mediana: 277.65\n",
      "Desvio Padrão: 497.55\n",
      "Mínimo: 0.16\n",
      "Máximo: 1994.30\n",
      "Outliers detectados: 176 (8.8%)\n",
      "\n",
      "🔍 TEMPO_RESPOSTA_DIAS:\n",
      "Média: 6.94\n",
      "Mediana: 6.00\n",
      "Desvio Padrão: 4.47\n",
      "Mínimo: 1.00\n",
      "Máximo: 19.90\n",
      "Outliers detectados: 22 (1.1%)\n"
     ]
    }
   ],
   "source": [
    "# Análise das variáveis numéricas\n",
    "numeric_cols = ['valor_envolvido', 'tempo_resposta_dias']\n",
    "\n",
    "print(\"📊 ANÁLISE DAS VARIÁVEIS NUMÉRICAS\")\n",
    "print(\"=\" * 40)\n",
    "\n",
    "for col in numeric_cols:\n",
    "    print(f\"\\n🔍 {col.upper()}:\")\n",
    "    print(f\"Média: {df[col].mean():.2f}\")\n",
    "    print(f\"Mediana: {df[col].median():.2f}\")\n",
    "    print(f\"Desvio Padrão: {df[col].std():.2f}\")\n",
    "    print(f\"Mínimo: {df[col].min():.2f}\")\n",
    "    print(f\"Máximo: {df[col].max():.2f}\")\n",
    "    \n",
    "    # Detectando outliers usando IQR\n",
    "    Q1 = df[col].quantile(0.25)\n",
    "    Q3 = df[col].quantile(0.75)\n",
    "    IQR = Q3 - Q1\n",
    "    lower_bound = Q1 - 1.5 * IQR\n",
    "    upper_bound = Q3 + 1.5 * IQR\n",
    "    \n",
    "    outliers = df[(df[col] < lower_bound) | (df[col] > upper_bound)]\n",
    "    print(f\"Outliers detectados: {len(outliers)} ({len(outliers)/len(df)*100:.1f}%)\")"
   ]
  },
  {
   "cell_type": "code",
   "execution_count": 6,
   "metadata": {},
   "outputs": [
    {
     "data": {
      "application/vnd.plotly.v1+json": {
       "config": {
        "plotlyServerURL": "https://plot.ly"
       },
       "data": [
        {
         "marker": {
          "color": "#FF6B6B"
         },
         "name": "Cobrança Indevida",
         "showlegend": false,
         "type": "box",
         "xaxis": "x",
         "y": {
          "bdata": "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",
          "dtype": "f8"
         },
         "yaxis": "y"
        },
        {
         "marker": {
          "color": "#FF6B6B"
         },
         "name": "Cobrança Indevida",
         "showlegend": false,
         "type": "box",
         "xaxis": "x2",
         "y": {
          "bdata": "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",
          "dtype": "f8"
         },
         "yaxis": "y2"
        },
        {
         "fillcolor": "#FF6B6B",
         "line": {
          "color": "#FF6B6B"
         },
         "name": "Cobrança Indevida",
         "showlegend": false,
         "type": "violin",
         "xaxis": "x3",
         "y": {
          "bdata": "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",
          "dtype": "f8"
         },
         "yaxis": "y3"
        },
        {
         "fillcolor": "#FF6B6B",
         "line": {
          "color": "#FF6B6B"
         },
         "name": "Cobrança Indevida",
         "showlegend": false,
         "type": "violin",
         "xaxis": "x4",
         "y": {
          "bdata": "AAAAAAAAFECamZmZmZkdQJqZmZmZmfk/AAAAAAAA8D+amZmZmZkfQM3MzMzMzARAMzMzMzMzGUCamZmZmZkFQGZmZmZmZvY/ZmZmZmZmIUBmZmZmZmYQQGZmZmZmZhxAmpmZmZmZIUAAAAAAAAAAQJqZmZmZmRlAAAAAAAAAIECamZmZmZkgQJqZmZmZmR9AMzMzMzMzB0CamZmZmZkXQJqZmZmZmQFAMzMzMzMzHUCamZmZmZkiQGZmZmZmZhJAzczMzMzMGEAAAAAAAAD4P83MzMzMzBxAmpmZmZmZ+T9mZmZmZmYUQDMzMzMzMyBAzczMzMzMFEBmZmZmZmYSQM3MzMzMzBJAMzMzMzMz8z8zMzMzMzPzP83MzMzMzBJAMzMzMzMzB0AzMzMzMzMdQGZmZmZmZhBAAAAAAAAAHECamZmZmZkfQM3MzMzMzBBAMzMzMzMzC0AzMzMzMzMhQAAAAAAAAABAZmZmZmZmDkDNzMzMzMwcQDMzMzMzMyJAmpmZmZmZIkDNzMzMzMz0P2ZmZmZmZhBAMzMzMzMzF0CamZmZmZnxPzMzMzMzMyNAMzMzMzMzIkAzMzMzMzMZQJqZmZmZmRdAAAAAAAAAGEDNzMzMzMwgQM3MzMzMzBRAzczMzMzM9D+amZmZmZkJQGZmZmZmZiJAZmZmZmZm/j9mZmZmZmb2P2ZmZmZmZhRAMzMzMzMz+z8zMzMzMzPzP5qZmZmZmRtAzczMzMzMEEDNzMzMzMwIQJqZmZmZmQlAAAAAAAAAEEBmZmZmZmYCQAAAAAAAABRAMzMzMzMzI0AAAAAAAAAMQAAAAAAAABJAmpmZmZmZGUBmZmZmZmYUQM3MzMzMzCJAmpmZmZmZI0BmZmZmZmb+P5qZmZmZmRtAAAAAAAAAEkDNzMzMzMwAQAAAAAAAACFAmpmZmZmZ8T/NzMzMzMwMQM3MzMzMzCJAZmZmZmZmHkAAAAAAAAAAQJqZmZmZmR9AAAAAAAAAHkAAAAAAAAAaQM3MzMzMzBZAzczMzMzMAEAAAAAAAAAIQJqZmZmZmfk/AAAAAAAACECamZmZmZkjQJqZmZmZmQFAZmZmZmZmDkAAAAAAAAAjQM3MzMzMzBZAmpmZmZmZBUDNzMzMzMwjQM3MzMzMzPQ/zczMzMzMEEAAAAAAAADwPwAAAAAAAAhAzczMzMzMIEAAAAAAAAAeQM3MzMzMzCFAzczMzMzMIUAAAAAAAAAEQGZmZmZmZiNAZmZmZmZm9j/NzMzMzMwSQAAAAAAAAPg/AAAAAAAAEkAzMzMzMzMTQDMzMzMzMxlAZmZmZmZm9j8zMzMzMzMRQM3MzMzMzPQ/MzMzMzMzEUBmZmZmZmYaQGZmZmZmZhRAmpmZmZmZIUBmZmZmZmYGQJqZmZmZmSFAzczMzMzMEkDNzMzMzMwMQM3MzMzMzPQ/mpmZmZmZBUAAAAAAAAAYQAAAAAAAAB5AzczMzMzM/D/NzMzMzMwaQJqZmZmZmQVAmpmZmZmZG0BmZmZmZmYiQDMzMzMzMwtAzczMzMzMDEAAAAAAAAAeQGZmZmZmZg5AAAAAAAAAEkBmZmZmZmYSQDMzMzMzMx9AMzMzMzMzI0AzMzMzMzMhQAAAAAAAAAxAmpmZmZmZH0AzMzMzMzMfQM3MzMzMzBZAmpmZmZmZIUAAAAAAAAAcQJqZmZmZmRlAMzMzMzMzHUCamZmZmZkJQDMzMzMzMxNAMzMzMzMzIEBmZmZmZmYOQGZmZmZmZiFAZmZmZmZmFkAzMzMzMzMjQGZmZmZmZgZAMzMzMzMz8z+amZmZmZkFQJqZmZmZmRFAZmZmZmZm9j8zMzMzMzMHQJqZmZmZmRFAzczMzMzMIECamZmZmZkJQM3MzMzMzBBAMzMzMzMz8z+amZmZmZkhQM3MzMzMzAhAZmZmZmZmEEDNzMzMzMwcQDMzMzMzMwNAzczMzMzMAECamZmZmZkZQAAAAAAAAARAMzMzMzMz+z8AAAAAAAAEQJqZmZmZmQ1AmpmZmZmZH0CamZmZmZkFQDMzMzMzMxlAAAAAAAAAIECamZmZmZkbQJqZmZmZmQ1AMzMzMzMzH0DNzMzMzMwgQM3MzMzMzCBAAAAAAAAA+D8zMzMzMzMgQM3MzMzMzAhAmpmZmZmZEUDNzMzMzMwSQM3MzMzMzBZAAAAAAAAA+D+amZmZmZkbQJqZmZmZmSNAmpmZmZmZBUAAAAAAAAAQQM3MzMzMzPQ/ZmZmZmZmFkAAAAAAAAAIQDMzMzMzMwtAZmZmZmZmHEAzMzMzMzMLQM3MzMzMzBpAMzMzMzMzE0DNzMzMzMwWQJqZmZmZmRlAAAAAAAAAIkAzMzMzMzPzP83MzMzMzABAAAAAAAAAHEBmZmZmZmYhQM3MzMzMzPw/zczMzMzM/D9mZmZmZmYgQAAAAAAAACBAmpmZmZmZG0AzMzMzMzMdQGZmZmZmZhBAzczMzMzMBEAzMzMzMzMXQM3MzMzMzCFAAAAAAAAAI0AzMzMzMzMVQAAAAAAAAPg/MzMzMzMzIkCamZmZmZnxP5qZmZmZmQlAAAAAAAAAIkAAAAAAAAAkQM3MzMzMzBhAAAAAAAAAIUBmZmZmZmYOQDMzMzMzMx1AMzMzMzMzGUAzMzMzMzMHQGZmZmZmZhhAAAAAAAAAEkAzMzMzMzMgQJqZmZmZmRFAmpmZmZmZIEAzMzMzMzMjQGZmZmZmZhJAmpmZmZmZHUAAAAAAAAAUQJqZmZmZmRNAMzMzMzMzEUDNzMzMzMwMQGZmZmZmZhRAAAAAAAAAHEAzMzMzMzP7PwAAAAAAACNAZmZmZmZmEkDNzMzMzMweQDMzMzMzMxNAzczMzMzMAEDNzMzMzMwSQGZmZmZmZv4/MzMzMzMzF0BmZmZmZmYaQM3MzMzMzCNAmpmZmZmZ+T+amZmZmZkjQJqZmZmZmRdAmpmZmZmZIkBmZmZmZmYhQM3MzMzMzBRAAAAAAAAAGkAAAAAAAAAMQM3MzMzMzBBAAAAAAAAAI0AzMzMzMzMgQM3MzMzMzB5AmpmZmZmZAUAAAAAAAAAQQM3MzMzMzAhAzczMzMzMAEDNzMzMzMwcQM3MzMzMzBZAmpmZmZmZFUDNzMzMzMwjQJqZmZmZmSBAzczMzMzMIUDNzMzMzMwcQAAAAAAAABpAzczMzMzMFkCamZmZmZkdQJqZmZmZmR9AZmZmZmZm/j8zMzMzMzMLQGZmZmZmZgpAmpmZmZmZI0CamZmZmZkBQAAAAAAAABRAMzMzMzMzHUAAAAAAAAAaQGZmZmZmZvY/ZmZmZmZmGkBmZmZmZmYaQAAAAAAAABBAMzMzMzMzG0AAAAAAAADwP2ZmZmZmZv4/ZmZmZmZmI0BmZmZmZmb+PwAAAAAAAARAAAAAAAAAIkAAAAAAAAAEQGZmZmZmZiFAzczMzMzMBECamZmZmZkbQDMzMzMzMxVAzczMzMzMEkAzMzMzMzMjQM3MzMzMzBZAMzMzMzMzB0CamZmZmZkVQGZmZmZmZiFAZmZmZmZmDkCamZmZmZnxP5qZmZmZmSNAmpmZmZmZ8T+amZmZmZkiQM3MzMzMzCFAAAAAAAAAFkAAAAAAAAAkQGZmZmZmZhRAZmZmZmZmBkCamZmZmZkiQAAAAAAAABZAmpmZmZmZ+T8zMzMzMzMbQDMzMzMzMwdAMzMzMzMz8z8AAAAAAAAcQM3MzMzMzBZAMzMzMzMzIUAAAAAAAAASQJqZmZmZmRFAAAAAAAAABEAAAAAAAAAkQJqZmZmZmSJAmpmZmZmZCUDNzMzMzMwYQAAAAAAAABhAZmZmZmZmDkCamZmZmZkdQAAAAAAAAB5AzczMzMzMHEAzMzMzMzMbQAAAAAAAACFAAAAAAAAAIkBmZmZmZmYjQM3MzMzMzPQ/AAAAAAAADEDNzMzMzMwhQJqZmZmZmfk/ZmZmZmZmFEBmZmZmZmYjQAAAAAAAABBAZmZmZmZmHEDNzMzMzMwcQAAAAAAAABhAzczMzMzMGEBmZmZmZmYQQGZmZmZmZhhAAAAAAAAAAEDNzMzMzMwUQDMzMzMzMxNAzczMzMzMGEBmZmZmZmYOQDMzMzMzMwNAZmZmZmZmIkCamZmZmZkZQDMzMzMzMwNAMzMzMzMzF0BmZmZmZmYgQDMzMzMzMxdAZmZmZmZmGEBmZmZmZmYcQGZmZmZmZiNAzczMzMzM9D8AAAAAAAASQDMzMzMzMwdAmpmZmZmZBUAzMzMzMzP7P2ZmZmZmZvY/zczMzMzMAEAAAAAAAAD4PwAAAAAAABBAAAAAAAAAJECamZmZmZkVQDMzMzMzMwtAZmZmZmZmHkCamZmZmZkgQM3MzMzMzBRAAAAAAAAAI0BmZmZmZmYhQGZmZmZmZiFAZmZmZmZmI0DNzMzMzMwWQDMzMzMzMxNAAAAAAAAACEAzMzMzMzMHQM3MzMzMzPQ/AAAAAAAAEEBmZmZmZmYhQAAAAAAAABZAAAAAAAAAGEDNzMzMzMwUQM3MzMzMzAhAZmZmZmZmIkAzMzMzMzMhQAAAAAAAABBAAAAAAAAAIEBmZmZmZmYWQGZmZmZmZg5AmpmZmZmZ8T9mZmZmZmYCQM3MzMzMzBpAAAAAAAAAHECamZmZmZkNQM3MzMzMzBxAzczMzMzMCECamZmZmZkRQAAAAAAAABJAAAAAAAAAEkAzMzMzMzP7P2ZmZmZmZvY/AAAAAAAAAEDNzMzMzMwAQDMzMzMzMxFAMzMzMzMzIEAzMzMzMzMLQM3MzMzMzAhAmpmZmZmZ8T+amZmZmZkTQJqZmZmZmR9AzczMzMzMIEBmZmZmZmYGQJqZmZmZmSNAzczMzMzMAEDNzMzMzMwEQGZmZmZmZiBAmpmZmZmZI0AAAAAAAAAaQJqZmZmZmfk/AAAAAAAAEEDNzMzMzMwjQAAAAAAAAPg/mpmZmZmZE0DNzMzMzMwIQM3MzMzMzBRAzczMzMzMDEAzMzMzMzMjQGZmZmZmZgJAAAAAAAAAFkDNzMzMzMwSQDMzMzMzMxtAMzMzMzMzIkAzMzMzMzPzP2ZmZmZmZh5AMzMzMzMzD0AzMzMzMzMhQAAAAAAAABJAmpmZmZmZ+T9mZmZmZmYeQJqZmZmZmSFAAAAAAAAAIkCamZmZmZn5P2ZmZmZmZg5A",
          "dtype": "f8"
         },
         "yaxis": "y4"
        },
        {
         "marker": {
          "color": "#4ECDC4"
         },
         "name": "Atendimento",
         "showlegend": false,
         "type": "box",
         "xaxis": "x",
         "y": {
          "bdata": "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",
          "dtype": "f8"
         },
         "yaxis": "y"
        },
        {
         "marker": {
          "color": "#4ECDC4"
         },
         "name": "Atendimento",
         "showlegend": false,
         "type": "box",
         "xaxis": "x2",
         "y": {
          "bdata": "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",
          "dtype": "f8"
         },
         "yaxis": "y2"
        },
        {
         "fillcolor": "#4ECDC4",
         "line": {
          "color": "#4ECDC4"
         },
         "name": "Atendimento",
         "showlegend": false,
         "type": "violin",
         "xaxis": "x3",
         "y": {
          "bdata": "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",
          "dtype": "f8"
         },
         "yaxis": "y3"
        },
        {
         "fillcolor": "#4ECDC4",
         "line": {
          "color": "#4ECDC4"
         },
         "name": "Atendimento",
         "showlegend": false,
         "type": "violin",
         "xaxis": "x4",
         "y": {
          "bdata": "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",
          "dtype": "f8"
         },
         "yaxis": "y4"
        },
        {
         "marker": {
          "color": "#45B7D1"
         },
         "name": "Entrega",
         "showlegend": false,
         "type": "box",
         "xaxis": "x",
         "y": {
          "bdata": "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",
          "dtype": "f8"
         },
         "yaxis": "y"
        },
        {
         "marker": {
          "color": "#45B7D1"
         },
         "name": "Entrega",
         "showlegend": false,
         "type": "box",
         "xaxis": "x2",
         "y": {
          "bdata": "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",
          "dtype": "f8"
         },
         "yaxis": "y2"
        },
        {
         "fillcolor": "#45B7D1",
         "line": {
          "color": "#45B7D1"
         },
         "name": "Entrega",
         "showlegend": false,
         "type": "violin",
         "xaxis": "x3",
         "y": {
          "bdata": "uB6F61GEcECuR+F6FFJ/QI/C9Shcn3pAzczMzMyIcEBxPQrXo7R5QIXrUbgenWZA16NwPQrhhEDsUbgehT2EQFyPwvUovFNAj8L1KFxHgEBSuB6F63+GQJqZmZmZE4JAKVyPwvUQekDhehSuR117QNejcD0KLYZAzczMzMykeUCPwvUoXLNwQFyPwvUoXEhAw/UoXI8yiEBI4XoUrhN2QB+F61G4AnpAXI/C9ShIeEApXI/C9RBhQKRwPQrXa2RAj8L1KFw7gUBcj8L1KDx9QLgehetRiFdAmpmZmZk5aEDD9Shcj1aHQDMzMzMzk1dAmpmZmZnjgkCF61G4HgVWQIXrUbgexWxASOF6FK6Rh0B7FK5H4Y55QIXrUbgelXlA7FG4HoVLZUC4HoXrURBvQHE9CtejNIVAMzMzMzOZhEApXI/C9UyHQK5H4XoUdINAzczMzMwcYUB7FK5H4RKEQFK4HoXrlYZAj8L1KFzHgkDD9ShcjzplQNejcD0K51pAKVyPwvXyg0AK16NwPbpkQGZmZmZmynBAMzMzMzNRgkBcj8L1KKiFQFyPwvUovGhAUrgehes5YUA9CtejcKeHQNejcD0KJ1lACtejcD1KQECkcD0K1yeCQB+F61G4LlBAH4XrUbjshEA9CtejcBeAQM3MzMzM7odAmpmZmZmtgUAAAAAAABSFQD0K16NwBW9A7FG4HoXDY0BSuB6F632FQDMzMzMzm2VApHA9Ctc3iEDsUbgehcN0QFK4HoXrlXtAmpmZmZlpX0DXo3A9Cld/QPYoXI/CoYJA4XoUrke5fUD2KFyPwilzQArXo3A94mNASOF6FK7be0D2KFyPwi1nQDMzMzMzs0pAhetRuB51dUAK16NwPS54QNejcD0Kb2tAw/UoXI8+h0D2KFyPwqlwQI/C9ShcL2VAcT0K16PUh0CkcD0K1+NZQFyPwvUo5IhApHA9CtcTiEBmZmZmZoyIQM3MzMzMGIFA9ihcj8KlU0AK16NwPf55QOF6FK5HgWBA4XoUrkeNhkAzMzMzM8uEQKRwPQrXe25ACtejcD1uc0AUrkfheiyAQKRwPQrXn4dAzczMzMxSh0CkcD0K13d0QHE9CtejnIdA4XoUrkdRV0CF61G4HtVUQOxRuB6F531A16NwPQrXT0DhehSuR9GIQI/C9Shc23xAhetRuB5JcEApXI/C9ahjQMP1KFyPoINASOF6FK7bhED2KFyPwmeFQD0K16NwV4RAuB6F61HshUApXI/C9ehFQPYoXI/CdUlA7FG4HoVbbkA9CtejcFlzQJqZmZmZHXRAXI/C9SgIh0AAAAAAAKCGQOxRuB6FXYRApHA9Cte9gkDsUbgehYd2QBSuR+F6FoZArkfhehSieEDsUbgehWOGQD0K16NwIX9Aj8L1KFzvVkCF61G4HrVeQMP1KFyPkoVAmpmZmZl5YUDXo3A9CjuBQD0K16Nw/UdASOF6FK4/d0D2KFyPwoV8QJqZmZmZAYBAhetRuB5FTEAAAAAAAKh9QLgehetRiFxAKVyPwvVoQkD2KFyPwg1wQK5H4XoUOIZA7FG4HoXrh0BI4XoUrvd5QArXo3A9BoJAexSuR+F6R0D2KFyPwlVqQBSuR+F6woRAmpmZmZlBYECamZmZmdFjQM3MzMzM3FxAFK5H4Xo0VkAAAAAAAER8QFK4HoXru4dASOF6FK5ncECkcD0K1xeIQPYoXI/CBYRAXI/C9Si0ZkDNzMzMzEh9QAAAAAAA0INA9ihcj8JhhECuR+F6FI5vQHsUrkfhcnZAexSuR+EacECF61G4HiVmQD0K16NwM4NACtejcD0ggkBSuB6F62FeQEjhehSu43BAMzMzMzOzSEDNzMzMzEiIQAAAAAAALHxA7FG4HoUbhEAK16NwPfqEQArXo3A9lodAmpmZmZlZW0CF61G4HgVmQK5H4XoUroFAzczMzMyMekCuR+F6FO5mQNejcD0KF0VAj8L1KFw7hkBxPQrXowB1QD0K16NwlW9ArkfhehSme0AUrkfheiaAQKRwPQrXE4NAFK5H4XpkVEDhehSuRzuIQOxRuB6FW3dAexSuR+HAg0Bcj8L1KIRmQGZmZmZmMn5AXI/C9Sjeg0BxPQrXo6hoQOF6FK5H+4BAXI/C9SjygUA9CtejcP1NQJqZmZmZPYFAMzMzMzMDZUBI4XoUrsdXQOF6FK5HbYhA7FG4HoUlhEAAAAAAANSEQEjhehSuH2RACtejcD0id0AUrkfhegh7QIXrUbgeuXdAAAAAAADEfEA9CtejcM1RQM3MzMzMwodAUrgehevLhkB7FK5H4ZJpQFyPwvUoAoBAKVyPwvUEdkAzMzMzMy93QDMzMzMza2NAH4XrUbgCekBcj8L1KMCFQD0K16NwDXdAj8L1KFyHaUDhehSuR++DQM3MzMzMmohAUrgehevBaEC4HoXrURxxQKRwPQrXc31AzczMzMx2gkAzMzMzMwuDQKRwPQrX93FAKVyPwvVoUkApXI/C9Yx2QLgehetRkHlAXI/C9Sh0b0CF61G4HjVXQB+F61G4IIFAFK5H4XoccEDNzMzMzBKCQArXo3A9MnhAmpmZmZkngECuR+F6FA5+QGZmZmZmDn5A7FG4HoUXfEApXI/C9dSBQI/C9Shc53lASOF6FK6bgkAK16NwPdKEQClcj8L1tHhAMzMzMzPzTkAzMzMzM7dyQBSuR+F6vIJAFK5H4XpwhECamZmZmf16QHE9Ctej6ohApHA9CteBgkBcj8L1KIaHQI/C9Shc2YRAw/UoXI86cUAfhetRuJJ4QBSuR+F6aH1A9ihcj8JVREDNzMzMzPxoQDMzMzMz63BASOF6FK5PZUCkcD0K1wODQDMzMzMzrYhAUrgehevxhUAUrkfherRoQArXo3A9EmlAZmZmZmaWZkBxPQrXo2hnQFK4HoXr6XNAMzMzMzOzTEBmZmZmZgZmQJqZmZmZs4VA7FG4HoXZhEBmZmZmZkKEQClcj8L14GNAuB6F61GYT0DXo3A9CldhQNejcD0KF2VAZmZmZmb+dEBmZmZmZvZcQLgehetRoH5ArkfhehQac0CuR+F6FI5xQNejcD0K3YVACtejcD0ibkC4HoXrUXBlQGZmZmZmQnpA7FG4HoWncUAfhetRuG5/QClcj8L1/IJAuB6F61HchEDsUbgehT2CQIXrUbgeiXJAFK5H4XrkgkBSuB6F6/l/QNejcD0KV2dA4XoUrkdBTEAAAAAAAHKHQGZmZmZmpnNAw/UoXI+2gUAAAAAAAABjQB+F61G4vmNAH4XrUbh+X0DsUbgehcd9QPYoXI/C/XFAH4XrUbjuWEBxPQrXo0R9QEjhehSuY4VAFK5H4XpgekBmZmZmZoJwQNejcD0KB4NArkfhehTOcEBI4XoUrpdsQD0K16NwfUhAj8L1KFxrdkApXI/C9ZBnQGZmZmZm/nBA9ihcj8Lrg0BxPQrXoyBoQK5H4XoU6nJAj8L1KFyHaUC4HoXrUUhWQJqZmZmZvYZAexSuR+GCakBmZmZmZmZyQHsUrkfhZodApHA9Ctebb0DsUbgehU+EQIXrUbgeZURA9ihcj8KfgkAUrkfheoyEQBSuR+F6lG9A9ihcj8IdgUBI4XoUrud3QPYoXI/CSXtApHA9CtdnekB7FK5H4SKDQNejcD0KN15AH4XrUbgmh0AUrkfhehCFQBSuR+F6NHNAuB6F61FYYUB7FK5H4fo+QKRwPQrX3YZACtejcD26ckBI4XoUrtuBQHsUrkfhGntApHA9Ctdlh0CuR+F6FE5vQIXrUbge7XdAXI/C9Sj6hkApXI/C9QqIQB+F61G4RnBA7FG4HoVFg0CamZmZmblZQAAAAAAAaoJA9ihcj8Lde0BxPQrXozBzQArXo3A9KlRApHA9CtcTWEDXo3A9Clt0QHE9CtejuHhAH4XrUbjAg0BmZmZmZm51QHE9Ctej8FdAPQrXo3D9dUBxPQrXo2BiQBSuR+F6CoNAexSuR+ESb0C4HoXrUXhaQM3MzMzMVH5ASOF6FK6lh0AUrkfheoRkQI/C9Shc34VACtejcD1eeECamZmZmbl2QD0K16NwW4dAcT0K16OAWUApXI/C9Sx2QDMzMzMz62pAFK5H4Xq+gkAzMzMzM3d3QDMzMzMzN3pAj8L1KFyvS0CamZmZmQOIQHsUrkfh6oBAKVyPwvVIeUDsUbgehRODQFK4HoXrAW1A7FG4HoUDaECamZmZmflaQHE9CtejroFAzczMzMzMhEBmZmZmZi5mQK5H4XoU/oVArkfhehQKf0CuR+F6FDJwQI/C9ShcV4hAH4XrUbg+T0AUrkfhejyDQJqZmZmZqWRAexSuR+GKgUAK16NwPZyEQOF6FK5H+YhA9ihcj8IVQkB7FK5H4RpXQD0K16Nw5XxAmpmZmZk5XUCkcD0K1wt+QHE9Ctej5oRAKVyPwvXogECkcD0K14NNQKRwPQrXN3BAXI/C9SgagUBmZmZmZkJ3QAAAAAAAqIVA4XoUrkefhkAzMzMzM4txQIXrUbgexX1AexSuR+EaeECPwvUoXA2CQFyPwvUoDFJArkfhehRUhECuR+F6FBqCQDMzMzMza3lAFK5H4XpSgUCkcD0K1z+CQClcj8L1OGlA4XoUrkfhaUBxPQrXo7yGQK5H4XoUsnVAw/UoXI8ohkBcj8L1KKCIQK5H4XoUgnVAPQrXo3D9UEDhehSuR6F4QDMzMzMz54BAPQrXo3A1bkBSuB6F6/+DQFK4HoXrJ4FArkfhehREhEAUrkfhesxrQOxRuB6FVYRACtejcD2SbUD2KFyPws+HQOF6FK5H7XBAuB6F61HQe0BSuB6F6zFlQFK4HoXr4V9AMzMzMzN7dUCuR+F6FO5bQI/C9ShcE4BAKVyPwvVof0DXo3A9CndHQB+F61G4in9ACtejcD1KckCuR+F6FCJ/QI/C9ShcO4hAhetRuB5xeUBI4XoUrmeGQJqZmZmZmVNA4XoUrkfBWEDNzMzMzKx9QGZmZmZmunBAhetRuB6FR0Bcj8L1KMiGQHsUrkfhmnpAj8L1KFy/YEDNzMzMzD6IQArXo3A9SoRAPQrXo3B9b0DhehSuRw2HQFyPwvUoqIVAFK5H4XqcckA9CtejcOeIQI/C9ShcH4ZAMzMzMzMFgkCPwvUoXPdvQPYoXI/CwYRACtejcD2ydEBcj8L1KLh+QJqZmZmZSV9Aw/UoXI/KgEDD9Shcj46CQJqZmZmZYXpAH4XrUbjuYEAK16NwPQiAQMP1KFyPZnBAw/UoXI+0g0BmZmZmZhSHQClcj8L1CGtA",
          "dtype": "f8"
         },
         "yaxis": "y3"
        },
        {
         "fillcolor": "#45B7D1",
         "line": {
          "color": "#45B7D1"
         },
         "name": "Entrega",
         "showlegend": false,
         "type": "violin",
         "xaxis": "x4",
         "y": {
          "bdata": "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",
          "dtype": "f8"
         },
         "yaxis": "y4"
        },
        {
         "marker": {
          "color": "#96CEB4"
         },
         "name": "Produto Defeituoso",
         "showlegend": false,
         "type": "box",
         "xaxis": "x",
         "y": {
          "bdata": "16NwPQo/cUC4HoXrUYOWQD0K16NwMpNAuB6F61HzlUB7FK5H4ZaLQKRwPQrXV5BAzczMzMwihkDsUbgehYWVQB+F61G4OI5AAAAAAABtlUAfhetRuOJzQArXo3A9g5tAuB6F61HfmkBxPQrXo7WYQJqZmZmZKZVAFK5H4XoeiEAK16NwPeyBQGZmZmZm9llAH4XrUbheW0D2KFyPwg1rQJqZmZmZIW1AmpmZmZlDl0A9CtejcEVxQIXrUbgedY5Aj8L1KFyKnUA9CtejcHedQIXrUbgeRW1A16NwPQqGmkBSuB6F6weLQClcj8L1LJBA7FG4HoWknUAUrkfhejGSQAAAAAAABJZAKVyPwvU4iUDsUbgehWtqQHE9CtejooBA4XoUrkc+lUA9CtejcA6bQClcj8L1HpVApHA9CtfTcUBxPQrXo+mTQJqZmZmZF5FAmpmZmZkzh0DhehSuR8F1QB+F61G4qIpAUrgehes0nUBI4XoUrjeHQD0K16NwUpZASOF6FK6JlkBSuB6F6xKZQB+F61G41n5AUrgehesAm0Bcj8L1KERmQOxRuB6FB4ZAj8L1KFzrkECkcD0K10GKQClcj8L1CZJAZmZmZmZClkAUrkfhejRpQI/C9ShcF5dApHA9CtfTXkAUrkfher2YQIXrUbge+55ACtejcD3HkEBI4XoUrpCRQEjhehSurptApHA9CtepkED2KFyPwg2DQClcj8L1ZIFASOF6FK7QmECuR+F6FF5kQAAAAAAAVJhACtejcD0rnkApXI/C9QWcQGZmZmZmkJZAhetRuB41VUAfhetRuOZlQEjhehSueYRAKVyPwvV0k0CuR+F6FA6eQArXo3A9/pJAKVyPwvUFk0AzMzMzM/OMQArXo3A9fI5AuB6F61EQeUDXo3A9CsCVQBSuR+F64pVA9ihcj8LNhkA9CtejcIybQIXrUbges5lAZmZmZmamU0AAAAAAADBQQHE9Ctej+G5AKVyPwvVOgkCuR+F6FJp3QM3MzMzMSoJAw/UoXI9EhUBI4XoUrpiQQJqZmZmZmJtAj8L1KFybgkAfhetRuO58QGZmZmZmypNAH4XrUbhuc0AfhetRuEKAQOxRuB6F6p1ASOF6FK4FjUD2KFyPwoGVQJqZmZmZOJlAFK5H4XouiUCamZmZmW+aQFK4HoXrLXNA4XoUrkcHikCPwvUoXHOVQArXo3A9+JVAH4XrUbgCjECamZmZmTyZQD0K16Nw5WlAH4XrUbgeYUA9CtejcIVlQIXrUbgenYpApHA9CtcHcUApXI/C9c2WQD0K16NwmJ1AXI/C9ShgdkDXo3A9Ch2ZQDMzMzMzKZ9AMzMzMzO+mUBSuB6F68OGQOxRuB6Fg3JAH4XrUbj2Z0CamZmZmXGKQNejcD0Ki55A9ihcj8Lrg0BxPQrXoyBtQOF6FK5Hh5xAcT0K16PQmEDD9Shcj22cQHsUrkfhK5pAMzMzMzNJjEAUrkfhevqQQI/C9ShczZlAPQrXo3B5hkCPwvUoXLyaQJqZmZmZCZtAw/UoXI/BlUBI4XoUrudYQM3MzMzM+H5AAAAAAAAOiUCuR+F6FD6QQOxRuB6FuYZAZmZmZmYMl0Bcj8L1KGqcQIXrUbge/ptAH4XrUbhXl0DsUbgehUtvQGZmZmZmUpZArkfhehT4l0BI4XoUrvGPQOF6FK5HtZZAH4XrUbibmECPwvUoXGdgQIXrUbge2YFAUrgehesZjED2KFyPwlV+QDMzMzMzQ2ZAj8L1KFz8nkC4HoXrURBoQFK4HoXrC5hA4XoUrkfDl0BSuB6F67uTQD0K16Nw44pAhetRuB54nkDNzMzMzJaOQKRwPQrXfJlA9ihcj8JGmEDD9Shcj7OQQHsUrkfhyZ5AUrgehevrlECF61G4HruBQM3MzMzMEIhA16NwPQr+lkBI4XoUrnN0QArXo3A9uolApHA9CtelikDhehSuR5+AQFyPwvUoTGhAzczMzMz9kkAfhetRuP51QNejcD0K/31ArkfhehTygUCF61G4Hv+PQB+F61G4wnBAMzMzMzOlm0CPwvUoXKt2QArXo3A9Yo9AZmZmZmYchkBmZmZmZnaOQDMzMzMzpJtAKVyPwvV5mkDhehSuR2yQQDMzMzMzOpNAZmZmZmY/m0D2KFyPwo+MQMP1KFyPL5pASOF6FK63ckB7FK5H4cGaQNejcD0K1ZRAAAAAAABtlEAUrkfheuaeQKRwPQrXq5FAXI/C9Sj0dUC4HoXrUVSVQFK4HoXrI59AFK5H4XrinEDsUbgehTmaQD0K16NwXWBASOF6FK5TjUCuR+F6FByMQFK4HoXrG4NApHA9CtdGnEAUrkfheluSQI/C9ShcxJVAUrgehev/iEAK16NwPTudQOF6FK5Hi45ApHA9CteAmkDhehSuRwKSQKRwPQrXA15AexSuR+H8jEAzMzMzM7N6QGZmZmZmEpxAzczMzMz8b0A9CtejcKeUQIXrUbgeFZ1AmpmZmZmpckBmZmZmZnZvQHE9CtejR5NArkfhehTyc0ApXI/C9VyPQD0K16NwTYRAhetRuB5tckDXo3A9Cn2TQB+F61G4O5tAuB6F61FdnkBSuB6F60FXQDMzMzMzpYJA16NwPQq3fUApXI/C9cCZQI/C9Shcw35ApHA9Cte8nEDNzMzMzJSQQOxRuB6F/JZA9ihcj8JqkEDhehSuR5GcQMP1KFyPso9AXI/C9SisZkAUrkfhejOdQFyPwvUoWJVASOF6FK49gkAK16NwPbCXQHsUrkfh8ZhAexSuR+HhlkAzMzMzM5GeQDMzMzMzo2VAAAAAAACpnEBSuB6F60yXQKRwPQrXVphAj8L1KFyXf0Bcj8L1KJqPQFK4HoXr9pdAw/UoXI8SeECPwvUoXP98QHE9CtejzZ1AexSuR+FPl0AK16NwPUKCQM3MzMzMrI5AuB6F61HymUBxPQrXoxh7QKRwPQrX55tAFK5H4Xpyl0CuR+F6FBSeQBSuR+F6fpxAexSuR+FkhkDhehSuR0+VQLgehetR2HlAmpmZmZn4kEC4HoXrUeSaQFyPwvUopHFAMzMzMzNneEApXI/C9YiSQDMzMzMzw25Aj8L1KFyolUDsUbgehS93QOF6FK5HmJVAAAAAAAC4e0DhehSuRx+KQArXo3A95pNApHA9CtfZkkDhehSuR16SQPYoXI/CFVBAexSuR+EWmUAK16NwPQJnQNejcD0K23JA7FG4HoWdjUA9CtejcEudQBSuR+F6r5JAj8L1KFwvcUDD9Shcj+edQOF6FK5HdYFA9ihcj8JrhEBSuB6F621zQJqZmZmZ4YFAPQrXo3BpeUAzMzMzM3qYQHsUrkfh5oVAFK5H4XoAkEBcj8L1KOiAQKRwPQrXA5pA9ihcj8KNhEBcj8L1KKyeQClcj8L1N5VAhetRuB4Vb0B7FK5H4W+dQI/C9Shct2pAMzMzMzOLhkAAAAAAABx9QAAAAAAAmIdACtejcD2lmUCF61G4HmaSQEjhehSutpxAj8L1KFz9g0AK16NwPWppQPYoXI/CIJ9AmpmZmZmdikDhehSuR32ZQHE9CtejUJ1A16NwPQoSkkDsUbgehbWZQMP1KFyPIo9ASOF6FK5cm0AK16NwPZOQQIXrUbgeIJ5AMzMzMzObf0A9CtejcG2QQFK4HoXrlJpA16NwPQpBhUBI4XoUrn2IQD0K16NwkpRA16NwPQrvhkDNzMzMzASSQFyPwvUoVIpAexSuR+G4lkCamZmZmUucQGZmZmZmhZFA4XoUrkfHnUC4HoXrUchaQNejcD0Kd4dAAAAAAACilkApXI/C9VSZQOF6FK5HLplAw/UoXI9KeEBxPQrXo/6RQKRwPQrXP3RA16NwPQopiUCPwvUoXJuTQPYoXI/C04dAFK5H4XqkUEAzMzMzMy+UQIXrUbgeaXpAhetRuB5DlEC4HoXrUYaXQB+F61G4ZmBA9ihcj8L9iUDNzMzMzB+ZQHE9Ctej0ExAMzMzMzOpm0AK16NwPR6TQK5H4XoUAJdAw/UoXI+QikAK16NwPQWZQOxRuB6FMZ1A7FG4HoWikECamZmZmRFrQOF6FK5HfYVAhetRuB4cl0AAAAAAAN+UQFK4HoXrz5dA7FG4HoXrXkAK16NwPZOeQGZmZmZmj5RAPQrXo3Cpm0CPwvUoXIqbQD0K16NwiJxA9ihcj8LFYEB7FK5H4fZ/QK5H4XoU3m9AXI/C9SiEhEAzMzMzM7SXQJqZmZmZKpVAUrgehevBlEDsUbgehdmZQI/C9ShcZJlAzczMzMywjkCF61G4HumCQOxRuB6FiJhApHA9CtdSnEBxPQrXozGVQFK4HoXrV4ZAFK5H4XrUm0BxPQrXow+aQHE9CtejqJNApHA9Ctdzm0B7FK5H4aqaQHE9CtejEHdACtejcD2elUA9CtejcGOLQI/C9ShciplACtejcD0ihEAK16NwPfiHQNejcD0KB41AUrgehevDkUDsUbgehTOMQIXrUbgeI59AhetRuB4+m0DD9Shcj46ZQDMzMzMz8ppAPQrXo3BSkUAzMzMzM7+RQHsUrkfh+IhAKVyPwvUFnEDsUbgehRGRQKRwPQrXc3FApHA9Ctcrl0BmZmZmZtGTQM3MzMzMbJBAMzMzMzMtlUCkcD0K13eCQPYoXI/Cl4JAMzMzMzNjikBI4XoUrlqZQB+F61G4cpJAUrgehevTkUCF61G4HmOaQArXo3A9npdApHA9Ctc8nUDsUbgehdWeQB+F61G4CIZAmpmZmZlBfEApXI/C9fR/QArXo3A9xI9AH4XrUbgYnEBxPQrXo5hrQIXrUbgeZW1AXI/C9SgMgkDD9Shcj9CMQMP1KFyPQoJAKVyPwvWofECuR+F6FLqWQK5H4XoUGpJAMzMzMzPfcEBSuB6F6xFyQJqZmZmZaXRAexSuR+EShUBcj8L1KDxJQK5H4XoUEoRAPQrXo3D9YkCamZmZmVltQArXo3A9H59AMzMzMzP3hUCPwvUoXBuBQLgehetRxZJAuB6F61FoWECkcD0K13iZQJqZmZmZaWhApHA9CtfpnUBI4XoUrkWVQNejcD0Kp3BAhetRuB4JkkApXI/C9YBmQDMzMzMz4YRA9ihcj8KhfECPwvUoXLeIQPYoXI/CGYtASOF6FK7KnkC4HoXrUSRxQB+F61G4HZ9AcT0K16MunUBcj8L1KNyFQFyPwvUoQ5tAj8L1KFywnEDhehSuR36WQB+F61G46ZxAFK5H4Xpsi0BSuB6F6z+OQFyPwvUofHdAMzMzMzMynkCamZmZmWyYQHsUrkfhCotAMzMzMzOHf0BSuB6F63FWQEjhehSuy4tAmpmZmZk1hEAzMzMzM5+UQHE9CtejZ5lAw/UoXI/mk0CamZmZmXOXQIXrUbgeQYdAuB6F61HsgEBSuB6F6zeGQClcj8L1TIFAzczMzMyMmkDD9Shcj+uXQClcj8L1iIFA",
          "dtype": "f8"
         },
         "yaxis": "y"
        },
        {
         "marker": {
          "color": "#96CEB4"
         },
         "name": "Produto Defeituoso",
         "showlegend": false,
         "type": "box",
         "xaxis": "x2",
         "y": {
          "bdata": "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",
          "dtype": "f8"
         },
         "yaxis": "y2"
        },
        {
         "fillcolor": "#96CEB4",
         "line": {
          "color": "#96CEB4"
         },
         "name": "Produto Defeituoso",
         "showlegend": false,
         "type": "violin",
         "xaxis": "x3",
         "y": {
          "bdata": "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",
          "dtype": "f8"
         },
         "yaxis": "y3"
        },
        {
         "fillcolor": "#96CEB4",
         "line": {
          "color": "#96CEB4"
         },
         "name": "Produto Defeituoso",
         "showlegend": false,
         "type": "violin",
         "xaxis": "x4",
         "y": {
          "bdata": "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",
          "dtype": "f8"
         },
         "yaxis": "y4"
        }
       ],
       "layout": {
        "annotations": [
         {
          "font": {
           "size": 16
          },
          "showarrow": false,
          "text": "Distribuição do Valor Envolvido por Categoria",
          "x": 0.225,
          "xanchor": "center",
          "xref": "paper",
          "y": 1,
          "yanchor": "bottom",
          "yref": "paper"
         },
         {
          "font": {
           "size": 16
          },
          "showarrow": false,
          "text": "Distribuição do Tempo de Resposta por Categoria",
          "x": 0.775,
          "xanchor": "center",
          "xref": "paper",
          "y": 1,
          "yanchor": "bottom",
          "yref": "paper"
         },
         {
          "font": {
           "size": 16
          },
          "showarrow": false,
          "text": "Boxplot - Valor Envolvido",
          "x": 0.225,
          "xanchor": "center",
          "xref": "paper",
          "y": 0.375,
          "yanchor": "bottom",
          "yref": "paper"
         },
         {
          "font": {
           "size": 16
          },
          "showarrow": false,
          "text": "Boxplot - Tempo de Resposta",
          "x": 0.775,
          "xanchor": "center",
          "xref": "paper",
          "y": 0.375,
          "yanchor": "bottom",
          "yref": "paper"
         }
        ],
        "height": 800,
        "template": {
         "data": {
          "bar": [
           {
            "error_x": {
             "color": "#2a3f5f"
            },
            "error_y": {
             "color": "#2a3f5f"
            },
            "marker": {
             "line": {
              "color": "#E5ECF6",
              "width": 0.5
             },
             "pattern": {
              "fillmode": "overlay",
              "size": 10,
              "solidity": 0.2
             }
            },
            "type": "bar"
           }
          ],
          "barpolar": [
           {
            "marker": {
             "line": {
              "color": "#E5ECF6",
              "width": 0.5
             },
             "pattern": {
              "fillmode": "overlay",
              "size": 10,
              "solidity": 0.2
             }
            },
            "type": "barpolar"
           }
          ],
          "carpet": [
           {
            "aaxis": {
             "endlinecolor": "#2a3f5f",
             "gridcolor": "white",
             "linecolor": "white",
             "minorgridcolor": "white",
             "startlinecolor": "#2a3f5f"
            },
            "baxis": {
             "endlinecolor": "#2a3f5f",
             "gridcolor": "white",
             "linecolor": "white",
             "minorgridcolor": "white",
             "startlinecolor": "#2a3f5f"
            },
            "type": "carpet"
           }
          ],
          "choropleth": [
           {
            "colorbar": {
             "outlinewidth": 0,
             "ticks": ""
            },
            "type": "choropleth"
           }
          ],
          "contour": [
           {
            "colorbar": {
             "outlinewidth": 0,
             "ticks": ""
            },
            "colorscale": [
             [
              0,
              "#0d0887"
             ],
             [
              0.1111111111111111,
              "#46039f"
             ],
             [
              0.2222222222222222,
              "#7201a8"
             ],
             [
              0.3333333333333333,
              "#9c179e"
             ],
             [
              0.4444444444444444,
              "#bd3786"
             ],
             [
              0.5555555555555556,
              "#d8576b"
             ],
             [
              0.6666666666666666,
              "#ed7953"
             ],
             [
              0.7777777777777778,
              "#fb9f3a"
             ],
             [
              0.8888888888888888,
              "#fdca26"
             ],
             [
              1,
              "#f0f921"
             ]
            ],
            "type": "contour"
           }
          ],
          "contourcarpet": [
           {
            "colorbar": {
             "outlinewidth": 0,
             "ticks": ""
            },
            "type": "contourcarpet"
           }
          ],
          "heatmap": [
           {
            "colorbar": {
             "outlinewidth": 0,
             "ticks": ""
            },
            "colorscale": [
             [
              0,
              "#0d0887"
             ],
             [
              0.1111111111111111,
              "#46039f"
             ],
             [
              0.2222222222222222,
              "#7201a8"
             ],
             [
              0.3333333333333333,
              "#9c179e"
             ],
             [
              0.4444444444444444,
              "#bd3786"
             ],
             [
              0.5555555555555556,
              "#d8576b"
             ],
             [
              0.6666666666666666,
              "#ed7953"
             ],
             [
              0.7777777777777778,
              "#fb9f3a"
             ],
             [
              0.8888888888888888,
              "#fdca26"
             ],
             [
              1,
              "#f0f921"
             ]
            ],
            "type": "heatmap"
           }
          ],
          "histogram": [
           {
            "marker": {
             "pattern": {
              "fillmode": "overlay",
              "size": 10,
              "solidity": 0.2
             }
            },
            "type": "histogram"
           }
          ],
          "histogram2d": [
           {
            "colorbar": {
             "outlinewidth": 0,
             "ticks": ""
            },
            "colorscale": [
             [
              0,
              "#0d0887"
             ],
             [
              0.1111111111111111,
              "#46039f"
             ],
             [
              0.2222222222222222,
              "#7201a8"
             ],
             [
              0.3333333333333333,
              "#9c179e"
             ],
             [
              0.4444444444444444,
              "#bd3786"
             ],
             [
              0.5555555555555556,
              "#d8576b"
             ],
             [
              0.6666666666666666,
              "#ed7953"
             ],
             [
              0.7777777777777778,
              "#fb9f3a"
             ],
             [
              0.8888888888888888,
              "#fdca26"
             ],
             [
              1,
              "#f0f921"
             ]
            ],
            "type": "histogram2d"
           }
          ],
          "histogram2dcontour": [
           {
            "colorbar": {
             "outlinewidth": 0,
             "ticks": ""
            },
            "colorscale": [
             [
              0,
              "#0d0887"
             ],
             [
              0.1111111111111111,
              "#46039f"
             ],
             [
              0.2222222222222222,
              "#7201a8"
             ],
             [
              0.3333333333333333,
              "#9c179e"
             ],
             [
              0.4444444444444444,
              "#bd3786"
             ],
             [
              0.5555555555555556,
              "#d8576b"
             ],
             [
              0.6666666666666666,
              "#ed7953"
             ],
             [
              0.7777777777777778,
              "#fb9f3a"
             ],
             [
              0.8888888888888888,
              "#fdca26"
             ],
             [
              1,
              "#f0f921"
             ]
            ],
            "type": "histogram2dcontour"
           }
          ],
          "mesh3d": [
           {
            "colorbar": {
             "outlinewidth": 0,
             "ticks": ""
            },
            "type": "mesh3d"
           }
          ],
          "parcoords": [
           {
            "line": {
             "colorbar": {
              "outlinewidth": 0,
              "ticks": ""
             }
            },
            "type": "parcoords"
           }
          ],
          "pie": [
           {
            "automargin": true,
            "type": "pie"
           }
          ],
          "scatter": [
           {
            "fillpattern": {
             "fillmode": "overlay",
             "size": 10,
             "solidity": 0.2
            },
            "type": "scatter"
           }
          ],
          "scatter3d": [
           {
            "line": {
             "colorbar": {
              "outlinewidth": 0,
              "ticks": ""
             }
            },
            "marker": {
             "colorbar": {
              "outlinewidth": 0,
              "ticks": ""
             }
            },
            "type": "scatter3d"
           }
          ],
          "scattercarpet": [
           {
            "marker": {
             "colorbar": {
              "outlinewidth": 0,
              "ticks": ""
             }
            },
            "type": "scattercarpet"
           }
          ],
          "scattergeo": [
           {
            "marker": {
             "colorbar": {
              "outlinewidth": 0,
              "ticks": ""
             }
            },
            "type": "scattergeo"
           }
          ],
          "scattergl": [
           {
            "marker": {
             "colorbar": {
              "outlinewidth": 0,
              "ticks": ""
             }
            },
            "type": "scattergl"
           }
          ],
          "scattermap": [
           {
            "marker": {
             "colorbar": {
              "outlinewidth": 0,
              "ticks": ""
             }
            },
            "type": "scattermap"
           }
          ],
          "scattermapbox": [
           {
            "marker": {
             "colorbar": {
              "outlinewidth": 0,
              "ticks": ""
             }
            },
            "type": "scattermapbox"
           }
          ],
          "scatterpolar": [
           {
            "marker": {
             "colorbar": {
              "outlinewidth": 0,
              "ticks": ""
             }
            },
            "type": "scatterpolar"
           }
          ],
          "scatterpolargl": [
           {
            "marker": {
             "colorbar": {
              "outlinewidth": 0,
              "ticks": ""
             }
            },
            "type": "scatterpolargl"
           }
          ],
          "scatterternary": [
           {
            "marker": {
             "colorbar": {
              "outlinewidth": 0,
              "ticks": ""
             }
            },
            "type": "scatterternary"
           }
          ],
          "surface": [
           {
            "colorbar": {
             "outlinewidth": 0,
             "ticks": ""
            },
            "colorscale": [
             [
              0,
              "#0d0887"
             ],
             [
              0.1111111111111111,
              "#46039f"
             ],
             [
              0.2222222222222222,
              "#7201a8"
             ],
             [
              0.3333333333333333,
              "#9c179e"
             ],
             [
              0.4444444444444444,
              "#bd3786"
             ],
             [
              0.5555555555555556,
              "#d8576b"
             ],
             [
              0.6666666666666666,
              "#ed7953"
             ],
             [
              0.7777777777777778,
              "#fb9f3a"
             ],
             [
              0.8888888888888888,
              "#fdca26"
             ],
             [
              1,
              "#f0f921"
             ]
            ],
            "type": "surface"
           }
          ],
          "table": [
           {
            "cells": {
             "fill": {
              "color": "#EBF0F8"
             },
             "line": {
              "color": "white"
             }
            },
            "header": {
             "fill": {
              "color": "#C8D4E3"
             },
             "line": {
              "color": "white"
             }
            },
            "type": "table"
           }
          ]
         },
         "layout": {
          "annotationdefaults": {
           "arrowcolor": "#2a3f5f",
           "arrowhead": 0,
           "arrowwidth": 1
          },
          "autotypenumbers": "strict",
          "coloraxis": {
           "colorbar": {
            "outlinewidth": 0,
            "ticks": ""
           }
          },
          "colorscale": {
           "diverging": [
            [
             0,
             "#8e0152"
            ],
            [
             0.1,
             "#c51b7d"
            ],
            [
             0.2,
             "#de77ae"
            ],
            [
             0.3,
             "#f1b6da"
            ],
            [
             0.4,
             "#fde0ef"
            ],
            [
             0.5,
             "#f7f7f7"
            ],
            [
             0.6,
             "#e6f5d0"
            ],
            [
             0.7,
             "#b8e186"
            ],
            [
             0.8,
             "#7fbc41"
            ],
            [
             0.9,
             "#4d9221"
            ],
            [
             1,
             "#276419"
            ]
           ],
           "sequential": [
            [
             0,
             "#0d0887"
            ],
            [
             0.1111111111111111,
             "#46039f"
            ],
            [
             0.2222222222222222,
             "#7201a8"
            ],
            [
             0.3333333333333333,
             "#9c179e"
            ],
            [
             0.4444444444444444,
             "#bd3786"
            ],
            [
             0.5555555555555556,
             "#d8576b"
            ],
            [
             0.6666666666666666,
             "#ed7953"
            ],
            [
             0.7777777777777778,
             "#fb9f3a"
            ],
            [
             0.8888888888888888,
             "#fdca26"
            ],
            [
             1,
             "#f0f921"
            ]
           ],
           "sequentialminus": [
            [
             0,
             "#0d0887"
            ],
            [
             0.1111111111111111,
             "#46039f"
            ],
            [
             0.2222222222222222,
             "#7201a8"
            ],
            [
             0.3333333333333333,
             "#9c179e"
            ],
            [
             0.4444444444444444,
             "#bd3786"
            ],
            [
             0.5555555555555556,
             "#d8576b"
            ],
            [
             0.6666666666666666,
             "#ed7953"
            ],
            [
             0.7777777777777778,
             "#fb9f3a"
            ],
            [
             0.8888888888888888,
             "#fdca26"
            ],
            [
             1,
             "#f0f921"
            ]
           ]
          },
          "colorway": [
           "#636efa",
           "#EF553B",
           "#00cc96",
           "#ab63fa",
           "#FFA15A",
           "#19d3f3",
           "#FF6692",
           "#B6E880",
           "#FF97FF",
           "#FECB52"
          ],
          "font": {
           "color": "#2a3f5f"
          },
          "geo": {
           "bgcolor": "white",
           "lakecolor": "white",
           "landcolor": "#E5ECF6",
           "showlakes": true,
           "showland": true,
           "subunitcolor": "white"
          },
          "hoverlabel": {
           "align": "left"
          },
          "hovermode": "closest",
          "mapbox": {
           "style": "light"
          },
          "paper_bgcolor": "white",
          "plot_bgcolor": "#E5ECF6",
          "polar": {
           "angularaxis": {
            "gridcolor": "white",
            "linecolor": "white",
            "ticks": ""
           },
           "bgcolor": "#E5ECF6",
           "radialaxis": {
            "gridcolor": "white",
            "linecolor": "white",
            "ticks": ""
           }
          },
          "scene": {
           "xaxis": {
            "backgroundcolor": "#E5ECF6",
            "gridcolor": "white",
            "gridwidth": 2,
            "linecolor": "white",
            "showbackground": true,
            "ticks": "",
            "zerolinecolor": "white"
           },
           "yaxis": {
            "backgroundcolor": "#E5ECF6",
            "gridcolor": "white",
            "gridwidth": 2,
            "linecolor": "white",
            "showbackground": true,
            "ticks": "",
            "zerolinecolor": "white"
           },
           "zaxis": {
            "backgroundcolor": "#E5ECF6",
            "gridcolor": "white",
            "gridwidth": 2,
            "linecolor": "white",
            "showbackground": true,
            "ticks": "",
            "zerolinecolor": "white"
           }
          },
          "shapedefaults": {
           "line": {
            "color": "#2a3f5f"
           }
          },
          "ternary": {
           "aaxis": {
            "gridcolor": "white",
            "linecolor": "white",
            "ticks": ""
           },
           "baxis": {
            "gridcolor": "white",
            "linecolor": "white",
            "ticks": ""
           },
           "bgcolor": "#E5ECF6",
           "caxis": {
            "gridcolor": "white",
            "linecolor": "white",
            "ticks": ""
           }
          },
          "title": {
           "x": 0.05
          },
          "xaxis": {
           "automargin": true,
           "gridcolor": "white",
           "linecolor": "white",
           "ticks": "",
           "title": {
            "standoff": 15
           },
           "zerolinecolor": "white",
           "zerolinewidth": 2
          },
          "yaxis": {
           "automargin": true,
           "gridcolor": "white",
           "linecolor": "white",
           "ticks": "",
           "title": {
            "standoff": 15
           },
           "zerolinecolor": "white",
           "zerolinewidth": 2
          }
         }
        },
        "title": {
         "text": "📊 Análise das Variáveis Numéricas por Categoria",
         "x": 0.5
        },
        "xaxis": {
         "anchor": "y",
         "domain": [
          0,
          0.45
         ]
        },
        "xaxis2": {
         "anchor": "y2",
         "domain": [
          0.55,
          1
         ]
        },
        "xaxis3": {
         "anchor": "y3",
         "domain": [
          0,
          0.45
         ]
        },
        "xaxis4": {
         "anchor": "y4",
         "domain": [
          0.55,
          1
         ]
        },
        "yaxis": {
         "anchor": "x",
         "domain": [
          0.625,
          1
         ],
         "title": {
          "text": "Valor (R$)"
         }
        },
        "yaxis2": {
         "anchor": "x2",
         "domain": [
          0.625,
          1
         ],
         "title": {
          "text": "Tempo (dias)"
         }
        },
        "yaxis3": {
         "anchor": "x3",
         "domain": [
          0,
          0.375
         ],
         "title": {
          "text": "Valor (R$)"
         }
        },
        "yaxis4": {
         "anchor": "x4",
         "domain": [
          0,
          0.375
         ],
         "title": {
          "text": "Tempo (dias)"
         }
        }
       }
      }
     },
     "metadata": {},
     "output_type": "display_data"
    },
    {
     "ename": "FileNotFoundError",
     "evalue": "[Errno 2] No such file or directory: '\\\\home\\\\ubuntu\\\\analise_variaveis_numericas.html'",
     "output_type": "error",
     "traceback": [
      "\u001b[31m---------------------------------------------------------------------------\u001b[39m",
      "\u001b[31mFileNotFoundError\u001b[39m                         Traceback (most recent call last)",
      "\u001b[36mCell\u001b[39m\u001b[36m \u001b[39m\u001b[32mIn[6]\u001b[39m\u001b[32m, line 79\u001b[39m\n\u001b[32m     76\u001b[39m fig.show()\n\u001b[32m     78\u001b[39m \u001b[38;5;66;03m# Salvando o gráfico\u001b[39;00m\n\u001b[32m---> \u001b[39m\u001b[32m79\u001b[39m \u001b[43mfig\u001b[49m\u001b[43m.\u001b[49m\u001b[43mwrite_html\u001b[49m\u001b[43m(\u001b[49m\u001b[33;43m\"\u001b[39;49m\u001b[33;43m/home/ubuntu/analise_variaveis_numericas.html\u001b[39;49m\u001b[33;43m\"\u001b[39;49m\u001b[43m)\u001b[49m\n\u001b[32m     80\u001b[39m \u001b[38;5;28mprint\u001b[39m(\u001b[33m\"\u001b[39m\u001b[33m💾 Gráfico salvo como \u001b[39m\u001b[33m'\u001b[39m\u001b[33manalise_variaveis_numericas.html\u001b[39m\u001b[33m'\u001b[39m\u001b[33m\"\u001b[39m)\n",
      "\u001b[36mFile \u001b[39m\u001b[32m~\\AppData\\Local\\Packages\\PythonSoftwareFoundation.Python.3.11_qbz5n2kfra8p0\\LocalCache\\local-packages\\Python311\\site-packages\\plotly\\basedatatypes.py:3706\u001b[39m, in \u001b[36mBaseFigure.write_html\u001b[39m\u001b[34m(self, *args, **kwargs)\u001b[39m\n\u001b[32m   3603\u001b[39m \u001b[38;5;250m\u001b[39m\u001b[33;03m\"\"\"\u001b[39;00m\n\u001b[32m   3604\u001b[39m \u001b[33;03mWrite a figure to an HTML file representation\u001b[39;00m\n\u001b[32m   3605\u001b[39m \n\u001b[32m   (...)\u001b[39m\u001b[32m   3702\u001b[39m \u001b[33;03mNone\u001b[39;00m\n\u001b[32m   3703\u001b[39m \u001b[33;03m\"\"\"\u001b[39;00m\n\u001b[32m   3704\u001b[39m \u001b[38;5;28;01mimport\u001b[39;00m\u001b[38;5;250m \u001b[39m\u001b[34;01mplotly\u001b[39;00m\u001b[34;01m.\u001b[39;00m\u001b[34;01mio\u001b[39;00m\u001b[38;5;250m \u001b[39m\u001b[38;5;28;01mas\u001b[39;00m\u001b[38;5;250m \u001b[39m\u001b[34;01mpio\u001b[39;00m\n\u001b[32m-> \u001b[39m\u001b[32m3706\u001b[39m \u001b[38;5;28;01mreturn\u001b[39;00m \u001b[43mpio\u001b[49m\u001b[43m.\u001b[49m\u001b[43mwrite_html\u001b[49m\u001b[43m(\u001b[49m\u001b[38;5;28;43mself\u001b[39;49m\u001b[43m,\u001b[49m\u001b[43m \u001b[49m\u001b[43m*\u001b[49m\u001b[43margs\u001b[49m\u001b[43m,\u001b[49m\u001b[43m \u001b[49m\u001b[43m*\u001b[49m\u001b[43m*\u001b[49m\u001b[43mkwargs\u001b[49m\u001b[43m)\u001b[49m\n",
      "\u001b[36mFile \u001b[39m\u001b[32m~\\AppData\\Local\\Packages\\PythonSoftwareFoundation.Python.3.11_qbz5n2kfra8p0\\LocalCache\\local-packages\\Python311\\site-packages\\plotly\\io\\_html.py:509\u001b[39m, in \u001b[36mwrite_html\u001b[39m\u001b[34m(fig, file, config, auto_play, include_plotlyjs, include_mathjax, post_script, full_html, animation_opts, validate, default_width, default_height, auto_open, div_id)\u001b[39m\n\u001b[32m    506\u001b[39m \u001b[38;5;66;03m# Write HTML string\u001b[39;00m\n\u001b[32m    507\u001b[39m \u001b[38;5;28;01mif\u001b[39;00m path \u001b[38;5;129;01mis\u001b[39;00m \u001b[38;5;129;01mnot\u001b[39;00m \u001b[38;5;28;01mNone\u001b[39;00m:\n\u001b[32m    508\u001b[39m     \u001b[38;5;66;03m# To use a different file encoding, pass a file descriptor\u001b[39;00m\n\u001b[32m--> \u001b[39m\u001b[32m509\u001b[39m     \u001b[43mpath\u001b[49m\u001b[43m.\u001b[49m\u001b[43mwrite_text\u001b[49m\u001b[43m(\u001b[49m\u001b[43mhtml_str\u001b[49m\u001b[43m,\u001b[49m\u001b[43m \u001b[49m\u001b[33;43m\"\u001b[39;49m\u001b[33;43mutf-8\u001b[39;49m\u001b[33;43m\"\u001b[39;49m\u001b[43m)\u001b[49m\n\u001b[32m    510\u001b[39m \u001b[38;5;28;01melse\u001b[39;00m:\n\u001b[32m    511\u001b[39m     file.write(html_str)\n",
      "\u001b[36mFile \u001b[39m\u001b[32mC:\\Program Files\\WindowsApps\\PythonSoftwareFoundation.Python.3.11_3.11.2544.0_x64__qbz5n2kfra8p0\\Lib\\pathlib.py:1078\u001b[39m, in \u001b[36mPath.write_text\u001b[39m\u001b[34m(self, data, encoding, errors, newline)\u001b[39m\n\u001b[32m   1075\u001b[39m     \u001b[38;5;28;01mraise\u001b[39;00m \u001b[38;5;167;01mTypeError\u001b[39;00m(\u001b[33m'\u001b[39m\u001b[33mdata must be str, not \u001b[39m\u001b[38;5;132;01m%s\u001b[39;00m\u001b[33m'\u001b[39m %\n\u001b[32m   1076\u001b[39m                     data.\u001b[34m__class__\u001b[39m.\u001b[34m__name__\u001b[39m)\n\u001b[32m   1077\u001b[39m encoding = io.text_encoding(encoding)\n\u001b[32m-> \u001b[39m\u001b[32m1078\u001b[39m \u001b[38;5;28;01mwith\u001b[39;00m \u001b[38;5;28;43mself\u001b[39;49m\u001b[43m.\u001b[49m\u001b[43mopen\u001b[49m\u001b[43m(\u001b[49m\u001b[43mmode\u001b[49m\u001b[43m=\u001b[49m\u001b[33;43m'\u001b[39;49m\u001b[33;43mw\u001b[39;49m\u001b[33;43m'\u001b[39;49m\u001b[43m,\u001b[49m\u001b[43m \u001b[49m\u001b[43mencoding\u001b[49m\u001b[43m=\u001b[49m\u001b[43mencoding\u001b[49m\u001b[43m,\u001b[49m\u001b[43m \u001b[49m\u001b[43merrors\u001b[49m\u001b[43m=\u001b[49m\u001b[43merrors\u001b[49m\u001b[43m,\u001b[49m\u001b[43m \u001b[49m\u001b[43mnewline\u001b[49m\u001b[43m=\u001b[49m\u001b[43mnewline\u001b[49m\u001b[43m)\u001b[49m \u001b[38;5;28;01mas\u001b[39;00m f:\n\u001b[32m   1079\u001b[39m     \u001b[38;5;28;01mreturn\u001b[39;00m f.write(data)\n",
      "\u001b[36mFile \u001b[39m\u001b[32mC:\\Program Files\\WindowsApps\\PythonSoftwareFoundation.Python.3.11_3.11.2544.0_x64__qbz5n2kfra8p0\\Lib\\pathlib.py:1044\u001b[39m, in \u001b[36mPath.open\u001b[39m\u001b[34m(self, mode, buffering, encoding, errors, newline)\u001b[39m\n\u001b[32m   1042\u001b[39m \u001b[38;5;28;01mif\u001b[39;00m \u001b[33m\"\u001b[39m\u001b[33mb\u001b[39m\u001b[33m\"\u001b[39m \u001b[38;5;129;01mnot\u001b[39;00m \u001b[38;5;129;01min\u001b[39;00m mode:\n\u001b[32m   1043\u001b[39m     encoding = io.text_encoding(encoding)\n\u001b[32m-> \u001b[39m\u001b[32m1044\u001b[39m \u001b[38;5;28;01mreturn\u001b[39;00m io.open(\u001b[38;5;28mself\u001b[39m, mode, buffering, encoding, errors, newline)\n",
      "\u001b[31mFileNotFoundError\u001b[39m: [Errno 2] No such file or directory: '\\\\home\\\\ubuntu\\\\analise_variaveis_numericas.html'"
     ]
    }
   ],
   "source": [
    "# Visualização das variáveis numéricas por categoria\n",
    "fig = make_subplots(\n",
    "    rows=2, cols=2,\n",
    "    subplot_titles=[\n",
    "        'Distribuição do Valor Envolvido por Categoria',\n",
    "        'Distribuição do Tempo de Resposta por Categoria',\n",
    "        'Boxplot - Valor Envolvido',\n",
    "        'Boxplot - Tempo de Resposta'\n",
    "    ],\n",
    "    specs=[[{'type': 'box'}, {'type': 'box'}],\n",
    "           [{'type': 'violin'}, {'type': 'violin'}]]\n",
    ")\n",
    "\n",
    "# Cores para cada categoria\n",
    "colors = ['#FF6B6B', '#4ECDC4', '#45B7D1', '#96CEB4']\n",
    "categories = df['categoria'].unique()\n",
    "\n",
    "# Boxplots\n",
    "for i, cat in enumerate(categories):\n",
    "    data_cat = df[df['categoria'] == cat]\n",
    "    \n",
    "    fig.add_trace(\n",
    "        go.Box(\n",
    "            y=data_cat['valor_envolvido'],\n",
    "            name=cat,\n",
    "            marker_color=colors[i],\n",
    "            showlegend=False\n",
    "        ),\n",
    "        row=1, col=1\n",
    "    )\n",
    "    \n",
    "    fig.add_trace(\n",
    "        go.Box(\n",
    "            y=data_cat['tempo_resposta_dias'],\n",
    "            name=cat,\n",
    "            marker_color=colors[i],\n",
    "            showlegend=False\n",
    "        ),\n",
    "        row=1, col=2\n",
    "    )\n",
    "    \n",
    "    # Violin plots\n",
    "    fig.add_trace(\n",
    "        go.Violin(\n",
    "            y=data_cat['valor_envolvido'],\n",
    "            name=cat,\n",
    "            fillcolor=colors[i],\n",
    "            line_color=colors[i],\n",
    "            showlegend=False\n",
    "        ),\n",
    "        row=2, col=1\n",
    "    )\n",
    "    \n",
    "    fig.add_trace(\n",
    "        go.Violin(\n",
    "            y=data_cat['tempo_resposta_dias'],\n",
    "            name=cat,\n",
    "            fillcolor=colors[i],\n",
    "            line_color=colors[i],\n",
    "            showlegend=False\n",
    "        ),\n",
    "        row=2, col=2\n",
    "    )\n",
    "\n",
    "fig.update_layout(\n",
    "    title_text=\"📊 Análise das Variáveis Numéricas por Categoria\",\n",
    "    title_x=0.5,\n",
    "    height=800\n",
    ")\n",
    "\n",
    "fig.update_yaxes(title_text=\"Valor (R$)\", row=1, col=1)\n",
    "fig.update_yaxes(title_text=\"Tempo (dias)\", row=1, col=2)\n",
    "fig.update_yaxes(title_text=\"Valor (R$)\", row=2, col=1)\n",
    "fig.update_yaxes(title_text=\"Tempo (dias)\", row=2, col=2)\n",
    "\n",
    "fig.show()\n",
    "\n",
    "# Salvando o gráfico\n",
    "fig.write_html(\"/home/ubuntu/analise_variaveis_numericas.html\")\n",
    "print(\"💾 Gráfico salvo como 'analise_variaveis_numericas.html'\")"
   ]
  },
  {
   "cell_type": "markdown",
   "metadata": {},
   "source": [
    "### 3.4 Análise das Variáveis Categóricas\n",
    "\n",
    "Vamos analisar as variáveis categóricas (empresa e estado) para entender sua distribuição e relação com a variável target."
   ]
  },
  {
   "cell_type": "code",
   "execution_count": 7,
   "metadata": {},
   "outputs": [
    {
     "name": "stdout",
     "output_type": "stream",
     "text": [
      "🏢 ANÁLISE DAS VARIÁVEIS CATEGÓRICAS\n",
      "=============================================\n",
      "\n",
      "📊 EMPRESA:\n",
      "Valores únicos: 10\n",
      "Valor mais frequente: TechMart (236 ocorrências)\n",
      "\n",
      "Top 5 empresas:\n",
      "1. TechMart: 236 (11.8%)\n",
      "2. EletroMax: 219 (10.9%)\n",
      "3. QuickBuy: 209 (10.4%)\n",
      "4. ExpressShop: 204 (10.2%)\n",
      "5. TopQuality: 202 (10.1%)\n",
      "\n",
      "📊 ESTADO:\n",
      "Valores únicos: 15\n",
      "Valor mais frequente: PB (163 ocorrências)\n",
      "\n",
      "Top 5 estados:\n",
      "1. PB: 163 (8.2%)\n",
      "2. BA: 160 (8.0%)\n",
      "3. CE: 146 (7.3%)\n",
      "4. MT: 142 (7.1%)\n",
      "5. GO: 137 (6.9%)\n"
     ]
    }
   ],
   "source": [
    "# Análise das variáveis categóricas\n",
    "categorical_cols = ['empresa', 'estado']\n",
    "\n",
    "print(\"🏢 ANÁLISE DAS VARIÁVEIS CATEGÓRICAS\")\n",
    "print(\"=\" * 45)\n",
    "\n",
    "for col in categorical_cols:\n",
    "    print(f\"\\n📊 {col.upper()}:\")\n",
    "    print(f\"Valores únicos: {df[col].nunique()}\")\n",
    "    print(f\"Valor mais frequente: {df[col].mode()[0]} ({df[col].value_counts().iloc[0]} ocorrências)\")\n",
    "    \n",
    "    # Top 5 valores\n",
    "    print(f\"\\nTop 5 {col}s:\")\n",
    "    top_values = df[col].value_counts().head()\n",
    "    for idx, (value, count) in enumerate(top_values.items(), 1):\n",
    "        percentage = (count / len(df)) * 100\n",
    "        print(f\"{idx}. {value}: {count} ({percentage:.1f}%)\")"
   ]
  },
  {
   "cell_type": "code",
   "execution_count": 8,
   "metadata": {},
   "outputs": [
    {
     "data": {
      "application/vnd.plotly.v1+json": {
       "config": {
        "plotlyServerURL": "https://plot.ly"
       },
       "data": [
        {
         "marker": {
          "color": "#FF6B6B"
         },
         "showlegend": false,
         "text": {
          "bdata": "AAAAAACAbUAAAAAAAGBrQAAAAAAAIGpAAAAAAACAaUAAAAAAAEBpQAAAAAAAoGhAAAAAAAAgaEAAAAAAAABnQAAAAAAAQGZAAAAAAABAZkA=",
          "dtype": "f8"
         },
         "textposition": "auto",
         "type": "bar",
         "x": [
          "TechMart",
          "EletroMax",
          "QuickBuy",
          "ExpressShop",
          "TopQuality",
          "SuperCompras",
          "MegaStore",
          "ShopOnline",
          "BestPrice",
          "FastDelivery"
         ],
         "xaxis": "x",
         "y": {
          "bdata": "7ADbANEAzADKAMUAwQC4ALIAsgA=",
          "dtype": "i2"
         },
         "yaxis": "y"
        },
        {
         "marker": {
          "color": "#4ECDC4"
         },
         "showlegend": false,
         "text": {
          "bdata": "AAAAAABgZEAAAAAAAABkQAAAAAAAQGJAAAAAAADAYUAAAAAAACBhQAAAAAAAwGBAAAAAAADAYEAAAAAAAIBgQAAAAAAAYGBAAAAAAAAgYEA=",
          "dtype": "f8"
         },
         "textposition": "auto",
         "type": "bar",
         "x": [
          "PB",
          "BA",
          "CE",
          "MT",
          "GO",
          "ES",
          "SP",
          "PR",
          "RS",
          "MG"
         ],
         "xaxis": "x2",
         "y": {
          "bdata": "owCgAJIAjgCJAIYAhgCEAIMAgQA=",
          "dtype": "i2"
         },
         "yaxis": "y2"
        },
        {
         "colorscale": [
          [
           0,
           "#440154"
          ],
          [
           0.1111111111111111,
           "#482878"
          ],
          [
           0.2222222222222222,
           "#3e4989"
          ],
          [
           0.3333333333333333,
           "#31688e"
          ],
          [
           0.4444444444444444,
           "#26828e"
          ],
          [
           0.5555555555555556,
           "#1f9e89"
          ],
          [
           0.6666666666666666,
           "#35b779"
          ],
          [
           0.7777777777777778,
           "#6ece58"
          ],
          [
           0.8888888888888888,
           "#b5de2b"
          ],
          [
           1,
           "#fde725"
          ]
         ],
         "showscale": false,
         "type": "heatmap",
         "x": [
          "Atendimento",
          "Cobrança Indevida",
          "Entrega",
          "Produto Defeituoso"
         ],
         "xaxis": "x3",
         "y": [
          "BestPrice",
          "EletroMax",
          "ExpressShop",
          "FastDelivery",
          "MegaStore",
          "QuickBuy",
          "ShopOnline",
          "SuperCompras",
          "TechMart",
          "TopQuality"
         ],
         "yaxis": "y3",
         "z": {
          "bdata": "LywzJDUwNkA7NDMqLicqMyY0NDM8LzcvNTIkLS83JDs9K0BEKjU5Mg==",
          "dtype": "i1",
          "shape": "10, 4"
         }
        },
        {
         "colorscale": [
          [
           0,
           "#0d0887"
          ],
          [
           0.1111111111111111,
           "#46039f"
          ],
          [
           0.2222222222222222,
           "#7201a8"
          ],
          [
           0.3333333333333333,
           "#9c179e"
          ],
          [
           0.4444444444444444,
           "#bd3786"
          ],
          [
           0.5555555555555556,
           "#d8576b"
          ],
          [
           0.6666666666666666,
           "#ed7953"
          ],
          [
           0.7777777777777778,
           "#fb9f3a"
          ],
          [
           0.8888888888888888,
           "#fdca26"
          ],
          [
           1,
           "#f0f921"
          ]
         ],
         "showscale": false,
         "type": "heatmap",
         "x": [
          "Atendimento",
          "Cobrança Indevida",
          "Entrega",
          "Produto Defeituoso"
         ],
         "xaxis": "x4",
         "y": [
          "BA",
          "CE",
          "ES",
          "GO",
          "MG",
          "MT",
          "PB",
          "PR",
          "RS",
          "SP"
         ],
         "yaxis": "y4",
         "z": {
          "bdata": "Ji4kKCEpIScmIB0jJiMeIh4qGSAoISAlLSknJiEcGi0hGCQmHR8rHw==",
          "dtype": "i1",
          "shape": "10, 4"
         }
        }
       ],
       "layout": {
        "annotations": [
         {
          "font": {
           "size": 16
          },
          "showarrow": false,
          "text": "Distribuição por Empresa",
          "x": 0.225,
          "xanchor": "center",
          "xref": "paper",
          "y": 1,
          "yanchor": "bottom",
          "yref": "paper"
         },
         {
          "font": {
           "size": 16
          },
          "showarrow": false,
          "text": "Distribuição por Estado",
          "x": 0.775,
          "xanchor": "center",
          "xref": "paper",
          "y": 1,
          "yanchor": "bottom",
          "yref": "paper"
         },
         {
          "font": {
           "size": 16
          },
          "showarrow": false,
          "text": "Heatmap: Empresa vs Categoria",
          "x": 0.225,
          "xanchor": "center",
          "xref": "paper",
          "y": 0.375,
          "yanchor": "bottom",
          "yref": "paper"
         },
         {
          "font": {
           "size": 16
          },
          "showarrow": false,
          "text": "Heatmap: Estado vs Categoria",
          "x": 0.775,
          "xanchor": "center",
          "xref": "paper",
          "y": 0.375,
          "yanchor": "bottom",
          "yref": "paper"
         }
        ],
        "height": 800,
        "template": {
         "data": {
          "bar": [
           {
            "error_x": {
             "color": "#2a3f5f"
            },
            "error_y": {
             "color": "#2a3f5f"
            },
            "marker": {
             "line": {
              "color": "#E5ECF6",
              "width": 0.5
             },
             "pattern": {
              "fillmode": "overlay",
              "size": 10,
              "solidity": 0.2
             }
            },
            "type": "bar"
           }
          ],
          "barpolar": [
           {
            "marker": {
             "line": {
              "color": "#E5ECF6",
              "width": 0.5
             },
             "pattern": {
              "fillmode": "overlay",
              "size": 10,
              "solidity": 0.2
             }
            },
            "type": "barpolar"
           }
          ],
          "carpet": [
           {
            "aaxis": {
             "endlinecolor": "#2a3f5f",
             "gridcolor": "white",
             "linecolor": "white",
             "minorgridcolor": "white",
             "startlinecolor": "#2a3f5f"
            },
            "baxis": {
             "endlinecolor": "#2a3f5f",
             "gridcolor": "white",
             "linecolor": "white",
             "minorgridcolor": "white",
             "startlinecolor": "#2a3f5f"
            },
            "type": "carpet"
           }
          ],
          "choropleth": [
           {
            "colorbar": {
             "outlinewidth": 0,
             "ticks": ""
            },
            "type": "choropleth"
           }
          ],
          "contour": [
           {
            "colorbar": {
             "outlinewidth": 0,
             "ticks": ""
            },
            "colorscale": [
             [
              0,
              "#0d0887"
             ],
             [
              0.1111111111111111,
              "#46039f"
             ],
             [
              0.2222222222222222,
              "#7201a8"
             ],
             [
              0.3333333333333333,
              "#9c179e"
             ],
             [
              0.4444444444444444,
              "#bd3786"
             ],
             [
              0.5555555555555556,
              "#d8576b"
             ],
             [
              0.6666666666666666,
              "#ed7953"
             ],
             [
              0.7777777777777778,
              "#fb9f3a"
             ],
             [
              0.8888888888888888,
              "#fdca26"
             ],
             [
              1,
              "#f0f921"
             ]
            ],
            "type": "contour"
           }
          ],
          "contourcarpet": [
           {
            "colorbar": {
             "outlinewidth": 0,
             "ticks": ""
            },
            "type": "contourcarpet"
           }
          ],
          "heatmap": [
           {
            "colorbar": {
             "outlinewidth": 0,
             "ticks": ""
            },
            "colorscale": [
             [
              0,
              "#0d0887"
             ],
             [
              0.1111111111111111,
              "#46039f"
             ],
             [
              0.2222222222222222,
              "#7201a8"
             ],
             [
              0.3333333333333333,
              "#9c179e"
             ],
             [
              0.4444444444444444,
              "#bd3786"
             ],
             [
              0.5555555555555556,
              "#d8576b"
             ],
             [
              0.6666666666666666,
              "#ed7953"
             ],
             [
              0.7777777777777778,
              "#fb9f3a"
             ],
             [
              0.8888888888888888,
              "#fdca26"
             ],
             [
              1,
              "#f0f921"
             ]
            ],
            "type": "heatmap"
           }
          ],
          "histogram": [
           {
            "marker": {
             "pattern": {
              "fillmode": "overlay",
              "size": 10,
              "solidity": 0.2
             }
            },
            "type": "histogram"
           }
          ],
          "histogram2d": [
           {
            "colorbar": {
             "outlinewidth": 0,
             "ticks": ""
            },
            "colorscale": [
             [
              0,
              "#0d0887"
             ],
             [
              0.1111111111111111,
              "#46039f"
             ],
             [
              0.2222222222222222,
              "#7201a8"
             ],
             [
              0.3333333333333333,
              "#9c179e"
             ],
             [
              0.4444444444444444,
              "#bd3786"
             ],
             [
              0.5555555555555556,
              "#d8576b"
             ],
             [
              0.6666666666666666,
              "#ed7953"
             ],
             [
              0.7777777777777778,
              "#fb9f3a"
             ],
             [
              0.8888888888888888,
              "#fdca26"
             ],
             [
              1,
              "#f0f921"
             ]
            ],
            "type": "histogram2d"
           }
          ],
          "histogram2dcontour": [
           {
            "colorbar": {
             "outlinewidth": 0,
             "ticks": ""
            },
            "colorscale": [
             [
              0,
              "#0d0887"
             ],
             [
              0.1111111111111111,
              "#46039f"
             ],
             [
              0.2222222222222222,
              "#7201a8"
             ],
             [
              0.3333333333333333,
              "#9c179e"
             ],
             [
              0.4444444444444444,
              "#bd3786"
             ],
             [
              0.5555555555555556,
              "#d8576b"
             ],
             [
              0.6666666666666666,
              "#ed7953"
             ],
             [
              0.7777777777777778,
              "#fb9f3a"
             ],
             [
              0.8888888888888888,
              "#fdca26"
             ],
             [
              1,
              "#f0f921"
             ]
            ],
            "type": "histogram2dcontour"
           }
          ],
          "mesh3d": [
           {
            "colorbar": {
             "outlinewidth": 0,
             "ticks": ""
            },
            "type": "mesh3d"
           }
          ],
          "parcoords": [
           {
            "line": {
             "colorbar": {
              "outlinewidth": 0,
              "ticks": ""
             }
            },
            "type": "parcoords"
           }
          ],
          "pie": [
           {
            "automargin": true,
            "type": "pie"
           }
          ],
          "scatter": [
           {
            "fillpattern": {
             "fillmode": "overlay",
             "size": 10,
             "solidity": 0.2
            },
            "type": "scatter"
           }
          ],
          "scatter3d": [
           {
            "line": {
             "colorbar": {
              "outlinewidth": 0,
              "ticks": ""
             }
            },
            "marker": {
             "colorbar": {
              "outlinewidth": 0,
              "ticks": ""
             }
            },
            "type": "scatter3d"
           }
          ],
          "scattercarpet": [
           {
            "marker": {
             "colorbar": {
              "outlinewidth": 0,
              "ticks": ""
             }
            },
            "type": "scattercarpet"
           }
          ],
          "scattergeo": [
           {
            "marker": {
             "colorbar": {
              "outlinewidth": 0,
              "ticks": ""
             }
            },
            "type": "scattergeo"
           }
          ],
          "scattergl": [
           {
            "marker": {
             "colorbar": {
              "outlinewidth": 0,
              "ticks": ""
             }
            },
            "type": "scattergl"
           }
          ],
          "scattermap": [
           {
            "marker": {
             "colorbar": {
              "outlinewidth": 0,
              "ticks": ""
             }
            },
            "type": "scattermap"
           }
          ],
          "scattermapbox": [
           {
            "marker": {
             "colorbar": {
              "outlinewidth": 0,
              "ticks": ""
             }
            },
            "type": "scattermapbox"
           }
          ],
          "scatterpolar": [
           {
            "marker": {
             "colorbar": {
              "outlinewidth": 0,
              "ticks": ""
             }
            },
            "type": "scatterpolar"
           }
          ],
          "scatterpolargl": [
           {
            "marker": {
             "colorbar": {
              "outlinewidth": 0,
              "ticks": ""
             }
            },
            "type": "scatterpolargl"
           }
          ],
          "scatterternary": [
           {
            "marker": {
             "colorbar": {
              "outlinewidth": 0,
              "ticks": ""
             }
            },
            "type": "scatterternary"
           }
          ],
          "surface": [
           {
            "colorbar": {
             "outlinewidth": 0,
             "ticks": ""
            },
            "colorscale": [
             [
              0,
              "#0d0887"
             ],
             [
              0.1111111111111111,
              "#46039f"
             ],
             [
              0.2222222222222222,
              "#7201a8"
             ],
             [
              0.3333333333333333,
              "#9c179e"
             ],
             [
              0.4444444444444444,
              "#bd3786"
             ],
             [
              0.5555555555555556,
              "#d8576b"
             ],
             [
              0.6666666666666666,
              "#ed7953"
             ],
             [
              0.7777777777777778,
              "#fb9f3a"
             ],
             [
              0.8888888888888888,
              "#fdca26"
             ],
             [
              1,
              "#f0f921"
             ]
            ],
            "type": "surface"
           }
          ],
          "table": [
           {
            "cells": {
             "fill": {
              "color": "#EBF0F8"
             },
             "line": {
              "color": "white"
             }
            },
            "header": {
             "fill": {
              "color": "#C8D4E3"
             },
             "line": {
              "color": "white"
             }
            },
            "type": "table"
           }
          ]
         },
         "layout": {
          "annotationdefaults": {
           "arrowcolor": "#2a3f5f",
           "arrowhead": 0,
           "arrowwidth": 1
          },
          "autotypenumbers": "strict",
          "coloraxis": {
           "colorbar": {
            "outlinewidth": 0,
            "ticks": ""
           }
          },
          "colorscale": {
           "diverging": [
            [
             0,
             "#8e0152"
            ],
            [
             0.1,
             "#c51b7d"
            ],
            [
             0.2,
             "#de77ae"
            ],
            [
             0.3,
             "#f1b6da"
            ],
            [
             0.4,
             "#fde0ef"
            ],
            [
             0.5,
             "#f7f7f7"
            ],
            [
             0.6,
             "#e6f5d0"
            ],
            [
             0.7,
             "#b8e186"
            ],
            [
             0.8,
             "#7fbc41"
            ],
            [
             0.9,
             "#4d9221"
            ],
            [
             1,
             "#276419"
            ]
           ],
           "sequential": [
            [
             0,
             "#0d0887"
            ],
            [
             0.1111111111111111,
             "#46039f"
            ],
            [
             0.2222222222222222,
             "#7201a8"
            ],
            [
             0.3333333333333333,
             "#9c179e"
            ],
            [
             0.4444444444444444,
             "#bd3786"
            ],
            [
             0.5555555555555556,
             "#d8576b"
            ],
            [
             0.6666666666666666,
             "#ed7953"
            ],
            [
             0.7777777777777778,
             "#fb9f3a"
            ],
            [
             0.8888888888888888,
             "#fdca26"
            ],
            [
             1,
             "#f0f921"
            ]
           ],
           "sequentialminus": [
            [
             0,
             "#0d0887"
            ],
            [
             0.1111111111111111,
             "#46039f"
            ],
            [
             0.2222222222222222,
             "#7201a8"
            ],
            [
             0.3333333333333333,
             "#9c179e"
            ],
            [
             0.4444444444444444,
             "#bd3786"
            ],
            [
             0.5555555555555556,
             "#d8576b"
            ],
            [
             0.6666666666666666,
             "#ed7953"
            ],
            [
             0.7777777777777778,
             "#fb9f3a"
            ],
            [
             0.8888888888888888,
             "#fdca26"
            ],
            [
             1,
             "#f0f921"
            ]
           ]
          },
          "colorway": [
           "#636efa",
           "#EF553B",
           "#00cc96",
           "#ab63fa",
           "#FFA15A",
           "#19d3f3",
           "#FF6692",
           "#B6E880",
           "#FF97FF",
           "#FECB52"
          ],
          "font": {
           "color": "#2a3f5f"
          },
          "geo": {
           "bgcolor": "white",
           "lakecolor": "white",
           "landcolor": "#E5ECF6",
           "showlakes": true,
           "showland": true,
           "subunitcolor": "white"
          },
          "hoverlabel": {
           "align": "left"
          },
          "hovermode": "closest",
          "mapbox": {
           "style": "light"
          },
          "paper_bgcolor": "white",
          "plot_bgcolor": "#E5ECF6",
          "polar": {
           "angularaxis": {
            "gridcolor": "white",
            "linecolor": "white",
            "ticks": ""
           },
           "bgcolor": "#E5ECF6",
           "radialaxis": {
            "gridcolor": "white",
            "linecolor": "white",
            "ticks": ""
           }
          },
          "scene": {
           "xaxis": {
            "backgroundcolor": "#E5ECF6",
            "gridcolor": "white",
            "gridwidth": 2,
            "linecolor": "white",
            "showbackground": true,
            "ticks": "",
            "zerolinecolor": "white"
           },
           "yaxis": {
            "backgroundcolor": "#E5ECF6",
            "gridcolor": "white",
            "gridwidth": 2,
            "linecolor": "white",
            "showbackground": true,
            "ticks": "",
            "zerolinecolor": "white"
           },
           "zaxis": {
            "backgroundcolor": "#E5ECF6",
            "gridcolor": "white",
            "gridwidth": 2,
            "linecolor": "white",
            "showbackground": true,
            "ticks": "",
            "zerolinecolor": "white"
           }
          },
          "shapedefaults": {
           "line": {
            "color": "#2a3f5f"
           }
          },
          "ternary": {
           "aaxis": {
            "gridcolor": "white",
            "linecolor": "white",
            "ticks": ""
           },
           "baxis": {
            "gridcolor": "white",
            "linecolor": "white",
            "ticks": ""
           },
           "bgcolor": "#E5ECF6",
           "caxis": {
            "gridcolor": "white",
            "linecolor": "white",
            "ticks": ""
           }
          },
          "title": {
           "x": 0.05
          },
          "xaxis": {
           "automargin": true,
           "gridcolor": "white",
           "linecolor": "white",
           "ticks": "",
           "title": {
            "standoff": 15
           },
           "zerolinecolor": "white",
           "zerolinewidth": 2
          },
          "yaxis": {
           "automargin": true,
           "gridcolor": "white",
           "linecolor": "white",
           "ticks": "",
           "title": {
            "standoff": 15
           },
           "zerolinecolor": "white",
           "zerolinewidth": 2
          }
         }
        },
        "title": {
         "text": "🏢 Análise das Variáveis Categóricas",
         "x": 0.5
        },
        "xaxis": {
         "anchor": "y",
         "domain": [
          0,
          0.45
         ],
         "title": {
          "text": "Empresa"
         }
        },
        "xaxis2": {
         "anchor": "y2",
         "domain": [
          0.55,
          1
         ],
         "title": {
          "text": "Estado"
         }
        },
        "xaxis3": {
         "anchor": "y3",
         "domain": [
          0,
          0.45
         ]
        },
        "xaxis4": {
         "anchor": "y4",
         "domain": [
          0.55,
          1
         ]
        },
        "yaxis": {
         "anchor": "x",
         "domain": [
          0.625,
          1
         ],
         "title": {
          "text": "Quantidade"
         }
        },
        "yaxis2": {
         "anchor": "x2",
         "domain": [
          0.625,
          1
         ],
         "title": {
          "text": "Quantidade"
         }
        },
        "yaxis3": {
         "anchor": "x3",
         "domain": [
          0,
          0.375
         ]
        },
        "yaxis4": {
         "anchor": "x4",
         "domain": [
          0,
          0.375
         ]
        }
       }
      }
     },
     "metadata": {},
     "output_type": "display_data"
    },
    {
     "ename": "FileNotFoundError",
     "evalue": "[Errno 2] No such file or directory: '\\\\home\\\\ubuntu\\\\analise_variaveis_categoricas.html'",
     "output_type": "error",
     "traceback": [
      "\u001b[31m---------------------------------------------------------------------------\u001b[39m",
      "\u001b[31mFileNotFoundError\u001b[39m                         Traceback (most recent call last)",
      "\u001b[36mCell\u001b[39m\u001b[36m \u001b[39m\u001b[32mIn[8]\u001b[39m\u001b[32m, line 84\u001b[39m\n\u001b[32m     81\u001b[39m fig.show()\n\u001b[32m     83\u001b[39m \u001b[38;5;66;03m# Salvando o gráfico\u001b[39;00m\n\u001b[32m---> \u001b[39m\u001b[32m84\u001b[39m \u001b[43mfig\u001b[49m\u001b[43m.\u001b[49m\u001b[43mwrite_html\u001b[49m\u001b[43m(\u001b[49m\u001b[33;43m\"\u001b[39;49m\u001b[33;43m/home/ubuntu/analise_variaveis_categoricas.html\u001b[39;49m\u001b[33;43m\"\u001b[39;49m\u001b[43m)\u001b[49m\n\u001b[32m     85\u001b[39m \u001b[38;5;28mprint\u001b[39m(\u001b[33m\"\u001b[39m\u001b[33m💾 Gráfico salvo como \u001b[39m\u001b[33m'\u001b[39m\u001b[33manalise_variaveis_categoricas.html\u001b[39m\u001b[33m'\u001b[39m\u001b[33m\"\u001b[39m)\n",
      "\u001b[36mFile \u001b[39m\u001b[32m~\\AppData\\Local\\Packages\\PythonSoftwareFoundation.Python.3.11_qbz5n2kfra8p0\\LocalCache\\local-packages\\Python311\\site-packages\\plotly\\basedatatypes.py:3706\u001b[39m, in \u001b[36mBaseFigure.write_html\u001b[39m\u001b[34m(self, *args, **kwargs)\u001b[39m\n\u001b[32m   3603\u001b[39m \u001b[38;5;250m\u001b[39m\u001b[33;03m\"\"\"\u001b[39;00m\n\u001b[32m   3604\u001b[39m \u001b[33;03mWrite a figure to an HTML file representation\u001b[39;00m\n\u001b[32m   3605\u001b[39m \n\u001b[32m   (...)\u001b[39m\u001b[32m   3702\u001b[39m \u001b[33;03mNone\u001b[39;00m\n\u001b[32m   3703\u001b[39m \u001b[33;03m\"\"\"\u001b[39;00m\n\u001b[32m   3704\u001b[39m \u001b[38;5;28;01mimport\u001b[39;00m\u001b[38;5;250m \u001b[39m\u001b[34;01mplotly\u001b[39;00m\u001b[34;01m.\u001b[39;00m\u001b[34;01mio\u001b[39;00m\u001b[38;5;250m \u001b[39m\u001b[38;5;28;01mas\u001b[39;00m\u001b[38;5;250m \u001b[39m\u001b[34;01mpio\u001b[39;00m\n\u001b[32m-> \u001b[39m\u001b[32m3706\u001b[39m \u001b[38;5;28;01mreturn\u001b[39;00m \u001b[43mpio\u001b[49m\u001b[43m.\u001b[49m\u001b[43mwrite_html\u001b[49m\u001b[43m(\u001b[49m\u001b[38;5;28;43mself\u001b[39;49m\u001b[43m,\u001b[49m\u001b[43m \u001b[49m\u001b[43m*\u001b[49m\u001b[43margs\u001b[49m\u001b[43m,\u001b[49m\u001b[43m \u001b[49m\u001b[43m*\u001b[49m\u001b[43m*\u001b[49m\u001b[43mkwargs\u001b[49m\u001b[43m)\u001b[49m\n",
      "\u001b[36mFile \u001b[39m\u001b[32m~\\AppData\\Local\\Packages\\PythonSoftwareFoundation.Python.3.11_qbz5n2kfra8p0\\LocalCache\\local-packages\\Python311\\site-packages\\plotly\\io\\_html.py:509\u001b[39m, in \u001b[36mwrite_html\u001b[39m\u001b[34m(fig, file, config, auto_play, include_plotlyjs, include_mathjax, post_script, full_html, animation_opts, validate, default_width, default_height, auto_open, div_id)\u001b[39m\n\u001b[32m    506\u001b[39m \u001b[38;5;66;03m# Write HTML string\u001b[39;00m\n\u001b[32m    507\u001b[39m \u001b[38;5;28;01mif\u001b[39;00m path \u001b[38;5;129;01mis\u001b[39;00m \u001b[38;5;129;01mnot\u001b[39;00m \u001b[38;5;28;01mNone\u001b[39;00m:\n\u001b[32m    508\u001b[39m     \u001b[38;5;66;03m# To use a different file encoding, pass a file descriptor\u001b[39;00m\n\u001b[32m--> \u001b[39m\u001b[32m509\u001b[39m     \u001b[43mpath\u001b[49m\u001b[43m.\u001b[49m\u001b[43mwrite_text\u001b[49m\u001b[43m(\u001b[49m\u001b[43mhtml_str\u001b[49m\u001b[43m,\u001b[49m\u001b[43m \u001b[49m\u001b[33;43m\"\u001b[39;49m\u001b[33;43mutf-8\u001b[39;49m\u001b[33;43m\"\u001b[39;49m\u001b[43m)\u001b[49m\n\u001b[32m    510\u001b[39m \u001b[38;5;28;01melse\u001b[39;00m:\n\u001b[32m    511\u001b[39m     file.write(html_str)\n",
      "\u001b[36mFile \u001b[39m\u001b[32mC:\\Program Files\\WindowsApps\\PythonSoftwareFoundation.Python.3.11_3.11.2544.0_x64__qbz5n2kfra8p0\\Lib\\pathlib.py:1078\u001b[39m, in \u001b[36mPath.write_text\u001b[39m\u001b[34m(self, data, encoding, errors, newline)\u001b[39m\n\u001b[32m   1075\u001b[39m     \u001b[38;5;28;01mraise\u001b[39;00m \u001b[38;5;167;01mTypeError\u001b[39;00m(\u001b[33m'\u001b[39m\u001b[33mdata must be str, not \u001b[39m\u001b[38;5;132;01m%s\u001b[39;00m\u001b[33m'\u001b[39m %\n\u001b[32m   1076\u001b[39m                     data.\u001b[34m__class__\u001b[39m.\u001b[34m__name__\u001b[39m)\n\u001b[32m   1077\u001b[39m encoding = io.text_encoding(encoding)\n\u001b[32m-> \u001b[39m\u001b[32m1078\u001b[39m \u001b[38;5;28;01mwith\u001b[39;00m \u001b[38;5;28;43mself\u001b[39;49m\u001b[43m.\u001b[49m\u001b[43mopen\u001b[49m\u001b[43m(\u001b[49m\u001b[43mmode\u001b[49m\u001b[43m=\u001b[49m\u001b[33;43m'\u001b[39;49m\u001b[33;43mw\u001b[39;49m\u001b[33;43m'\u001b[39;49m\u001b[43m,\u001b[49m\u001b[43m \u001b[49m\u001b[43mencoding\u001b[49m\u001b[43m=\u001b[49m\u001b[43mencoding\u001b[49m\u001b[43m,\u001b[49m\u001b[43m \u001b[49m\u001b[43merrors\u001b[49m\u001b[43m=\u001b[49m\u001b[43merrors\u001b[49m\u001b[43m,\u001b[49m\u001b[43m \u001b[49m\u001b[43mnewline\u001b[49m\u001b[43m=\u001b[49m\u001b[43mnewline\u001b[49m\u001b[43m)\u001b[49m \u001b[38;5;28;01mas\u001b[39;00m f:\n\u001b[32m   1079\u001b[39m     \u001b[38;5;28;01mreturn\u001b[39;00m f.write(data)\n",
      "\u001b[36mFile \u001b[39m\u001b[32mC:\\Program Files\\WindowsApps\\PythonSoftwareFoundation.Python.3.11_3.11.2544.0_x64__qbz5n2kfra8p0\\Lib\\pathlib.py:1044\u001b[39m, in \u001b[36mPath.open\u001b[39m\u001b[34m(self, mode, buffering, encoding, errors, newline)\u001b[39m\n\u001b[32m   1042\u001b[39m \u001b[38;5;28;01mif\u001b[39;00m \u001b[33m\"\u001b[39m\u001b[33mb\u001b[39m\u001b[33m\"\u001b[39m \u001b[38;5;129;01mnot\u001b[39;00m \u001b[38;5;129;01min\u001b[39;00m mode:\n\u001b[32m   1043\u001b[39m     encoding = io.text_encoding(encoding)\n\u001b[32m-> \u001b[39m\u001b[32m1044\u001b[39m \u001b[38;5;28;01mreturn\u001b[39;00m io.open(\u001b[38;5;28mself\u001b[39m, mode, buffering, encoding, errors, newline)\n",
      "\u001b[31mFileNotFoundError\u001b[39m: [Errno 2] No such file or directory: '\\\\home\\\\ubuntu\\\\analise_variaveis_categoricas.html'"
     ]
    }
   ],
   "source": [
    "# Visualização da relação entre variáveis categóricas e target\n",
    "fig = make_subplots(\n",
    "    rows=2, cols=2,\n",
    "    subplot_titles=[\n",
    "        'Distribuição por Empresa',\n",
    "        'Distribuição por Estado',\n",
    "        'Heatmap: Empresa vs Categoria',\n",
    "        'Heatmap: Estado vs Categoria'\n",
    "    ],\n",
    "    specs=[[{'type': 'bar'}, {'type': 'bar'}],\n",
    "           [{'type': 'heatmap'}, {'type': 'heatmap'}]]\n",
    ")\n",
    "\n",
    "# Distribuição por empresa\n",
    "empresa_counts = df['empresa'].value_counts()\n",
    "fig.add_trace(\n",
    "    go.Bar(\n",
    "        x=empresa_counts.index,\n",
    "        y=empresa_counts.values,\n",
    "        text=empresa_counts.values,\n",
    "        textposition='auto',\n",
    "        marker_color='#FF6B6B',\n",
    "        showlegend=False\n",
    "    ),\n",
    "    row=1, col=1\n",
    ")\n",
    "\n",
    "# Distribuição por estado (top 10)\n",
    "estado_counts = df['estado'].value_counts().head(10)\n",
    "fig.add_trace(\n",
    "    go.Bar(\n",
    "        x=estado_counts.index,\n",
    "        y=estado_counts.values,\n",
    "        text=estado_counts.values,\n",
    "        textposition='auto',\n",
    "        marker_color='#4ECDC4',\n",
    "        showlegend=False\n",
    "    ),\n",
    "    row=1, col=2\n",
    ")\n",
    "\n",
    "# Heatmap empresa vs categoria\n",
    "empresa_categoria = pd.crosstab(df['empresa'], df['categoria'])\n",
    "fig.add_trace(\n",
    "    go.Heatmap(\n",
    "        z=empresa_categoria.values,\n",
    "        x=empresa_categoria.columns,\n",
    "        y=empresa_categoria.index,\n",
    "        colorscale='Viridis',\n",
    "        showscale=False\n",
    "    ),\n",
    "    row=2, col=1\n",
    ")\n",
    "\n",
    "# Heatmap estado vs categoria (top 10 estados)\n",
    "top_estados = df['estado'].value_counts().head(10).index\n",
    "df_top_estados = df[df['estado'].isin(top_estados)]\n",
    "estado_categoria = pd.crosstab(df_top_estados['estado'], df_top_estados['categoria'])\n",
    "fig.add_trace(\n",
    "    go.Heatmap(\n",
    "        z=estado_categoria.values,\n",
    "        x=estado_categoria.columns,\n",
    "        y=estado_categoria.index,\n",
    "        colorscale='Plasma',\n",
    "        showscale=False\n",
    "    ),\n",
    "    row=2, col=2\n",
    ")\n",
    "\n",
    "fig.update_layout(\n",
    "    title_text=\"🏢 Análise das Variáveis Categóricas\",\n",
    "    title_x=0.5,\n",
    "    height=800\n",
    ")\n",
    "\n",
    "fig.update_xaxes(title_text=\"Empresa\", row=1, col=1)\n",
    "fig.update_xaxes(title_text=\"Estado\", row=1, col=2)\n",
    "fig.update_yaxes(title_text=\"Quantidade\", row=1, col=1)\n",
    "fig.update_yaxes(title_text=\"Quantidade\", row=1, col=2)\n",
    "\n",
    "fig.show()\n",
    "\n",
    "# Salvando o gráfico\n",
    "fig.write_html(\"/home/ubuntu/analise_variaveis_categoricas.html\")\n",
    "print(\"💾 Gráfico salvo como 'analise_variaveis_categoricas.html'\")"
   ]
  },
  {
   "cell_type": "markdown",
   "metadata": {},
   "source": [
    "### 3.5 Matriz de Correlação\n",
    "\n",
    "Vamos analisar as correlações entre as variáveis numéricas para identificar possíveis relações lineares."
   ]
  },
  {
   "cell_type": "code",
   "execution_count": 9,
   "metadata": {},
   "outputs": [
    {
     "name": "stdout",
     "output_type": "stream",
     "text": [
      "🔗 MATRIZ DE CORRELAÇÃO\n",
      "==============================\n",
      "                     valor_envolvido  tempo_resposta_dias\n",
      "valor_envolvido             1.000000            -0.003212\n",
      "tempo_resposta_dias        -0.003212             1.000000\n"
     ]
    },
    {
     "data": {
      "application/vnd.plotly.v1+json": {
       "config": {
        "plotlyServerURL": "https://plot.ly"
       },
       "data": [
        {
         "colorscale": [
          [
           0,
           "rgb(103,0,31)"
          ],
          [
           0.1,
           "rgb(178,24,43)"
          ],
          [
           0.2,
           "rgb(214,96,77)"
          ],
          [
           0.3,
           "rgb(244,165,130)"
          ],
          [
           0.4,
           "rgb(253,219,199)"
          ],
          [
           0.5,
           "rgb(247,247,247)"
          ],
          [
           0.6,
           "rgb(209,229,240)"
          ],
          [
           0.7,
           "rgb(146,197,222)"
          ],
          [
           0.8,
           "rgb(67,147,195)"
          ],
          [
           0.9,
           "rgb(33,102,172)"
          ],
          [
           1,
           "rgb(5,48,97)"
          ]
         ],
         "hoverongaps": false,
         "text": {
          "bdata": "AAAAAAAA8D/6fmq8dJNov/p+arx0k2i/AAAAAAAA8D8=",
          "dtype": "f8",
          "shape": "2, 2"
         },
         "textfont": {
          "size": 12
         },
         "texttemplate": "%{text}",
         "type": "heatmap",
         "x": [
          "valor_envolvido",
          "tempo_resposta_dias"
         ],
         "y": [
          "valor_envolvido",
          "tempo_resposta_dias"
         ],
         "z": {
          "bdata": "AAAAAAAA8D+gQgB85U9qv6BCAHzlT2q/AAAAAAAA8D8=",
          "dtype": "f8",
          "shape": "2, 2"
         },
         "zmid": 0
        }
       ],
       "layout": {
        "height": 500,
        "template": {
         "data": {
          "bar": [
           {
            "error_x": {
             "color": "#2a3f5f"
            },
            "error_y": {
             "color": "#2a3f5f"
            },
            "marker": {
             "line": {
              "color": "#E5ECF6",
              "width": 0.5
             },
             "pattern": {
              "fillmode": "overlay",
              "size": 10,
              "solidity": 0.2
             }
            },
            "type": "bar"
           }
          ],
          "barpolar": [
           {
            "marker": {
             "line": {
              "color": "#E5ECF6",
              "width": 0.5
             },
             "pattern": {
              "fillmode": "overlay",
              "size": 10,
              "solidity": 0.2
             }
            },
            "type": "barpolar"
           }
          ],
          "carpet": [
           {
            "aaxis": {
             "endlinecolor": "#2a3f5f",
             "gridcolor": "white",
             "linecolor": "white",
             "minorgridcolor": "white",
             "startlinecolor": "#2a3f5f"
            },
            "baxis": {
             "endlinecolor": "#2a3f5f",
             "gridcolor": "white",
             "linecolor": "white",
             "minorgridcolor": "white",
             "startlinecolor": "#2a3f5f"
            },
            "type": "carpet"
           }
          ],
          "choropleth": [
           {
            "colorbar": {
             "outlinewidth": 0,
             "ticks": ""
            },
            "type": "choropleth"
           }
          ],
          "contour": [
           {
            "colorbar": {
             "outlinewidth": 0,
             "ticks": ""
            },
            "colorscale": [
             [
              0,
              "#0d0887"
             ],
             [
              0.1111111111111111,
              "#46039f"
             ],
             [
              0.2222222222222222,
              "#7201a8"
             ],
             [
              0.3333333333333333,
              "#9c179e"
             ],
             [
              0.4444444444444444,
              "#bd3786"
             ],
             [
              0.5555555555555556,
              "#d8576b"
             ],
             [
              0.6666666666666666,
              "#ed7953"
             ],
             [
              0.7777777777777778,
              "#fb9f3a"
             ],
             [
              0.8888888888888888,
              "#fdca26"
             ],
             [
              1,
              "#f0f921"
             ]
            ],
            "type": "contour"
           }
          ],
          "contourcarpet": [
           {
            "colorbar": {
             "outlinewidth": 0,
             "ticks": ""
            },
            "type": "contourcarpet"
           }
          ],
          "heatmap": [
           {
            "colorbar": {
             "outlinewidth": 0,
             "ticks": ""
            },
            "colorscale": [
             [
              0,
              "#0d0887"
             ],
             [
              0.1111111111111111,
              "#46039f"
             ],
             [
              0.2222222222222222,
              "#7201a8"
             ],
             [
              0.3333333333333333,
              "#9c179e"
             ],
             [
              0.4444444444444444,
              "#bd3786"
             ],
             [
              0.5555555555555556,
              "#d8576b"
             ],
             [
              0.6666666666666666,
              "#ed7953"
             ],
             [
              0.7777777777777778,
              "#fb9f3a"
             ],
             [
              0.8888888888888888,
              "#fdca26"
             ],
             [
              1,
              "#f0f921"
             ]
            ],
            "type": "heatmap"
           }
          ],
          "histogram": [
           {
            "marker": {
             "pattern": {
              "fillmode": "overlay",
              "size": 10,
              "solidity": 0.2
             }
            },
            "type": "histogram"
           }
          ],
          "histogram2d": [
           {
            "colorbar": {
             "outlinewidth": 0,
             "ticks": ""
            },
            "colorscale": [
             [
              0,
              "#0d0887"
             ],
             [
              0.1111111111111111,
              "#46039f"
             ],
             [
              0.2222222222222222,
              "#7201a8"
             ],
             [
              0.3333333333333333,
              "#9c179e"
             ],
             [
              0.4444444444444444,
              "#bd3786"
             ],
             [
              0.5555555555555556,
              "#d8576b"
             ],
             [
              0.6666666666666666,
              "#ed7953"
             ],
             [
              0.7777777777777778,
              "#fb9f3a"
             ],
             [
              0.8888888888888888,
              "#fdca26"
             ],
             [
              1,
              "#f0f921"
             ]
            ],
            "type": "histogram2d"
           }
          ],
          "histogram2dcontour": [
           {
            "colorbar": {
             "outlinewidth": 0,
             "ticks": ""
            },
            "colorscale": [
             [
              0,
              "#0d0887"
             ],
             [
              0.1111111111111111,
              "#46039f"
             ],
             [
              0.2222222222222222,
              "#7201a8"
             ],
             [
              0.3333333333333333,
              "#9c179e"
             ],
             [
              0.4444444444444444,
              "#bd3786"
             ],
             [
              0.5555555555555556,
              "#d8576b"
             ],
             [
              0.6666666666666666,
              "#ed7953"
             ],
             [
              0.7777777777777778,
              "#fb9f3a"
             ],
             [
              0.8888888888888888,
              "#fdca26"
             ],
             [
              1,
              "#f0f921"
             ]
            ],
            "type": "histogram2dcontour"
           }
          ],
          "mesh3d": [
           {
            "colorbar": {
             "outlinewidth": 0,
             "ticks": ""
            },
            "type": "mesh3d"
           }
          ],
          "parcoords": [
           {
            "line": {
             "colorbar": {
              "outlinewidth": 0,
              "ticks": ""
             }
            },
            "type": "parcoords"
           }
          ],
          "pie": [
           {
            "automargin": true,
            "type": "pie"
           }
          ],
          "scatter": [
           {
            "fillpattern": {
             "fillmode": "overlay",
             "size": 10,
             "solidity": 0.2
            },
            "type": "scatter"
           }
          ],
          "scatter3d": [
           {
            "line": {
             "colorbar": {
              "outlinewidth": 0,
              "ticks": ""
             }
            },
            "marker": {
             "colorbar": {
              "outlinewidth": 0,
              "ticks": ""
             }
            },
            "type": "scatter3d"
           }
          ],
          "scattercarpet": [
           {
            "marker": {
             "colorbar": {
              "outlinewidth": 0,
              "ticks": ""
             }
            },
            "type": "scattercarpet"
           }
          ],
          "scattergeo": [
           {
            "marker": {
             "colorbar": {
              "outlinewidth": 0,
              "ticks": ""
             }
            },
            "type": "scattergeo"
           }
          ],
          "scattergl": [
           {
            "marker": {
             "colorbar": {
              "outlinewidth": 0,
              "ticks": ""
             }
            },
            "type": "scattergl"
           }
          ],
          "scattermap": [
           {
            "marker": {
             "colorbar": {
              "outlinewidth": 0,
              "ticks": ""
             }
            },
            "type": "scattermap"
           }
          ],
          "scattermapbox": [
           {
            "marker": {
             "colorbar": {
              "outlinewidth": 0,
              "ticks": ""
             }
            },
            "type": "scattermapbox"
           }
          ],
          "scatterpolar": [
           {
            "marker": {
             "colorbar": {
              "outlinewidth": 0,
              "ticks": ""
             }
            },
            "type": "scatterpolar"
           }
          ],
          "scatterpolargl": [
           {
            "marker": {
             "colorbar": {
              "outlinewidth": 0,
              "ticks": ""
             }
            },
            "type": "scatterpolargl"
           }
          ],
          "scatterternary": [
           {
            "marker": {
             "colorbar": {
              "outlinewidth": 0,
              "ticks": ""
             }
            },
            "type": "scatterternary"
           }
          ],
          "surface": [
           {
            "colorbar": {
             "outlinewidth": 0,
             "ticks": ""
            },
            "colorscale": [
             [
              0,
              "#0d0887"
             ],
             [
              0.1111111111111111,
              "#46039f"
             ],
             [
              0.2222222222222222,
              "#7201a8"
             ],
             [
              0.3333333333333333,
              "#9c179e"
             ],
             [
              0.4444444444444444,
              "#bd3786"
             ],
             [
              0.5555555555555556,
              "#d8576b"
             ],
             [
              0.6666666666666666,
              "#ed7953"
             ],
             [
              0.7777777777777778,
              "#fb9f3a"
             ],
             [
              0.8888888888888888,
              "#fdca26"
             ],
             [
              1,
              "#f0f921"
             ]
            ],
            "type": "surface"
           }
          ],
          "table": [
           {
            "cells": {
             "fill": {
              "color": "#EBF0F8"
             },
             "line": {
              "color": "white"
             }
            },
            "header": {
             "fill": {
              "color": "#C8D4E3"
             },
             "line": {
              "color": "white"
             }
            },
            "type": "table"
           }
          ]
         },
         "layout": {
          "annotationdefaults": {
           "arrowcolor": "#2a3f5f",
           "arrowhead": 0,
           "arrowwidth": 1
          },
          "autotypenumbers": "strict",
          "coloraxis": {
           "colorbar": {
            "outlinewidth": 0,
            "ticks": ""
           }
          },
          "colorscale": {
           "diverging": [
            [
             0,
             "#8e0152"
            ],
            [
             0.1,
             "#c51b7d"
            ],
            [
             0.2,
             "#de77ae"
            ],
            [
             0.3,
             "#f1b6da"
            ],
            [
             0.4,
             "#fde0ef"
            ],
            [
             0.5,
             "#f7f7f7"
            ],
            [
             0.6,
             "#e6f5d0"
            ],
            [
             0.7,
             "#b8e186"
            ],
            [
             0.8,
             "#7fbc41"
            ],
            [
             0.9,
             "#4d9221"
            ],
            [
             1,
             "#276419"
            ]
           ],
           "sequential": [
            [
             0,
             "#0d0887"
            ],
            [
             0.1111111111111111,
             "#46039f"
            ],
            [
             0.2222222222222222,
             "#7201a8"
            ],
            [
             0.3333333333333333,
             "#9c179e"
            ],
            [
             0.4444444444444444,
             "#bd3786"
            ],
            [
             0.5555555555555556,
             "#d8576b"
            ],
            [
             0.6666666666666666,
             "#ed7953"
            ],
            [
             0.7777777777777778,
             "#fb9f3a"
            ],
            [
             0.8888888888888888,
             "#fdca26"
            ],
            [
             1,
             "#f0f921"
            ]
           ],
           "sequentialminus": [
            [
             0,
             "#0d0887"
            ],
            [
             0.1111111111111111,
             "#46039f"
            ],
            [
             0.2222222222222222,
             "#7201a8"
            ],
            [
             0.3333333333333333,
             "#9c179e"
            ],
            [
             0.4444444444444444,
             "#bd3786"
            ],
            [
             0.5555555555555556,
             "#d8576b"
            ],
            [
             0.6666666666666666,
             "#ed7953"
            ],
            [
             0.7777777777777778,
             "#fb9f3a"
            ],
            [
             0.8888888888888888,
             "#fdca26"
            ],
            [
             1,
             "#f0f921"
            ]
           ]
          },
          "colorway": [
           "#636efa",
           "#EF553B",
           "#00cc96",
           "#ab63fa",
           "#FFA15A",
           "#19d3f3",
           "#FF6692",
           "#B6E880",
           "#FF97FF",
           "#FECB52"
          ],
          "font": {
           "color": "#2a3f5f"
          },
          "geo": {
           "bgcolor": "white",
           "lakecolor": "white",
           "landcolor": "#E5ECF6",
           "showlakes": true,
           "showland": true,
           "subunitcolor": "white"
          },
          "hoverlabel": {
           "align": "left"
          },
          "hovermode": "closest",
          "mapbox": {
           "style": "light"
          },
          "paper_bgcolor": "white",
          "plot_bgcolor": "#E5ECF6",
          "polar": {
           "angularaxis": {
            "gridcolor": "white",
            "linecolor": "white",
            "ticks": ""
           },
           "bgcolor": "#E5ECF6",
           "radialaxis": {
            "gridcolor": "white",
            "linecolor": "white",
            "ticks": ""
           }
          },
          "scene": {
           "xaxis": {
            "backgroundcolor": "#E5ECF6",
            "gridcolor": "white",
            "gridwidth": 2,
            "linecolor": "white",
            "showbackground": true,
            "ticks": "",
            "zerolinecolor": "white"
           },
           "yaxis": {
            "backgroundcolor": "#E5ECF6",
            "gridcolor": "white",
            "gridwidth": 2,
            "linecolor": "white",
            "showbackground": true,
            "ticks": "",
            "zerolinecolor": "white"
           },
           "zaxis": {
            "backgroundcolor": "#E5ECF6",
            "gridcolor": "white",
            "gridwidth": 2,
            "linecolor": "white",
            "showbackground": true,
            "ticks": "",
            "zerolinecolor": "white"
           }
          },
          "shapedefaults": {
           "line": {
            "color": "#2a3f5f"
           }
          },
          "ternary": {
           "aaxis": {
            "gridcolor": "white",
            "linecolor": "white",
            "ticks": ""
           },
           "baxis": {
            "gridcolor": "white",
            "linecolor": "white",
            "ticks": ""
           },
           "bgcolor": "#E5ECF6",
           "caxis": {
            "gridcolor": "white",
            "linecolor": "white",
            "ticks": ""
           }
          },
          "title": {
           "x": 0.05
          },
          "xaxis": {
           "automargin": true,
           "gridcolor": "white",
           "linecolor": "white",
           "ticks": "",
           "title": {
            "standoff": 15
           },
           "zerolinecolor": "white",
           "zerolinewidth": 2
          },
          "yaxis": {
           "automargin": true,
           "gridcolor": "white",
           "linecolor": "white",
           "ticks": "",
           "title": {
            "standoff": 15
           },
           "zerolinecolor": "white",
           "zerolinewidth": 2
          }
         }
        },
        "title": {
         "text": "🔗 Matriz de Correlação das Variáveis Numéricas",
         "x": 0.5
        },
        "width": 600
       }
      }
     },
     "metadata": {},
     "output_type": "display_data"
    },
    {
     "ename": "FileNotFoundError",
     "evalue": "[Errno 2] No such file or directory: '\\\\home\\\\ubuntu\\\\matriz_correlacao.html'",
     "output_type": "error",
     "traceback": [
      "\u001b[31m---------------------------------------------------------------------------\u001b[39m",
      "\u001b[31mFileNotFoundError\u001b[39m                         Traceback (most recent call last)",
      "\u001b[36mCell\u001b[39m\u001b[36m \u001b[39m\u001b[32mIn[9]\u001b[39m\u001b[32m, line 32\u001b[39m\n\u001b[32m     29\u001b[39m fig.show()\n\u001b[32m     31\u001b[39m \u001b[38;5;66;03m# Salvando o gráfico\u001b[39;00m\n\u001b[32m---> \u001b[39m\u001b[32m32\u001b[39m \u001b[43mfig\u001b[49m\u001b[43m.\u001b[49m\u001b[43mwrite_html\u001b[49m\u001b[43m(\u001b[49m\u001b[33;43m\"\u001b[39;49m\u001b[33;43m/home/ubuntu/matriz_correlacao.html\u001b[39;49m\u001b[33;43m\"\u001b[39;49m\u001b[43m)\u001b[49m\n\u001b[32m     33\u001b[39m \u001b[38;5;28mprint\u001b[39m(\u001b[33m\"\u001b[39m\u001b[33m💾 Gráfico salvo como \u001b[39m\u001b[33m'\u001b[39m\u001b[33mmatriz_correlacao.html\u001b[39m\u001b[33m'\u001b[39m\u001b[33m\"\u001b[39m)\n\u001b[32m     35\u001b[39m \u001b[38;5;66;03m# Interpretação das correlações\u001b[39;00m\n",
      "\u001b[36mFile \u001b[39m\u001b[32m~\\AppData\\Local\\Packages\\PythonSoftwareFoundation.Python.3.11_qbz5n2kfra8p0\\LocalCache\\local-packages\\Python311\\site-packages\\plotly\\basedatatypes.py:3706\u001b[39m, in \u001b[36mBaseFigure.write_html\u001b[39m\u001b[34m(self, *args, **kwargs)\u001b[39m\n\u001b[32m   3603\u001b[39m \u001b[38;5;250m\u001b[39m\u001b[33;03m\"\"\"\u001b[39;00m\n\u001b[32m   3604\u001b[39m \u001b[33;03mWrite a figure to an HTML file representation\u001b[39;00m\n\u001b[32m   3605\u001b[39m \n\u001b[32m   (...)\u001b[39m\u001b[32m   3702\u001b[39m \u001b[33;03mNone\u001b[39;00m\n\u001b[32m   3703\u001b[39m \u001b[33;03m\"\"\"\u001b[39;00m\n\u001b[32m   3704\u001b[39m \u001b[38;5;28;01mimport\u001b[39;00m\u001b[38;5;250m \u001b[39m\u001b[34;01mplotly\u001b[39;00m\u001b[34;01m.\u001b[39;00m\u001b[34;01mio\u001b[39;00m\u001b[38;5;250m \u001b[39m\u001b[38;5;28;01mas\u001b[39;00m\u001b[38;5;250m \u001b[39m\u001b[34;01mpio\u001b[39;00m\n\u001b[32m-> \u001b[39m\u001b[32m3706\u001b[39m \u001b[38;5;28;01mreturn\u001b[39;00m \u001b[43mpio\u001b[49m\u001b[43m.\u001b[49m\u001b[43mwrite_html\u001b[49m\u001b[43m(\u001b[49m\u001b[38;5;28;43mself\u001b[39;49m\u001b[43m,\u001b[49m\u001b[43m \u001b[49m\u001b[43m*\u001b[49m\u001b[43margs\u001b[49m\u001b[43m,\u001b[49m\u001b[43m \u001b[49m\u001b[43m*\u001b[49m\u001b[43m*\u001b[49m\u001b[43mkwargs\u001b[49m\u001b[43m)\u001b[49m\n",
      "\u001b[36mFile \u001b[39m\u001b[32m~\\AppData\\Local\\Packages\\PythonSoftwareFoundation.Python.3.11_qbz5n2kfra8p0\\LocalCache\\local-packages\\Python311\\site-packages\\plotly\\io\\_html.py:509\u001b[39m, in \u001b[36mwrite_html\u001b[39m\u001b[34m(fig, file, config, auto_play, include_plotlyjs, include_mathjax, post_script, full_html, animation_opts, validate, default_width, default_height, auto_open, div_id)\u001b[39m\n\u001b[32m    506\u001b[39m \u001b[38;5;66;03m# Write HTML string\u001b[39;00m\n\u001b[32m    507\u001b[39m \u001b[38;5;28;01mif\u001b[39;00m path \u001b[38;5;129;01mis\u001b[39;00m \u001b[38;5;129;01mnot\u001b[39;00m \u001b[38;5;28;01mNone\u001b[39;00m:\n\u001b[32m    508\u001b[39m     \u001b[38;5;66;03m# To use a different file encoding, pass a file descriptor\u001b[39;00m\n\u001b[32m--> \u001b[39m\u001b[32m509\u001b[39m     \u001b[43mpath\u001b[49m\u001b[43m.\u001b[49m\u001b[43mwrite_text\u001b[49m\u001b[43m(\u001b[49m\u001b[43mhtml_str\u001b[49m\u001b[43m,\u001b[49m\u001b[43m \u001b[49m\u001b[33;43m\"\u001b[39;49m\u001b[33;43mutf-8\u001b[39;49m\u001b[33;43m\"\u001b[39;49m\u001b[43m)\u001b[49m\n\u001b[32m    510\u001b[39m \u001b[38;5;28;01melse\u001b[39;00m:\n\u001b[32m    511\u001b[39m     file.write(html_str)\n",
      "\u001b[36mFile \u001b[39m\u001b[32mC:\\Program Files\\WindowsApps\\PythonSoftwareFoundation.Python.3.11_3.11.2544.0_x64__qbz5n2kfra8p0\\Lib\\pathlib.py:1078\u001b[39m, in \u001b[36mPath.write_text\u001b[39m\u001b[34m(self, data, encoding, errors, newline)\u001b[39m\n\u001b[32m   1075\u001b[39m     \u001b[38;5;28;01mraise\u001b[39;00m \u001b[38;5;167;01mTypeError\u001b[39;00m(\u001b[33m'\u001b[39m\u001b[33mdata must be str, not \u001b[39m\u001b[38;5;132;01m%s\u001b[39;00m\u001b[33m'\u001b[39m %\n\u001b[32m   1076\u001b[39m                     data.\u001b[34m__class__\u001b[39m.\u001b[34m__name__\u001b[39m)\n\u001b[32m   1077\u001b[39m encoding = io.text_encoding(encoding)\n\u001b[32m-> \u001b[39m\u001b[32m1078\u001b[39m \u001b[38;5;28;01mwith\u001b[39;00m \u001b[38;5;28;43mself\u001b[39;49m\u001b[43m.\u001b[49m\u001b[43mopen\u001b[49m\u001b[43m(\u001b[49m\u001b[43mmode\u001b[49m\u001b[43m=\u001b[49m\u001b[33;43m'\u001b[39;49m\u001b[33;43mw\u001b[39;49m\u001b[33;43m'\u001b[39;49m\u001b[43m,\u001b[49m\u001b[43m \u001b[49m\u001b[43mencoding\u001b[49m\u001b[43m=\u001b[49m\u001b[43mencoding\u001b[49m\u001b[43m,\u001b[49m\u001b[43m \u001b[49m\u001b[43merrors\u001b[49m\u001b[43m=\u001b[49m\u001b[43merrors\u001b[49m\u001b[43m,\u001b[49m\u001b[43m \u001b[49m\u001b[43mnewline\u001b[49m\u001b[43m=\u001b[49m\u001b[43mnewline\u001b[49m\u001b[43m)\u001b[49m \u001b[38;5;28;01mas\u001b[39;00m f:\n\u001b[32m   1079\u001b[39m     \u001b[38;5;28;01mreturn\u001b[39;00m f.write(data)\n",
      "\u001b[36mFile \u001b[39m\u001b[32mC:\\Program Files\\WindowsApps\\PythonSoftwareFoundation.Python.3.11_3.11.2544.0_x64__qbz5n2kfra8p0\\Lib\\pathlib.py:1044\u001b[39m, in \u001b[36mPath.open\u001b[39m\u001b[34m(self, mode, buffering, encoding, errors, newline)\u001b[39m\n\u001b[32m   1042\u001b[39m \u001b[38;5;28;01mif\u001b[39;00m \u001b[33m\"\u001b[39m\u001b[33mb\u001b[39m\u001b[33m\"\u001b[39m \u001b[38;5;129;01mnot\u001b[39;00m \u001b[38;5;129;01min\u001b[39;00m mode:\n\u001b[32m   1043\u001b[39m     encoding = io.text_encoding(encoding)\n\u001b[32m-> \u001b[39m\u001b[32m1044\u001b[39m \u001b[38;5;28;01mreturn\u001b[39;00m io.open(\u001b[38;5;28mself\u001b[39m, mode, buffering, encoding, errors, newline)\n",
      "\u001b[31mFileNotFoundError\u001b[39m: [Errno 2] No such file or directory: '\\\\home\\\\ubuntu\\\\matriz_correlacao.html'"
     ]
    }
   ],
   "source": [
    "# Matriz de correlação\n",
    "numeric_data = df[numeric_cols]\n",
    "correlation_matrix = numeric_data.corr()\n",
    "\n",
    "print(\"🔗 MATRIZ DE CORRELAÇÃO\")\n",
    "print(\"=\" * 30)\n",
    "print(correlation_matrix)\n",
    "\n",
    "# Visualização da matriz de correlação\n",
    "fig = go.Figure(data=go.Heatmap(\n",
    "    z=correlation_matrix.values,\n",
    "    x=correlation_matrix.columns,\n",
    "    y=correlation_matrix.columns,\n",
    "    colorscale='RdBu',\n",
    "    zmid=0,\n",
    "    text=correlation_matrix.round(3).values,\n",
    "    texttemplate=\"%{text}\",\n",
    "    textfont={\"size\": 12},\n",
    "    hoverongaps=False\n",
    "))\n",
    "\n",
    "fig.update_layout(\n",
    "    title=\"🔗 Matriz de Correlação das Variáveis Numéricas\",\n",
    "    title_x=0.5,\n",
    "    width=600,\n",
    "    height=500\n",
    ")\n",
    "\n",
    "fig.show()\n",
    "\n",
    "# Salvando o gráfico\n",
    "fig.write_html(\"/home/ubuntu/matriz_correlacao.html\")\n",
    "print(\"💾 Gráfico salvo como 'matriz_correlacao.html'\")\n",
    "\n",
    "# Interpretação das correlações\n",
    "print(\"\\n📊 INTERPRETAÇÃO DAS CORRELAÇÕES:\")\n",
    "for i in range(len(correlation_matrix.columns)):\n",
    "    for j in range(i+1, len(correlation_matrix.columns)):\n",
    "        corr_value = correlation_matrix.iloc[i, j]\n",
    "        var1 = correlation_matrix.columns[i]\n",
    "        var2 = correlation_matrix.columns[j]\n",
    "        \n",
    "        if abs(corr_value) > 0.7:\n",
    "            strength = \"forte\"\n",
    "        elif abs(corr_value) > 0.3:\n",
    "            strength = \"moderada\"\n",
    "        else:\n",
    "            strength = \"fraca\"\n",
    "        \n",
    "        direction = \"positiva\" if corr_value > 0 else \"negativa\"\n",
    "        print(f\"{var1} vs {var2}: {corr_value:.3f} (correlação {strength} {direction})\")"
   ]
  },
  {
   "cell_type": "markdown",
   "metadata": {},
   "source": [
    "## 4. 🔧 Pré-processamento e Feature Engineering\n",
    "\n",
    "O pré-processamento é uma etapa crucial que pode determinar o sucesso do modelo. Vamos aplicar as seguintes transformações:\n",
    "\n",
    "### 🎯 Objetivos do Pré-processamento:\n",
    "- **Encoding de variáveis categóricas** (One-Hot Encoding)\n",
    "- **Normalização de variáveis numéricas** (StandardScaler)\n",
    "- **Vetorização de texto** (TF-IDF)\n",
    "- **Criação de novas features**\n",
    "- **Divisão treino/teste estratificada**\n",
    "\n",
    "### 4.1 Preparação dos Dados"
   ]
  },
  {
   "cell_type": "code",
   "execution_count": 10,
   "metadata": {},
   "outputs": [
    {
     "name": "stdout",
     "output_type": "stream",
     "text": [
      "🔧 INICIANDO PRÉ-PROCESSAMENTO DOS DADOS\n",
      "==================================================\n",
      "\n",
      "🎯 FEATURE ENGINEERING:\n",
      "✅ Criadas 4 novas features:\n",
      "   - categoria_valor: 3 categorias\n",
      "   - categoria_tempo: 3 categorias\n",
      "   - tamanho_texto: variável numérica\n",
      "   - num_palavras: variável numérica\n",
      "\n",
      "📊 DISTRIBUIÇÃO DAS NOVAS FEATURES:\n",
      "\n",
      "Categoria de Valor:\n",
      "categoria_valor\n",
      "Baixo    1548\n",
      "Médio     251\n",
      "Alto      201\n",
      "Name: count, dtype: int64\n",
      "\n",
      "Categoria de Tempo:\n",
      "categoria_tempo\n",
      "Rápido    1236\n",
      "Médio      563\n",
      "Lento      201\n",
      "Name: count, dtype: int64\n",
      "\n",
      "Tamanho do texto - Média: 33.0 caracteres\n",
      "Número de palavras - Média: 5.1 palavras\n"
     ]
    }
   ],
   "source": [
    "print(\"🔧 INICIANDO PRÉ-PROCESSAMENTO DOS DADOS\")\n",
    "print(\"=\" * 50)\n",
    "\n",
    "# Criando uma cópia dos dados para preservar o original\n",
    "df_processed = df.copy()\n",
    "\n",
    "# 1. Feature Engineering - Criando novas variáveis\n",
    "print(\"\\n🎯 FEATURE ENGINEERING:\")\n",
    "\n",
    "# Categoria de valor (baixo, médio, alto)\n",
    "df_processed['categoria_valor'] = pd.cut(\n",
    "    df_processed['valor_envolvido'], \n",
    "    bins=3, \n",
    "    labels=['Baixo', 'Médio', 'Alto']\n",
    ")\n",
    "\n",
    "# Categoria de tempo de resposta\n",
    "df_processed['categoria_tempo'] = pd.cut(\n",
    "    df_processed['tempo_resposta_dias'], \n",
    "    bins=3, \n",
    "    labels=['Rápido', 'Médio', 'Lento']\n",
    ")\n",
    "\n",
    "# Tamanho do texto da reclamação\n",
    "df_processed['tamanho_texto'] = df_processed['texto_reclamacao'].str.len()\n",
    "\n",
    "# Número de palavras na reclamação\n",
    "df_processed['num_palavras'] = df_processed['texto_reclamacao'].str.split().str.len()\n",
    "\n",
    "print(f\"✅ Criadas 4 novas features:\")\n",
    "print(f\"   - categoria_valor: {df_processed['categoria_valor'].nunique()} categorias\")\n",
    "print(f\"   - categoria_tempo: {df_processed['categoria_tempo'].nunique()} categorias\")\n",
    "print(f\"   - tamanho_texto: variável numérica\")\n",
    "print(f\"   - num_palavras: variável numérica\")\n",
    "\n",
    "# Visualizando as novas features\n",
    "print(\"\\n📊 DISTRIBUIÇÃO DAS NOVAS FEATURES:\")\n",
    "print(\"\\nCategoria de Valor:\")\n",
    "print(df_processed['categoria_valor'].value_counts())\n",
    "print(\"\\nCategoria de Tempo:\")\n",
    "print(df_processed['categoria_tempo'].value_counts())\n",
    "print(f\"\\nTamanho do texto - Média: {df_processed['tamanho_texto'].mean():.1f} caracteres\")\n",
    "print(f\"Número de palavras - Média: {df_processed['num_palavras'].mean():.1f} palavras\")"
   ]
  },
  {
   "cell_type": "markdown",
   "metadata": {},
   "source": [
    "### 4.2 Divisão dos Dados (Train/Test Split)\n",
    "\n",
    "**Boa Prática**: Sempre dividir os dados ANTES do pré-processamento para evitar data leakage."
   ]
  },
  {
   "cell_type": "code",
   "execution_count": null,
   "metadata": {},
   "outputs": [],
   "source": [
    "print(\"\\n📊 DIVISÃO DOS DADOS (TRAIN/TEST SPLIT)\")\n",
    "print(\"=\" * 45)\n",
    "\n",
    "# Separando features e target\n",
    "X = df_processed.drop('categoria', axis=1)\n",
    "y = df_processed['categoria']\n",
    "\n",
    "print(f\"Features (X): {X.shape}\")\n",
    "print(f\"Target (y): {y.shape}\")\n",
    "print(f\"Classes: {y.unique()}\")\n",
    "\n",
    "# Divisão estratificada (mantém a proporção das classes)\n",
    "X_train, X_test, y_train, y_test = train_test_split(\n",
    "    X, y, \n",
    "    test_size=0.2,  # 20% para teste\n",
    "    random_state=42,  # Para reprodutibilidade\n",
    "    stratify=y  # Mantém proporção das classes\n",
    ")\n",
    "\n",
    "print(f\"\\n✅ DIVISÃO REALIZADA:\")\n",
    "print(f\"Treino: {X_train.shape[0]} amostras ({X_train.shape[0]/len(df)*100:.1f}%)\")\n",
    "print(f\"Teste: {X_test.shape[0]} amostras ({X_test.shape[0]/len(df)*100:.1f}%)\")\n",
    "\n",
    "# Verificando a distribuição das classes após a divisão\n",
    "print(\"\\n📊 DISTRIBUIÇÃO DAS CLASSES:\")\n",
    "print(\"\\nTreino:\")\n",
    "train_dist = y_train.value_counts(normalize=True) * 100\n",
    "for classe, perc in train_dist.items():\n",
    "    print(f\"  {classe}: {perc:.1f}%\")\n",
    "\n",
    "print(\"\\nTeste:\")\n",
    "test_dist = y_test.value_counts(normalize=True) * 100\n",
    "for classe, perc in test_dist.items():\n",
    "    print(f\"  {classe}: {perc:.1f}%\")\n",
    "\n",
    "# Verificando se a estratificação funcionou\n",
    "max_diff = max(abs(train_dist - test_dist))\n",
    "if max_diff < 2:\n",
    "    print(f\"\\n✅ Estratificação bem-sucedida! Diferença máxima: {max_diff:.2f}%\")\n",
    "else:\n",
    "    print(f\"\\n⚠️ Possível problema na estratificação. Diferença máxima: {max_diff:.2f}%\")"
   ]
  },
  {
   "cell_type": "markdown",
   "metadata": {},
   "source": [
    "### 4.3 Pipeline de Pré-processamento\n",
    "\n",
    "Vamos criar um pipeline robusto que trata diferentes tipos de variáveis de forma adequada:\n",
    "\n",
    "- **Variáveis numéricas**: StandardScaler\n",
    "- **Variáveis categóricas**: OneHotEncoder\n",
    "- **Texto**: TfidfVectorizer"
   ]
  },
  {
   "cell_type": "code",
   "execution_count": null,
   "metadata": {},
   "outputs": [],
   "source": [
    "print(\"\\n🔧 CRIANDO PIPELINE DE PRÉ-PROCESSAMENTO\")\n",
    "print(\"=\" * 50)\n",
    "\n",
    "# Definindo as colunas por tipo\n",
    "numeric_features = ['valor_envolvido', 'tempo_resposta_dias', 'tamanho_texto', 'num_palavras']\n",
    "categorical_features = ['empresa', 'estado', 'categoria_valor', 'categoria_tempo']\n",
    "text_feature = 'texto_reclamacao'\n",
    "\n",
    "print(f\"📊 TIPOS DE FEATURES:\")\n",
    "print(f\"Numéricas ({len(numeric_features)}): {numeric_features}\")\n",
    "print(f\"Categóricas ({len(categorical_features)}): {categorical_features}\")\n",
    "print(f\"Texto (1): {text_feature}\")\n",
    "\n",
    "# Pipeline para variáveis numéricas\n",
    "numeric_transformer = Pipeline(steps=[\n",
    "    ('scaler', StandardScaler())\n",
    "])\n",
    "\n",
    "# Pipeline para variáveis categóricas\n",
    "categorical_transformer = Pipeline(steps=[\n",
    "    ('onehot', OneHotEncoder(drop='first', sparse_output=False, handle_unknown='ignore'))\n",
    "])\n",
    "\n",
    "# Pipeline para texto\n",
    "text_transformer = Pipeline(steps=[\n",
    "    ('tfidf', TfidfVectorizer(\n",
    "        max_features=1000,  # Máximo de 1000 features de texto\n",
    "        stop_words=None,  # Sem stop words (português não está disponível)\n",
    "        ngram_range=(1, 2),  # Unigramas e bigramas\n",
    "        min_df=2,  # Palavra deve aparecer em pelo menos 2 documentos\n",
    "        max_df=0.95  # Palavra não pode aparecer em mais de 95% dos documentos\n",
    "    ))\n",
    "])\n",
    "\n",
    "# Combinando todos os transformadores\n",
    "preprocessor = ColumnTransformer(\n",
    "    transformers=[\n",
    "        ('num', numeric_transformer, numeric_features),\n",
    "        ('cat', categorical_transformer, categorical_features),\n",
    "        ('text', text_transformer, text_feature)\n",
    "    ],\n",
    "    remainder='drop'  # Remove colunas não especificadas\n",
    ")\n",
    "\n",
    "print(\"\\n✅ Pipeline de pré-processamento criado com sucesso!\")\n",
    "print(\"\\n🔧 COMPONENTES DO PIPELINE:\")\n",
    "print(\"1. Variáveis Numéricas → StandardScaler\")\n",
    "print(\"2. Variáveis Categóricas → OneHotEncoder\")\n",
    "print(\"3. Texto → TfidfVectorizer\")\n",
    "print(\"4. Combinação → ColumnTransformer\")"
   ]
  },
  {
   "cell_type": "code",
   "execution_count": null,
   "metadata": {},
   "outputs": [],
   "source": [
    "# Aplicando o pré-processamento\n",
    "print(\"\\n⚙️ APLICANDO PRÉ-PROCESSAMENTO\")\n",
    "print(\"=\" * 40)\n",
    "\n",
    "# Fit no conjunto de treino e transform em ambos\n",
    "print(\"Ajustando transformadores no conjunto de treino...\")\n",
    "X_train_processed = preprocessor.fit_transform(X_train)\n",
    "print(\"Aplicando transformações no conjunto de teste...\")\n",
    "X_test_processed = preprocessor.transform(X_test)\n",
    "\n",
    "print(f\"\\n✅ PRÉ-PROCESSAMENTO CONCLUÍDO:\")\n",
    "print(f\"X_train original: {X_train.shape}\")\n",
    "print(f\"X_train processado: {X_train_processed.shape}\")\n",
    "print(f\"X_test original: {X_test.shape}\")\n",
    "print(f\"X_test processado: {X_test_processed.shape}\")\n",
    "\n",
    "# Informações sobre as features criadas\n",
    "total_features = X_train_processed.shape[1]\n",
    "print(f\"\\n📊 FEATURES FINAIS:\")\n",
    "print(f\"Total de features: {total_features}\")\n",
    "\n",
    "# Estimando a contribuição de cada tipo\n",
    "num_numeric = len(numeric_features)\n",
    "# Para categóricas, precisamos ver quantas foram criadas após one-hot\n",
    "cat_encoder = preprocessor.named_transformers_['cat']['onehot']\n",
    "num_categorical = len(cat_encoder.get_feature_names_out())\n",
    "num_text = 1000  # Definido no TfidfVectorizer\n",
    "\n",
    "print(f\"Features numéricas: {num_numeric}\")\n",
    "print(f\"Features categóricas (após one-hot): {num_categorical}\")\n",
    "print(f\"Features de texto (TF-IDF): {min(num_text, total_features - num_numeric - num_categorical)}\")\n",
    "\n",
    "# Verificando se há valores NaN\n",
    "nan_train = np.isnan(X_train_processed).sum()\n",
    "nan_test = np.isnan(X_test_processed).sum()\n",
    "\n",
    "if nan_train == 0 and nan_test == 0:\n",
    "    print(\"\\n✅ Nenhum valor NaN detectado após pré-processamento\")\n",
    "else:\n",
    "    print(f\"\\n⚠️ Valores NaN detectados - Treino: {nan_train}, Teste: {nan_test}\")"
   ]
  },
  {
   "cell_type": "markdown",
   "metadata": {},
   "source": [
    "### 4.4 Encoding da Variável Target\n",
    "\n",
    "Vamos codificar a variável target para uso nos algoritmos de ML."
   ]
  },
  {
   "cell_type": "code",
   "execution_count": null,
   "metadata": {},
   "outputs": [],
   "source": [
    "print(\"\\n🎯 ENCODING DA VARIÁVEL TARGET\")\n",
    "print(\"=\" * 35)\n",
    "\n",
    "# Criando o encoder para a variável target\n",
    "label_encoder = LabelEncoder()\n",
    "\n",
    "# Fit no conjunto completo de labels (treino + teste)\n",
    "all_labels = pd.concat([y_train, y_test])\n",
    "label_encoder.fit(all_labels)\n",
    "\n",
    "# Transform nos conjuntos de treino e teste\n",
    "y_train_encoded = label_encoder.transform(y_train)\n",
    "y_test_encoded = label_encoder.transform(y_test)\n",
    "\n",
    "print(f\"✅ Encoding realizado com sucesso!\")\n",
    "print(f\"\\n📊 MAPEAMENTO DAS CLASSES:\")\n",
    "for i, classe in enumerate(label_encoder.classes_):\n",
    "    print(f\"  {classe} → {i}\")\n",
    "\n",
    "print(f\"\\n📈 DISTRIBUIÇÃO ENCODED:\")\n",
    "unique, counts = np.unique(y_train_encoded, return_counts=True)\n",
    "for label, count in zip(unique, counts):\n",
    "    classe_original = label_encoder.inverse_transform([label])[0]\n",
    "    percentage = (count / len(y_train_encoded)) * 100\n",
    "    print(f\"  Classe {label} ({classe_original}): {count} amostras ({percentage:.1f}%)\")\n",
    "\n",
    "# Salvando o label encoder para uso posterior\n",
    "with open('/home/ubuntu/label_encoder.pkl', 'wb') as f:\n",
    "    pickle.dump(label_encoder, f)\n",
    "print(\"\\n💾 Label encoder salvo como 'label_encoder.pkl'\")"
   ]
  },
  {
   "cell_type": "markdown",
   "metadata": {},
   "source": [
    "## 5. 🤖 Treinamento de Modelos de Machine Learning\n",
    "\n",
    "Agora vamos treinar múltiplos algoritmos de classificação e comparar seu desempenho. Utilizaremos:\n",
    "\n",
    "### 🎯 Algoritmos Selecionados:\n",
    "1. **Random Forest** - Ensemble robusto e interpretável\n",
    "2. **Support Vector Machine (SVM)** - Eficaz para alta dimensionalidade\n",
    "3. **Logistic Regression** - Baseline linear e interpretável\n",
    "4. **Gradient Boosting** - Ensemble sequencial poderoso\n",
    "5. **Naive Bayes** - Rápido e eficaz para texto\n",
    "\n",
    "### 5.1 Configuração dos Modelos"
   ]
  },
  {
   "cell_type": "code",
   "execution_count": null,
   "metadata": {},
   "outputs": [],
   "source": [
    "print(\"🤖 CONFIGURAÇÃO DOS MODELOS DE MACHINE LEARNING\")\n",
    "print(\"=\" * 55)\n",
    "\n",
    "# Dicionário com os modelos e seus parâmetros\n",
    "models = {\n",
    "    'Random Forest': RandomForestClassifier(\n",
    "        n_estimators=100,\n",
    "        max_depth=10,\n",
    "        min_samples_split=5,\n",
    "        min_samples_leaf=2,\n",
    "        random_state=42,\n",
    "        n_jobs=-1\n",
    "    ),\n",
    "    \n",
    "    'SVM': SVC(\n",
    "        kernel='rbf',\n",
    "        C=1.0,\n",
    "        gamma='scale',\n",
    "        random_state=42,\n",
    "        probability=True  # Para calcular probabilidades\n",
    "    ),\n",
    "    \n",
    "    'Logistic Regression': LogisticRegression(\n",
    "        max_iter=1000,\n",
    "        random_state=42,\n",
    "        multi_class='ovr',\n",
    "        n_jobs=-1\n",
    "    ),\n",
    "    \n",
    "    'Gradient Boosting': GradientBoostingClassifier(\n",
    "        n_estimators=100,\n",
    "        learning_rate=0.1,\n",
    "        max_depth=6,\n",
    "        random_state=42\n",
    "    ),\n",
    "    \n",
    "    'Naive Bayes': MultinomialNB(\n",
    "        alpha=1.0\n",
    "    )\n",
    "}\n",
    "\n",
    "print(f\"📊 MODELOS CONFIGURADOS: {len(models)}\")\n",
    "for i, (name, model) in enumerate(models.items(), 1):\n",
    "    print(f\"{i}. {name}: {type(model).__name__}\")\n",
    "\n",
    "print(\"\\n🎯 CARACTERÍSTICAS DOS MODELOS:\")\n",
    "print(\"• Random Forest: Ensemble de árvores, robusto a overfitting\")\n",
    "print(\"• SVM: Eficaz para alta dimensionalidade, kernel RBF\")\n",
    "print(\"• Logistic Regression: Linear, rápido, interpretável\")\n",
    "print(\"• Gradient Boosting: Ensemble sequencial, alta performance\")\n",
    "print(\"• Naive Bayes: Rápido, eficaz para dados de texto\")"
   ]
  },
  {
   "cell_type": "markdown",
   "metadata": {},
   "source": [
    "### 5.2 Treinamento e Avaliação Inicial\n",
    "\n",
    "Vamos treinar todos os modelos e fazer uma avaliação inicial para comparar o desempenho."
   ]
  },
  {
   "cell_type": "code",
   "execution_count": null,
   "metadata": {},
   "outputs": [],
   "source": [
    "print(\"\\n🚀 INICIANDO TREINAMENTO DOS MODELOS\")\n",
    "print(\"=\" * 45)\n",
    "\n",
    "# Dicionário para armazenar resultados\n",
    "results = {}\n",
    "trained_models = {}\n",
    "\n",
    "# Treinando cada modelo\n",
    "for name, model in models.items():\n",
    "    print(f\"\\n🔄 Treinando {name}...\")\n",
    "    start_time = datetime.now()\n",
    "    \n",
    "    # Treinamento\n",
    "    model.fit(X_train_processed, y_train_encoded)\n",
    "    \n",
    "    # Predições\n",
    "    y_train_pred = model.predict(X_train_processed)\n",
    "    y_test_pred = model.predict(X_test_processed)\n",
    "    \n",
    "    # Probabilidades (se disponível)\n",
    "    try:\n",
    "        y_test_proba = model.predict_proba(X_test_processed)\n",
    "    except:\n",
    "        y_test_proba = None\n",
    "    \n",
    "    # Calculando métricas\n",
    "    train_accuracy = accuracy_score(y_train_encoded, y_train_pred)\n",
    "    test_accuracy = accuracy_score(y_test_encoded, y_test_pred)\n",
    "    \n",
    "    # Métricas detalhadas para o conjunto de teste\n",
    "    precision = precision_score(y_test_encoded, y_test_pred, average='weighted')\n",
    "    recall = recall_score(y_test_encoded, y_test_pred, average='weighted')\n",
    "    f1 = f1_score(y_test_encoded, y_test_pred, average='weighted')\n",
    "    \n",
    "    # Tempo de treinamento\n",
    "    training_time = (datetime.now() - start_time).total_seconds()\n",
    "    \n",
    "    # Armazenando resultados\n",
    "    results[name] = {\n",
    "        'train_accuracy': train_accuracy,\n",
    "        'test_accuracy': test_accuracy,\n",
    "        'precision': precision,\n",
    "        'recall': recall,\n",
    "        'f1_score': f1,\n",
    "        'training_time': training_time,\n",
    "        'predictions': y_test_pred,\n",
    "        'probabilities': y_test_proba\n",
    "    }\n",
    "    \n",
    "    trained_models[name] = model\n",
    "    \n",
    "    print(f\"   ✅ Concluído em {training_time:.2f}s\")\n",
    "    print(f\"   📊 Acurácia Treino: {train_accuracy:.4f}\")\n",
    "    print(f\"   📊 Acurácia Teste: {test_accuracy:.4f}\")\n",
    "    print(f\"   📊 F1-Score: {f1:.4f}\")\n",
    "\n",
    "print(\"\\n🎉 TREINAMENTO CONCLUÍDO PARA TODOS OS MODELOS!\")"
   ]
  },
  {
   "cell_type": "markdown",
   "metadata": {},
   "source": [
    "### 5.3 Comparação de Resultados\n",
    "\n",
    "Vamos criar uma tabela comparativa com todas as métricas dos modelos."
   ]
  },
  {
   "cell_type": "code",
   "execution_count": null,
   "metadata": {},
   "outputs": [],
   "source": [
    "print(\"\\n📊 COMPARAÇÃO DE RESULTADOS DOS MODELOS\")\n",
    "print(\"=\" * 50)\n",
    "\n",
    "# Criando DataFrame com os resultados\n",
    "results_df = pd.DataFrame({\n",
    "    'Modelo': list(results.keys()),\n",
    "    'Acurácia Treino': [results[model]['train_accuracy'] for model in results.keys()],\n",
    "    'Acurácia Teste': [results[model]['test_accuracy'] for model in results.keys()],\n",
    "    'Precision': [results[model]['precision'] for model in results.keys()],\n",
    "    'Recall': [results[model]['recall'] for model in results.keys()],\n",
    "    'F1-Score': [results[model]['f1_score'] for model in results.keys()],\n",
    "    'Tempo (s)': [results[model]['training_time'] for model in results.keys()]\n",
    "})\n",
    "\n",
    "# Ordenando por F1-Score\n",
    "results_df = results_df.sort_values('F1-Score', ascending=False).reset_index(drop=True)\n",
    "\n",
    "# Formatando para melhor visualização\n",
    "results_df_display = results_df.copy()\n",
    "for col in ['Acurácia Treino', 'Acurácia Teste', 'Precision', 'Recall', 'F1-Score']:\n",
    "    results_df_display[col] = results_df_display[col].apply(lambda x: f\"{x:.4f}\")\n",
    "results_df_display['Tempo (s)'] = results_df_display['Tempo (s)'].apply(lambda x: f\"{x:.2f}\")\n",
    "\n",
    "print(\"🏆 RANKING DOS MODELOS (por F1-Score):\")\n",
    "display(results_df_display)\n",
    "\n",
    "# Identificando o melhor modelo\n",
    "best_model_name = results_df.iloc[0]['Modelo']\n",
    "best_f1 = results_df.iloc[0]['F1-Score']\n",
    "\n",
    "print(f\"\\n🥇 MELHOR MODELO: {best_model_name}\")\n",
    "print(f\"   F1-Score: {best_f1:.4f}\")\n",
    "print(f\"   Acurácia Teste: {results_df.iloc[0]['Acurácia Teste']:.4f}\")\n",
    "\n",
    "# Análise de overfitting\n",
    "print(\"\\n🔍 ANÁLISE DE OVERFITTING:\")\n",
    "for _, row in results_df.iterrows():\n",
    "    modelo = row['Modelo']\n",
    "    diff = row['Acurácia Treino'] - row['Acurácia Teste']\n",
    "    \n",
    "    if diff < 0.02:\n",
    "        status = \"✅ Bem balanceado\"\n",
    "    elif diff < 0.05:\n",
    "        status = \"⚠️ Leve overfitting\"\n",
    "    else:\n",
    "        status = \"🚨 Overfitting detectado\"\n",
    "    \n",
    "    print(f\"  {modelo}: {diff:.4f} - {status}\")"
   ]
  },
  {
   "cell_type": "markdown",
   "metadata": {},
   "source": [
    "### 5.4 Visualização dos Resultados\n",
    "\n",
    "Vamos criar visualizações para comparar o desempenho dos modelos."
   ]
  },
  {
   "cell_type": "code",
   "execution_count": null,
   "metadata": {},
   "outputs": [],
   "source": [
    "# Visualização comparativa dos modelos\n",
    "fig = make_subplots(\n",
    "    rows=2, cols=2,\n",
    "    subplot_titles=[\n",
    "        'Comparação de Acurácia (Treino vs Teste)',\n",
    "        'Métricas de Performance',\n",
    "        'Tempo de Treinamento',\n",
    "        'F1-Score por Modelo'\n",
    "    ],\n",
    "    specs=[[{'type': 'scatter'}, {'type': 'bar'}],\n",
    "           [{'type': 'bar'}, {'type': 'bar'}]]\n",
    ")\n",
    "\n",
    "# 1. Scatter plot: Acurácia Treino vs Teste\n",
    "fig.add_trace(\n",
    "    go.Scatter(\n",
    "        x=results_df['Acurácia Treino'],\n",
    "        y=results_df['Acurácia Teste'],\n",
    "        mode='markers+text',\n",
    "        text=results_df['Modelo'],\n",
    "        textposition='top center',\n",
    "        marker=dict(size=12, color=['#FF6B6B', '#4ECDC4', '#45B7D1', '#96CEB4', '#FECA57']),\n",
    "        showlegend=False\n",
    "    ),\n",
    "    row=1, col=1\n",
    ")\n",
    "\n",
    "# Linha diagonal (ideal)\n",
    "fig.add_trace(\n",
    "    go.Scatter(\n",
    "        x=[0.7, 1.0],\n",
    "        y=[0.7, 1.0],\n",
    "        mode='lines',\n",
    "        line=dict(dash='dash', color='gray'),\n",
    "        name='Linha Ideal',\n",
    "        showlegend=False\n",
    "    ),\n",
    "    row=1, col=1\n",
    ")\n",
    "\n",
    "# 2. Métricas de Performance\n",
    "metrics = ['Precision', 'Recall', 'F1-Score']\n",
    "colors = ['#FF6B6B', '#4ECDC4', '#45B7D1']\n",
    "\n",
    "for i, metric in enumerate(metrics):\n",
    "    fig.add_trace(\n",
    "        go.Bar(\n",
    "            x=results_df['Modelo'],\n",
    "            y=results_df[metric],\n",
    "            name=metric,\n",
    "            marker_color=colors[i],\n",
    "            opacity=0.8\n",
    "        ),\n",
    "        row=1, col=2\n",
    "    )\n",
    "\n",
    "# 3. Tempo de Treinamento\n",
    "fig.add_trace(\n",
    "    go.Bar(\n",
    "        x=results_df['Modelo'],\n",
    "        y=results_df['Tempo (s)'],\n",
    "        text=results_df['Tempo (s)'].apply(lambda x: f\"{x:.2f}s\"),\n",
    "        textposition='auto',\n",
    "        marker_color='#96CEB4',\n",
    "        showlegend=False\n",
    "    ),\n",
    "    row=2, col=1\n",
    ")\n",
    "\n",
    "# 4. F1-Score destacado\n",
    "fig.add_trace(\n",
    "    go.Bar(\n",
    "        x=results_df['Modelo'],\n",
    "        y=results_df['F1-Score'],\n",
    "        text=results_df['F1-Score'].apply(lambda x: f\"{x:.4f}\"),\n",
    "        textposition='auto',\n",
    "        marker_color=['#FFD700' if i == 0 else '#CCCCCC' for i in range(len(results_df))],\n",
    "        showlegend=False\n",
    "    ),\n",
    "    row=2, col=2\n",
    ")\n",
    "\n",
    "# Atualizando layout\n",
    "fig.update_layout(\n",
    "    title_text=\"🤖 Comparação Completa dos Modelos de Machine Learning\",\n",
    "    title_x=0.5,\n",
    "    height=800,\n",
    "    showlegend=True\n",
    ")\n",
    "\n",
    "# Atualizando eixos\n",
    "fig.update_xaxes(title_text=\"Acurácia Treino\", row=1, col=1)\n",
    "fig.update_yaxes(title_text=\"Acurácia Teste\", row=1, col=1)\n",
    "fig.update_yaxes(title_text=\"Score\", row=1, col=2)\n",
    "fig.update_yaxes(title_text=\"Tempo (segundos)\", row=2, col=1)\n",
    "fig.update_yaxes(title_text=\"F1-Score\", row=2, col=2)\n",
    "\n",
    "fig.show()\n",
    "\n",
    "# Salvando o gráfico\n",
    "fig.write_html(\"/home/ubuntu/comparacao_modelos.html\")\n",
    "print(\"💾 Gráfico salvo como 'comparacao_modelos.html'\")"
   ]
  },
  {
   "cell_type": "markdown",
   "metadata": {},
   "source": [
    "## 6. 🔍 Validação Cruzada e Ajuste de Hiperparâmetros\n",
    "\n",
    "Vamos aplicar **validação cruzada** para obter uma avaliação mais robusta e realizar **ajuste de hiperparâmetros** no melhor modelo.\n",
    "\n",
    "### 6.1 Validação Cruzada Estratificada"
   ]
  },
  {
   "cell_type": "code",
   "execution_count": null,
   "metadata": {},
   "outputs": [],
   "source": [
    "print(\"🔍 VALIDAÇÃO CRUZADA ESTRATIFICADA\")\n",
    "print(\"=\" * 40)\n",
    "\n",
    "# Configurando validação cruzada estratificada\n",
    "cv_folds = 5\n",
    "cv_strategy = StratifiedKFold(n_splits=cv_folds, shuffle=True, random_state=42)\n",
    "\n",
    "print(f\"📊 Configuração: {cv_folds} folds estratificados\")\n",
    "print(f\"🎯 Métrica: F1-Score (weighted)\")\n",
    "\n",
    "# Resultados da validação cruzada\n",
    "cv_results = {}\n",
    "\n",
    "print(\"\\n🔄 Executando validação cruzada para todos os modelos...\")\n",
    "\n",
    "for name, model in trained_models.items():\n",
    "    print(f\"\\n📊 {name}:\")\n",
    "    \n",
    "    # Validação cruzada com F1-Score\n",
    "    cv_scores = cross_val_score(\n",
    "        model, X_train_processed, y_train_encoded,\n",
    "        cv=cv_strategy,\n",
    "        scoring='f1_weighted',\n",
    "        n_jobs=-1\n",
    "    )\n",
    "    \n",
    "    # Estatísticas\n",
    "    mean_score = cv_scores.mean()\n",
    "    std_score = cv_scores.std()\n",
    "    \n",
    "    cv_results[name] = {\n",
    "        'scores': cv_scores,\n",
    "        'mean': mean_score,\n",
    "        'std': std_score,\n",
    "        'min': cv_scores.min(),\n",
    "        'max': cv_scores.max()\n",
    "    }\n",
    "    \n",
    "    print(f\"   Média: {mean_score:.4f} (±{std_score:.4f})\")\n",
    "    print(f\"   Min: {cv_scores.min():.4f} | Max: {cv_scores.max():.4f}\")\n",
    "    print(f\"   Scores: {[f'{score:.4f}' for score in cv_scores]}\")\n",
    "\n",
    "# Criando DataFrame com resultados da CV\n",
    "cv_df = pd.DataFrame({\n",
    "    'Modelo': list(cv_results.keys()),\n",
    "    'CV_Mean': [cv_results[model]['mean'] for model in cv_results.keys()],\n",
    "    'CV_Std': [cv_results[model]['std'] for model in cv_results.keys()],\n",
    "    'CV_Min': [cv_results[model]['min'] for model in cv_results.keys()],\n",
    "    'CV_Max': [cv_results[model]['max'] for model in cv_results.keys()]\n",
    "})\n",
    "\n",
    "# Ordenando por média da CV\n",
    "cv_df = cv_df.sort_values('CV_Mean', ascending=False).reset_index(drop=True)\n",
    "\n",
    "print(\"\\n🏆 RANKING POR VALIDAÇÃO CRUZADA:\")\n",
    "display(cv_df.round(4))\n",
    "\n",
    "# Melhor modelo por CV\n",
    "best_cv_model = cv_df.iloc[0]['Modelo']\n",
    "best_cv_score = cv_df.iloc[0]['CV_Mean']\n",
    "best_cv_std = cv_df.iloc[0]['CV_Std']\n",
    "\n",
    "print(f\"\\n🥇 MELHOR MODELO (Validação Cruzada): {best_cv_model}\")\n",
    "print(f\"   F1-Score CV: {best_cv_score:.4f} (±{best_cv_std:.4f})\")\n",
    "\n",
    "# Verificando consistência\n",
    "if best_cv_model == best_model_name:\n",
    "    print(\"\\n✅ Consistência confirmada! Mesmo melhor modelo em ambas avaliações.\")\n",
    "else:\n",
    "    print(f\"\\n⚠️ Divergência detectada! Melhor por holdout: {best_model_name}, por CV: {best_cv_model}\")"
   ]
  },
  {
   "cell_type": "code",
   "execution_count": null,
   "metadata": {},
   "outputs": [],
   "source": [
    "# Visualização dos resultados da validação cruzada\n",
    "fig = make_subplots(\n",
    "    rows=1, cols=2,\n",
    "    subplot_titles=['Distribuição dos Scores de Validação Cruzada', 'Comparação: Holdout vs Cross-Validation'],\n",
    "    specs=[[{'type': 'box'}, {'type': 'scatter'}]]\n",
    ")\n",
    "\n",
    "# 1. Boxplot dos scores de CV\n",
    "colors = ['#FF6B6B', '#4ECDC4', '#45B7D1', '#96CEB4', '#FECA57']\n",
    "for i, (name, data) in enumerate(cv_results.items()):\n",
    "    fig.add_trace(\n",
    "        go.Box(\n",
    "            y=data['scores'],\n",
    "            name=name,\n",
    "            marker_color=colors[i],\n",
    "            showlegend=False\n",
    "        ),\n",
    "        row=1, col=1\n",
    "    )\n",
    "\n",
    "# 2. Scatter: Holdout vs CV\n",
    "holdout_scores = [results[model]['f1_score'] for model in cv_df['Modelo']]\n",
    "cv_scores_mean = cv_df['CV_Mean'].tolist()\n",
    "\n",
    "fig.add_trace(\n",
    "    go.Scatter(\n",
    "        x=holdout_scores,\n",
    "        y=cv_scores_mean,\n",
    "        mode='markers+text',\n",
    "        text=cv_df['Modelo'],\n",
    "        textposition='top center',\n",
    "        marker=dict(size=12, color=colors[:len(cv_df)]),\n",
    "        showlegend=False\n",
    "    ),\n",
    "    row=1, col=2\n",
    ")\n",
    "\n",
    "# Linha diagonal\n",
    "min_score = min(min(holdout_scores), min(cv_scores_mean))\n",
    "max_score = max(max(holdout_scores), max(cv_scores_mean))\n",
    "fig.add_trace(\n",
    "    go.Scatter(\n",
    "        x=[min_score, max_score],\n",
    "        y=[min_score, max_score],\n",
    "        mode='lines',\n",
    "        line=dict(dash='dash', color='gray'),\n",
    "        showlegend=False\n",
    "    ),\n",
    "    row=1, col=2\n",
    ")\n",
    "\n",
    "fig.update_layout(\n",
    "    title_text=\"🔍 Análise de Validação Cruzada\",\n",
    "    title_x=0.5,\n",
    "    height=500\n",
    ")\n",
    "\n",
    "fig.update_yaxes(title_text=\"F1-Score\", row=1, col=1)\n",
    "fig.update_xaxes(title_text=\"F1-Score (Holdout)\", row=1, col=2)\n",
    "fig.update_yaxes(title_text=\"F1-Score (Cross-Validation)\", row=1, col=2)\n",
    "\n",
    "fig.show()\n",
    "\n",
    "# Salvando o gráfico\n",
    "fig.write_html(\"/home/ubuntu/validacao_cruzada.html\")\n",
    "print(\"💾 Gráfico salvo como 'validacao_cruzada.html'\")"
   ]
  },
  {
   "cell_type": "markdown",
   "metadata": {},
   "source": [
    "### 6.2 Ajuste de Hiperparâmetros (Grid Search)\n",
    "\n",
    "Vamos otimizar os hiperparâmetros do melhor modelo usando Grid Search com validação cruzada."
   ]
  },
  {
   "cell_type": "code",
   "execution_count": null,
   "metadata": {},
   "outputs": [],
   "source": [
    "print(\"⚙️ AJUSTE DE HIPERPARÂMETROS (GRID SEARCH)\")\n",
    "print(\"=\" * 50)\n",
    "\n",
    "# Selecionando o melhor modelo para otimização\n",
    "model_to_optimize = best_cv_model\n",
    "base_model = trained_models[model_to_optimize]\n",
    "\n",
    "print(f\"🎯 Modelo selecionado: {model_to_optimize}\")\n",
    "print(f\"📊 Score atual: {best_cv_score:.4f} (±{best_cv_std:.4f})\")\n",
    "\n",
    "# Definindo grid de hiperparâmetros baseado no modelo\n",
    "if 'Random Forest' in model_to_optimize:\n",
    "    param_grid = {\n",
    "        'n_estimators': [50, 100, 200],\n",
    "        'max_depth': [5, 10, 15, None],\n",
    "        'min_samples_split': [2, 5, 10],\n",
    "        'min_samples_leaf': [1, 2, 4]\n",
    "    }\n",
    "    \n",
    "elif 'SVM' in model_to_optimize:\n",
    "    param_grid = {\n",
    "        'C': [0.1, 1, 10, 100],\n",
    "        'gamma': ['scale', 'auto', 0.001, 0.01, 0.1],\n",
    "        'kernel': ['rbf', 'linear']\n",
    "    }\n",
    "    \n",
    "elif 'Logistic' in model_to_optimize:\n",
    "    param_grid = {\n",
    "        'C': [0.01, 0.1, 1, 10, 100],\n",
    "        'solver': ['liblinear', 'lbfgs'],\n",
    "        'max_iter': [500, 1000, 2000]\n",
    "    }\n",
    "    \n",
    "elif 'Gradient' in model_to_optimize:\n",
    "    param_grid = {\n",
    "        'n_estimators': [50, 100, 200],\n",
    "        'learning_rate': [0.05, 0.1, 0.2],\n",
    "        'max_depth': [3, 6, 9],\n",
    "        'subsample': [0.8, 0.9, 1.0]\n",
    "    }\n",
    "    \n",
    "else:  # Naive Bayes\n",
    "    param_grid = {\n",
    "        'alpha': [0.1, 0.5, 1.0, 2.0, 5.0]\n",
    "    }\n",
    "\n",
    "print(f\"\\n🔧 Grid de parâmetros definido:\")\n",
    "for param, values in param_grid.items():\n",
    "    print(f\"   {param}: {values}\")\n",
    "\n",
    "total_combinations = 1\n",
    "for values in param_grid.values():\n",
    "    total_combinations *= len(values)\n",
    "print(f\"\\n📊 Total de combinações: {total_combinations}\")\n",
    "print(f\"📊 Total de fits: {total_combinations * cv_folds} (com {cv_folds}-fold CV)\")\n",
    "\n",
    "# Executando Grid Search\n",
    "print(\"\\n🚀 Iniciando Grid Search...\")\n",
    "start_time = datetime.now()\n",
    "\n",
    "# Criando uma nova instância do modelo\n",
    "if 'Random Forest' in model_to_optimize:\n",
    "    model_for_grid = RandomForestClassifier(random_state=42, n_jobs=-1)\n",
    "elif 'SVM' in model_to_optimize:\n",
    "    model_for_grid = SVC(random_state=42, probability=True)\n",
    "elif 'Logistic' in model_to_optimize:\n",
    "    model_for_grid = LogisticRegression(random_state=42, n_jobs=-1)\n",
    "elif 'Gradient' in model_to_optimize:\n",
    "    model_for_grid = GradientBoostingClassifier(random_state=42)\n",
    "else:\n",
    "    model_for_grid = MultinomialNB()\n",
    "\n",
    "# Grid Search com validação cruzada\n",
    "grid_search = GridSearchCV(\n",
    "    estimator=model_for_grid,\n",
    "    param_grid=param_grid,\n",
    "    cv=cv_strategy,\n",
    "    scoring='f1_weighted',\n",
    "    n_jobs=-1,\n",
    "    verbose=1\n",
    ")\n",
    "\n",
    "grid_search.fit(X_train_processed, y_train_encoded)\n",
    "\n",
    "optimization_time = (datetime.now() - start_time).total_seconds()\n",
    "\n",
    "print(f\"\\n✅ Grid Search concluído em {optimization_time:.2f}s\")\n",
    "print(f\"\\n🏆 MELHORES HIPERPARÂMETROS:\")\n",
    "for param, value in grid_search.best_params_.items():\n",
    "    print(f\"   {param}: {value}\")\n",
    "\n",
    "print(f\"\\n📊 MELHORES RESULTADOS:\")\n",
    "print(f\"   F1-Score: {grid_search.best_score_:.4f}\")\n",
    "print(f\"   Melhoria: {grid_search.best_score_ - best_cv_score:.4f}\")\n",
    "\n",
    "# Modelo otimizado\n",
    "optimized_model = grid_search.best_estimator_\n",
    "\n",
    "# Avaliação no conjunto de teste\n",
    "y_test_pred_optimized = optimized_model.predict(X_test_processed)\n",
    "test_f1_optimized = f1_score(y_test_encoded, y_test_pred_optimized, average='weighted')\n",
    "test_accuracy_optimized = accuracy_score(y_test_encoded, y_test_pred_optimized)\n",
    "\n",
    "print(f\"\\n🎯 PERFORMANCE NO CONJUNTO DE TESTE:\")\n",
    "print(f\"   Acurácia: {test_accuracy_optimized:.4f}\")\n",
    "print(f\"   F1-Score: {test_f1_optimized:.4f}\")\n",
    "print(f\"   Melhoria na acurácia: {test_accuracy_optimized - results[model_to_optimize]['test_accuracy']:.4f}\")\n",
    "print(f\"   Melhoria no F1: {test_f1_optimized - results[model_to_optimize]['f1_score']:.4f}\")"
   ]
  },
  {
   "cell_type": "markdown",
   "metadata": {},
   "source": [
    "## 7. 📊 Avaliação Detalhada do Melhor Modelo\n",
    "\n",
    "Vamos fazer uma análise detalhada do modelo otimizado, incluindo:\n",
    "- **Matriz de Confusão**\n",
    "- **Relatório de Classificação**\n",
    "- **Análise por Classe**\n",
    "- **Importância das Features** (se aplicável)\n",
    "\n",
    "### 7.1 Matriz de Confusão e Métricas Detalhadas"
   ]
  },
  {
   "cell_type": "code",
   "execution_count": null,
   "metadata": {},
   "outputs": [],
   "source": [
    "print(\"📊 AVALIAÇÃO DETALHADA DO MODELO OTIMIZADO\")\n",
    "print(\"=\" * 50)\n",
    "\n",
    "# Predições do modelo otimizado\n",
    "y_test_pred_final = optimized_model.predict(X_test_processed)\n",
    "y_test_proba_final = optimized_model.predict_proba(X_test_processed)\n",
    "\n",
    "# Matriz de confusão\n",
    "cm = confusion_matrix(y_test_encoded, y_test_pred_final)\n",
    "class_names = label_encoder.classes_\n",
    "\n",
    "print(f\"🎯 MODELO FINAL: {model_to_optimize} (Otimizado)\")\n",
    "print(f\"📊 Acurácia: {test_accuracy_optimized:.4f}\")\n",
    "print(f\"📊 F1-Score: {test_f1_optimized:.4f}\")\n",
    "\n",
    "# Relatório de classificação detalhado\n",
    "print(\"\\n📋 RELATÓRIO DE CLASSIFICAÇÃO:\")\n",
    "classification_rep = classification_report(\n",
    "    y_test_encoded, y_test_pred_final,\n",
    "    target_names=class_names,\n",
    "    output_dict=True\n",
    ")\n",
    "\n",
    "# Convertendo para DataFrame para melhor visualização\n",
    "report_df = pd.DataFrame(classification_rep).transpose()\n",
    "print(report_df.round(4))\n",
    "\n",
    "# Visualização da matriz de confusão\n",
    "fig = make_subplots(\n",
    "    rows=1, cols=2,\n",
    "    subplot_titles=['Matriz de Confusão (Valores Absolutos)', 'Matriz de Confusão (Normalizada)'],\n",
    "    specs=[[{'type': 'heatmap'}, {'type': 'heatmap'}]]\n",
    ")\n",
    "\n",
    "# Matriz de confusão absoluta\n",
    "fig.add_trace(\n",
    "    go.Heatmap(\n",
    "        z=cm,\n",
    "        x=class_names,\n",
    "        y=class_names,\n",
    "        colorscale='Blues',\n",
    "        text=cm,\n",
    "        texttemplate=\"%{text}\",\n",
    "        textfont={\"size\": 12},\n",
    "        showscale=False\n",
    "    ),\n",
    "    row=1, col=1\n",
    ")\n",
    "\n",
    "# Matriz de confusão normalizada\n",
    "cm_normalized = cm.astype('float') / cm.sum(axis=1)[:, np.newaxis]\n",
    "fig.add_trace(\n",
    "    go.Heatmap(\n",
    "        z=cm_normalized,\n",
    "        x=class_names,\n",
    "        y=class_names,\n",
    "        colorscale='Reds',\n",
    "        text=np.round(cm_normalized, 3),\n",
    "        texttemplate=\"%{text}\",\n",
    "        textfont={\"size\": 12},\n",
    "        showscale=False\n",
    "    ),\n",
    "    row=1, col=2\n",
    ")\n",
    "\n",
    "fig.update_layout(\n",
    "    title_text=f\"📊 Matriz de Confusão - {model_to_optimize} (Otimizado)\",\n",
    "    title_x=0.5,\n",
    "    height=500\n",
    ")\n",
    "\n",
    "fig.update_xaxes(title_text=\"Predito\", row=1, col=1)\n",
    "fig.update_yaxes(title_text=\"Real\", row=1, col=1)\n",
    "fig.update_xaxes(title_text=\"Predito\", row=1, col=2)\n",
    "fig.update_yaxes(title_text=\"Real\", row=1, col=2)\n",
    "\n",
    "fig.show()\n",
    "\n",
    "# Salvando o gráfico\n",
    "fig.write_html(\"/home/ubuntu/matriz_confusao_final.html\")\n",
    "print(\"💾 Gráfico salvo como 'matriz_confusao_final.html'\")"
   ]
  },
  {
   "cell_type": "code",
   "execution_count": null,
   "metadata": {},
   "outputs": [],
   "source": [
    "# Análise detalhada por classe\n",
    "print(\"\\n🔍 ANÁLISE DETALHADA POR CLASSE\")\n",
    "print(\"=\" * 40)\n",
    "\n",
    "for i, class_name in enumerate(class_names):\n",
    "    # Métricas da classe\n",
    "    precision = classification_rep[class_name]['precision']\n",
    "    recall = classification_rep[class_name]['recall']\n",
    "    f1 = classification_rep[class_name]['f1-score']\n",
    "    support = int(classification_rep[class_name]['support'])\n",
    "    \n",
    "    # Análise da matriz de confusão para esta classe\n",
    "    true_positives = cm[i, i]\n",
    "    false_positives = cm[:, i].sum() - true_positives\n",
    "    false_negatives = cm[i, :].sum() - true_positives\n",
    "    true_negatives = cm.sum() - true_positives - false_positives - false_negatives\n",
    "    \n",
    "    print(f\"\\n📊 {class_name.upper()}:\")\n",
    "    print(f\"   Precision: {precision:.4f} | Recall: {recall:.4f} | F1-Score: {f1:.4f}\")\n",
    "    print(f\"   Support: {support} amostras\")\n",
    "    print(f\"   TP: {true_positives} | FP: {false_positives} | FN: {false_negatives} | TN: {true_negatives}\")\n",
    "    \n",
    "    # Interpretação\n",
    "    if precision >= 0.9 and recall >= 0.9:\n",
    "        interpretation = \"✅ Excelente performance\"\n",
    "    elif precision >= 0.8 and recall >= 0.8:\n",
    "        interpretation = \"✅ Boa performance\"\n",
    "    elif precision >= 0.7 or recall >= 0.7:\n",
    "        interpretation = \"⚠️ Performance moderada\"\n",
    "    else:\n",
    "        interpretation = \"🚨 Performance baixa\"\n",
    "    \n",
    "    print(f\"   {interpretation}\")\n",
    "    \n",
    "    # Análise específica\n",
    "    if precision > recall:\n",
    "        print(f\"   💡 Modelo conservador: poucos falsos positivos, mas pode perder alguns casos\")\n",
    "    elif recall > precision:\n",
    "        print(f\"   💡 Modelo sensível: captura bem os casos, mas com alguns falsos positivos\")\n",
    "    else:\n",
    "        print(f\"   💡 Modelo balanceado: precision e recall equilibrados\")\n",
    "\n",
    "# Métricas globais\n",
    "macro_avg = classification_rep['macro avg']\n",
    "weighted_avg = classification_rep['weighted avg']\n",
    "\n",
    "print(f\"\\n🌍 MÉTRICAS GLOBAIS:\")\n",
    "print(f\"Macro Average - Precision: {macro_avg['precision']:.4f} | Recall: {macro_avg['recall']:.4f} | F1: {macro_avg['f1-score']:.4f}\")\n",
    "print(f\"Weighted Average - Precision: {weighted_avg['precision']:.4f} | Recall: {weighted_avg['recall']:.4f} | F1: {weighted_avg['f1-score']:.4f}\")\n",
    "print(f\"Accuracy: {classification_rep['accuracy']:.4f}\")"
   ]
  },
  {
   "cell_type": "markdown",
   "metadata": {},
   "source": [
    "### 7.2 Análise de Importância das Features\n",
    "\n",
    "Para modelos que suportam, vamos analisar quais features são mais importantes para a classificação."
   ]
  },
  {
   "cell_type": "code",
   "execution_count": null,
   "metadata": {},
   "outputs": [],
   "source": [
    "print(\"\\n🔍 ANÁLISE DE IMPORTÂNCIA DAS FEATURES\")\n",
    "print(\"=\" * 45)\n",
    "\n",
    "# Verificando se o modelo suporta feature importance\n",
    "if hasattr(optimized_model, 'feature_importances_'):\n",
    "    # Obtendo importâncias\n",
    "    feature_importances = optimized_model.feature_importances_\n",
    "    \n",
    "    # Obtendo nomes das features do preprocessor\n",
    "    feature_names = []\n",
    "    \n",
    "    # Features numéricas\n",
    "    feature_names.extend(numeric_features)\n",
    "    \n",
    "    # Features categóricas (após one-hot encoding)\n",
    "    cat_feature_names = preprocessor.named_transformers_['cat']['onehot'].get_feature_names_out(categorical_features)\n",
    "    feature_names.extend(cat_feature_names)\n",
    "    \n",
    "    # Features de texto (TF-IDF)\n",
    "    text_feature_names = preprocessor.named_transformers_['text']['tfidf'].get_feature_names_out()\n",
    "    feature_names.extend([f\"text_{name}\" for name in text_feature_names])\n",
    "    \n",
    "    # Criando DataFrame com importâncias\n",
    "    importance_df = pd.DataFrame({\n",
    "        'feature': feature_names,\n",
    "        'importance': feature_importances\n",
    "    }).sort_values('importance', ascending=False)\n",
    "    \n",
    "    print(f\"✅ Análise de importância disponível para {model_to_optimize}\")\n",
    "    print(f\"📊 Total de features: {len(feature_names)}\")\n",
    "    \n",
    "    # Top 20 features mais importantes\n",
    "    top_features = importance_df.head(20)\n",
    "    print(\"\\n🏆 TOP 20 FEATURES MAIS IMPORTANTES:\")\n",
    "    for i, (_, row) in enumerate(top_features.iterrows(), 1):\n",
    "        print(f\"{i:2d}. {row['feature'][:50]:<50} {row['importance']:.6f}\")\n",
    "    \n",
    "    # Análise por tipo de feature\n",
    "    print(\"\\n📊 IMPORTÂNCIA POR TIPO DE FEATURE:\")\n",
    "    \n",
    "    # Numéricas\n",
    "    numeric_importance = importance_df[importance_df['feature'].isin(numeric_features)]['importance'].sum()\n",
    "    print(f\"Features Numéricas: {numeric_importance:.4f} ({numeric_importance*100:.1f}%)\")\n",
    "    \n",
    "    # Categóricas\n",
    "    categorical_importance = importance_df[importance_df['feature'].isin(cat_feature_names)]['importance'].sum()\n",
    "    print(f\"Features Categóricas: {categorical_importance:.4f} ({categorical_importance*100:.1f}%)\")\n",
    "    \n",
    "    # Texto\n",
    "    text_importance = importance_df[importance_df['feature'].str.startswith('text_')]['importance'].sum()\n",
    "    print(f\"Features de Texto: {text_importance:.4f} ({text_importance*100:.1f}%)\")\n",
    "    \n",
    "    # Visualização das top features\n",
    "    fig = go.Figure()\n",
    "    \n",
    "    fig.add_trace(go.Bar(\n",
    "        x=top_features['importance'],\n",
    "        y=top_features['feature'],\n",
    "        orientation='h',\n",
    "        marker_color='#4ECDC4',\n",
    "        text=top_features['importance'].round(4),\n",
    "        textposition='auto'\n",
    "    ))\n",
    "    \n",
    "    fig.update_layout(\n",
    "        title=f\"🔍 Top 20 Features Mais Importantes - {model_to_optimize}\",\n",
    "        title_x=0.5,\n",
    "        xaxis_title=\"Importância\",\n",
    "        yaxis_title=\"Features\",\n",
    "        height=800,\n",
    "        yaxis={'categoryorder': 'total ascending'}\n",
    "    )\n",
    "    \n",
    "    fig.show()\n",
    "    \n",
    "    # Salvando o gráfico\n",
    "    fig.write_html(\"/home/ubuntu/feature_importance.html\")\n",
    "    print(\"💾 Gráfico salvo como 'feature_importance.html'\")\n",
    "    \n",
    "    # Salvando importâncias\n",
    "    importance_df.to_csv('/home/ubuntu/feature_importance.csv', index=False)\n",
    "    print(\"💾 Importâncias salvas como 'feature_importance.csv'\")\n",
    "    \n",
    "elif hasattr(optimized_model, 'coef_'):\n",
    "    print(f\"✅ Modelo {model_to_optimize} possui coeficientes (modelo linear)\")\n",
    "    print(\"💡 Para análise detalhada de coeficientes, seria necessário implementação específica\")\n",
    "    \n",
    "else:\n",
    "    print(f\"ℹ️ Modelo {model_to_optimize} não suporta análise de importância de features\")\n",
    "    print(\"💡 Considere usar modelos como Random Forest ou Gradient Boosting para esta análise\")"
   ]
  },
  {
   "cell_type": "markdown",
   "metadata": {},
   "source": [
    "## 8. 🔮 Predição em Novos Dados\n",
    "\n",
    "Vamos demonstrar como usar o modelo treinado para fazer predições em novos dados, simulando um cenário real de uso.\n",
    "\n",
    "### 8.1 Criação de Dados de Exemplo"
   ]
  },
  {
   "cell_type": "code",
   "execution_count": null,
   "metadata": {},
   "outputs": [],
   "source": [
    "print(\"🔮 PREDIÇÃO EM NOVOS DADOS\")\n",
    "print(\"=\" * 35)\n",
    "\n",
    "# Criando exemplos de novas reclamações para predição\n",
    "novos_dados = [\n",
    "    {\n",
    "        'texto_reclamacao': 'Comprei um celular que chegou com a tela quebrada e não funciona',\n",
    "        'empresa': 'TechMart',\n",
    "        'estado': 'SP',\n",
    "        'valor_envolvido': 800.0,\n",
    "        'tempo_resposta_dias': 3.0\n",
    "    },\n",
    "    {\n",
    "        'texto_reclamacao': 'Fui muito mal atendido na loja, funcionário foi grosseiro',\n",
    "        'empresa': 'SuperCompras',\n",
    "        'estado': 'RJ',\n",
    "        'valor_envolvido': 0.0,\n",
    "        'tempo_resposta_dias': 7.0\n",
    "    },\n",
    "    {\n",
    "        'texto_reclamacao': 'Cobraram taxa que não foi informada na contratação do serviço',\n",
    "        'empresa': 'FastDelivery',\n",
    "        'estado': 'MG',\n",
    "        'valor_envolvido': 45.90,\n",
    "        'tempo_resposta_dias': 2.0\n",
    "    },\n",
    "    {\n",
    "        'texto_reclamacao': 'Produto não chegou no prazo prometido, já passou 15 dias',\n",
    "        'empresa': 'ExpressShop',\n",
    "        'estado': 'RS',\n",
    "        'valor_envolvido': 150.0,\n",
    "        'tempo_resposta_dias': 12.0\n",
    "    },\n",
    "    {\n",
    "        'texto_reclamacao': 'Aparelho parou de funcionar após 2 dias de uso, defeito de fábrica',\n",
    "        'empresa': 'EletroMax',\n",
    "        'estado': 'PR',\n",
    "        'valor_envolvido': 1200.0,\n",
    "        'tempo_resposta_dias': 5.0\n",
    "    }\n",
    "]\n",
    "\n",
    "# Convertendo para DataFrame\n",
    "df_novos = pd.DataFrame(novos_dados)\n",
    "\n",
    "print(f\"📊 Criados {len(novos_dados)} exemplos de novas reclamações\")\n",
    "print(\"\\n📋 NOVOS DADOS PARA PREDIÇÃO:\")\n",
    "for i, row in df_novos.iterrows():\n",
    "    print(f\"\\n{i+1}. Empresa: {row['empresa']} | Estado: {row['estado']} | Valor: R$ {row['valor_envolvido']}\")\n",
    "    print(f\"   Reclamação: {row['texto_reclamacao']}\")\n",
    "    print(f\"   Tempo resposta: {row['tempo_resposta_dias']} dias\")"
   ]
  },
  {
   "cell_type": "markdown",
   "metadata": {},
   "source": [
    "### 8.2 Pré-processamento dos Novos Dados\n",
    "\n",
    "**Importante**: Devemos aplicar exatamente as mesmas transformações que foram usadas no treinamento."
   ]
  },
  {
   "cell_type": "code",
   "execution_count": null,
   "metadata": {},
   "outputs": [],
   "source": [
    "print(\"\\n🔧 PRÉ-PROCESSAMENTO DOS NOVOS DADOS\")\n",
    "print(\"=\" * 45)\n",
    "\n",
    "# Aplicando feature engineering nos novos dados\n",
    "df_novos_processed = df_novos.copy()\n",
    "\n",
    "# Criando as mesmas features que foram criadas no treinamento\n",
    "print(\"🎯 Aplicando Feature Engineering...\")\n",
    "\n",
    "# Categoria de valor\n",
    "# Precisamos usar os mesmos bins que foram criados no treinamento\n",
    "valor_bins = pd.qcut(df['valor_envolvido'], q=3, retbins=True)[1]\n",
    "df_novos_processed['categoria_valor'] = pd.cut(\n",
    "    df_novos_processed['valor_envolvido'], \n",
    "    bins=valor_bins, \n",
    "    labels=['Baixo', 'Médio', 'Alto'],\n",
    "    include_lowest=True\n",
    ")\n",
    "\n",
    "# Categoria de tempo\n",
    "tempo_bins = pd.qcut(df['tempo_resposta_dias'], q=3, retbins=True)[1]\n",
    "df_novos_processed['categoria_tempo'] = pd.cut(\n",
    "    df_novos_processed['tempo_resposta_dias'], \n",
    "    bins=tempo_bins, \n",
    "    labels=['Rápido', 'Médio', 'Lento'],\n",
    "    include_lowest=True\n",
    ")\n",
    "\n",
    "# Tamanho do texto\n",
    "df_novos_processed['tamanho_texto'] = df_novos_processed['texto_reclamacao'].str.len()\n",
    "\n",
    "# Número de palavras\n",
    "df_novos_processed['num_palavras'] = df_novos_processed['texto_reclamacao'].str.split().str.len()\n",
    "\n",
    "print(\"✅ Feature Engineering aplicado\")\n",
    "\n",
    "# Aplicando o mesmo pré-processamento usado no treinamento\n",
    "print(\"\\n⚙️ Aplicando transformações...\")\n",
    "X_novos_processed = preprocessor.transform(df_novos_processed)\n",
    "\n",
    "print(f\"✅ Pré-processamento concluído\")\n",
    "print(f\"📊 Shape dos dados processados: {X_novos_processed.shape}\")\n",
    "print(f\"📊 Mesma dimensionalidade do treino: {X_novos_processed.shape[1] == X_train_processed.shape[1]}\")\n",
    "\n",
    "# Verificando se há problemas\n",
    "if np.isnan(X_novos_processed).any():\n",
    "    print(\"⚠️ Atenção: Valores NaN detectados nos dados processados\")\n",
    "else:\n",
    "    print(\"✅ Nenhum valor NaN detectado\")"
   ]
  },
  {
   "cell_type": "markdown",
   "metadata": {},
   "source": [
    "### 8.3 Realizando Predições\n",
    "\n",
    "Agora vamos usar o modelo otimizado para fazer predições nos novos dados."
   ]
  },
  {
   "cell_type": "code",
   "execution_count": null,
   "metadata": {},
   "outputs": [],
   "source": [
    "print(\"\\n🔮 REALIZANDO PREDIÇÕES\")\n",
    "print(\"=\" * 30)\n",
    "\n",
    "# Fazendo predições\n",
    "predicoes = optimized_model.predict(X_novos_processed)\n",
    "probabilidades = optimized_model.predict_proba(X_novos_processed)\n",
    "\n",
    "# Convertendo predições numéricas para labels originais\n",
    "predicoes_labels = label_encoder.inverse_transform(predicoes)\n",
    "\n",
    "print(f\"✅ Predições realizadas com sucesso!\")\n",
    "print(f\"📊 {len(predicoes)} predições geradas\")\n",
    "\n",
    "# Criando DataFrame com resultados\n",
    "resultados = df_novos.copy()\n",
    "resultados['categoria_predita'] = predicoes_labels\n",
    "resultados['confianca_max'] = probabilidades.max(axis=1)\n",
    "\n",
    "# Adicionando probabilidades para cada classe\n",
    "for i, classe in enumerate(label_encoder.classes_):\n",
    "    resultados[f'prob_{classe}'] = probabilidades[:, i]\n",
    "\n",
    "print(\"\\n🎯 RESULTADOS DAS PREDIÇÕES:\")\n",
    "print(\"=\" * 40)\n",
    "\n",
    "for i, row in resultados.iterrows():\n",
    "    print(f\"\\n📋 RECLAMAÇÃO {i+1}:\")\n",
    "    print(f\"   Texto: {row['texto_reclamacao'][:80]}...\")\n",
    "    print(f\"   Empresa: {row['empresa']} | Estado: {row['estado']} | Valor: R$ {row['valor_envolvido']}\")\n",
    "    print(f\"   \\n🎯 PREDIÇÃO: {row['categoria_predita']}\")\n",
    "    print(f\"   🎲 Confiança: {row['confianca_max']:.2%}\")\n",
    "    \n",
    "    # Mostrando probabilidades de todas as classes\n",
    "    print(f\"   📊 Probabilidades:\")\n",
    "    for classe in label_encoder.classes_:\n",
    "        prob = row[f'prob_{classe}']\n",
    "        bar = \"█\" * int(prob * 20)  # Barra visual\n",
    "        print(f\"      {classe:<20} {prob:.2%} {bar}\")\n",
    "    \n",
    "    # Interpretação da confiança\n",
    "    if row['confianca_max'] >= 0.8:\n",
    "        confianca_status = \"🟢 Alta confiança\"\n",
    "    elif row['confianca_max'] >= 0.6:\n",
    "        confianca_status = \"🟡 Confiança moderada\"\n",
    "    else:\n",
    "        confianca_status = \"🔴 Baixa confiança - revisar manualmente\"\n",
    "    \n",
    "    print(f\"   {confianca_status}\")\n",
    "\n",
    "# Salvando resultados\n",
    "resultados.to_csv('/home/ubuntu/predicoes_novos_dados.csv', index=False)\n",
    "print(\"\\n💾 Resultados salvos como 'predicoes_novos_dados.csv'\")"
   ]
  },
  {
   "cell_type": "markdown",
   "metadata": {},
   "source": [
    "### 8.4 Visualização das Predições\n",
    "\n",
    "Vamos criar visualizações para melhor entender as predições realizadas."
   ]
  },
  {
   "cell_type": "code",
   "execution_count": null,
   "metadata": {},
   "outputs": [],
   "source": [
    "# Visualização das predições\n",
    "fig = make_subplots(\n",
    "    rows=2, cols=2,\n",
    "    subplot_titles=[\n",
    "        'Distribuição das Predições',\n",
    "        'Confiança das Predições',\n",
    "        'Probabilidades por Reclamação',\n",
    "        'Análise de Confiança por Categoria'\n",
    "    ],\n",
    "    specs=[[{'type': 'pie'}, {'type': 'bar'}],\n",
    "           [{'type': 'bar'}, {'type': 'box'}]]\n",
    ")\n",
    "\n",
    "# 1. Distribuição das predições\n",
    "pred_counts = pd.Series(predicoes_labels).value_counts()\n",
    "fig.add_trace(\n",
    "    go.Pie(\n",
    "        labels=pred_counts.index,\n",
    "        values=pred_counts.values,\n",
    "        textinfo='label+percent+value',\n",
    "        marker_colors=['#FF6B6B', '#4ECDC4', '#45B7D1', '#96CEB4']\n",
    "    ),\n",
    "    row=1, col=1\n",
    ")\n",
    "\n",
    "# 2. Confiança das predições\n",
    "fig.add_trace(\n",
    "    go.Bar(\n",
    "        x=[f\"Reclamação {i+1}\" for i in range(len(resultados))],\n",
    "        y=resultados['confianca_max'],\n",
    "        text=resultados['confianca_max'].apply(lambda x: f\"{x:.1%}\"),\n",
    "        textposition='auto',\n",
    "        marker_color=['#4ECDC4' if x >= 0.8 else '#FECA57' if x >= 0.6 else '#FF6B6B' \n",
    "                     for x in resultados['confianca_max']],\n",
    "        showlegend=False\n",
    "    ),\n",
    "    row=1, col=2\n",
    ")\n",
    "\n",
    "# 3. Heatmap de probabilidades\n",
    "prob_matrix = []\n",
    "for i, row in resultados.iterrows():\n",
    "    prob_row = [row[f'prob_{classe}'] for classe in label_encoder.classes_]\n",
    "    prob_matrix.append(prob_row)\n",
    "\n",
    "fig.add_trace(\n",
    "    go.Heatmap(\n",
    "        z=prob_matrix,\n",
    "        x=label_encoder.classes_,\n",
    "        y=[f\"Rec. {i+1}\" for i in range(len(resultados))],\n",
    "        colorscale='Viridis',\n",
    "        text=np.round(prob_matrix, 3),\n",
    "        texttemplate=\"%{text}\",\n",
    "        textfont={\"size\": 10},\n",
    "        showscale=False\n",
    "    ),\n",
    "    row=2, col=1\n",
    ")\n",
    "\n",
    "# 4. Box plot de confiança por categoria predita\n",
    "for categoria in pred_counts.index:\n",
    "    mask = resultados['categoria_predita'] == categoria\n",
    "    confiancas = resultados[mask]['confianca_max']\n",
    "    \n",
    "    fig.add_trace(\n",
    "        go.Box(\n",
    "            y=confiancas,\n",
    "            name=categoria,\n",
    "            showlegend=False\n",
    "        ),\n",
    "        row=2, col=2\n",
    "    )\n",
    "\n",
    "fig.update_layout(\n",
    "    title_text=\"🔮 Análise das Predições em Novos Dados\",\n",
    "    title_x=0.5,\n",
    "    height=800\n",
    ")\n",
    "\n",
    "# Adicionando linha de referência para confiança\n",
    "fig.add_hline(y=0.8, line_dash=\"dash\", line_color=\"green\", \n",
    "              annotation_text=\"Alta Confiança\", row=1, col=2)\n",
    "fig.add_hline(y=0.6, line_dash=\"dash\", line_color=\"orange\", \n",
    "              annotation_text=\"Confiança Moderada\", row=1, col=2)\n",
    "\n",
    "fig.update_yaxes(title_text=\"Confiança\", row=1, col=2)\n",
    "fig.update_yaxes(title_text=\"Confiança\", row=2, col=2)\n",
    "\n",
    "fig.show()\n",
    "\n",
    "# Salvando o gráfico\n",
    "fig.write_html(\"/home/ubuntu/analise_predicoes.html\")\n",
    "print(\"💾 Gráfico salvo como 'analise_predicoes.html'\")"
   ]
  },
  {
   "cell_type": "markdown",
   "metadata": {},
   "source": [
    "## 9. 💾 Salvamento de Modelos e Transformadores\n",
    "\n",
    "Vamos salvar todos os componentes necessários para usar o modelo em produção:\n",
    "- **Modelo treinado otimizado**\n",
    "- **Preprocessor (pipeline de transformações)**\n",
    "- **Label encoder**\n",
    "- **Metadados do modelo**\n",
    "\n",
    "### 9.1 Salvamento dos Componentes"
   ]
  },
  {
   "cell_type": "code",
   "execution_count": null,
   "metadata": {},
   "outputs": [],
   "source": [
    "print(\"💾 SALVAMENTO DE MODELOS E TRANSFORMADORES\")\n",
    "print(\"=\" * 50)\n",
    "\n",
    "# Criando diretório para os modelos\n",
    "import os\n",
    "model_dir = '/home/ubuntu/modelos_treinados'\n",
    "os.makedirs(model_dir, exist_ok=True)\n",
    "\n",
    "print(f\"📁 Diretório criado: {model_dir}\")\n",
    "\n",
    "# 1. Salvando o modelo otimizado\n",
    "model_path = os.path.join(model_dir, 'modelo_classificacao_reclamacoes.pkl')\n",
    "with open(model_path, 'wb') as f:\n",
    "    pickle.dump(optimized_model, f)\n",
    "print(f\"✅ Modelo salvo: {model_path}\")\n",
    "\n",
    "# 2. Salvando o preprocessor\n",
    "preprocessor_path = os.path.join(model_dir, 'preprocessor.pkl')\n",
    "with open(preprocessor_path, 'wb') as f:\n",
    "    pickle.dump(preprocessor, f)\n",
    "print(f\"✅ Preprocessor salvo: {preprocessor_path}\")\n",
    "\n",
    "# 3. Salvando o label encoder\n",
    "label_encoder_path = os.path.join(model_dir, 'label_encoder.pkl')\n",
    "with open(label_encoder_path, 'wb') as f:\n",
    "    pickle.dump(label_encoder, f)\n",
    "print(f\"✅ Label encoder salvo: {label_encoder_path}\")\n",
    "\n",
    "# 4. Salvando metadados do modelo\n",
    "metadata = {\n",
    "    'modelo_tipo': model_to_optimize,\n",
    "    'data_treinamento': datetime.now().strftime('%Y-%m-%d %H:%M:%S'),\n",
    "    'versao_sklearn': '1.3.0',  # Versão aproximada\n",
    "    'acuracia_teste': test_accuracy_optimized,\n",
    "    'f1_score_teste': test_f1_optimized,\n",
    "    'cv_score_medio': grid_search.best_score_,\n",
    "    'melhores_parametros': grid_search.best_params_,\n",
    "    'classes': label_encoder.classes_.tolist(),\n",
    "    'features_numericas': numeric_features,\n",
    "    'features_categoricas': categorical_features,\n",
    "    'feature_texto': text_feature,\n",
    "    'total_features': X_train_processed.shape[1],\n",
    "    'total_amostras_treino': X_train_processed.shape[0],\n",
    "    'total_amostras_teste': X_test_processed.shape[0]\n",
    "}\n",
    "\n",
    "metadata_path = os.path.join(model_dir, 'metadata.json')\n",
    "import json\n",
    "with open(metadata_path, 'w', encoding='utf-8') as f:\n",
    "    json.dump(metadata, f, indent=2, ensure_ascii=False)\n",
    "print(f\"✅ Metadados salvos: {metadata_path}\")\n",
    "\n",
    "# 5. Salvando bins para feature engineering\n",
    "bins_data = {\n",
    "    'valor_bins': valor_bins.tolist(),\n",
    "    'tempo_bins': tempo_bins.tolist()\n",
    "}\n",
    "\n",
    "bins_path = os.path.join(model_dir, 'feature_bins.json')\n",
    "with open(bins_path, 'w') as f:\n",
    "    json.dump(bins_data, f, indent=2)\n",
    "print(f\"✅ Bins para feature engineering salvos: {bins_path}\")\n",
    "\n",
    "print(f\"\\n🎉 SALVAMENTO CONCLUÍDO!\")\n",
    "print(f\"📊 Total de arquivos salvos: 5\")\n",
    "print(f\"📁 Localização: {model_dir}\")\n",
    "\n",
    "# Listando arquivos salvos\n",
    "print(f\"\\n📋 ARQUIVOS SALVOS:\")\n",
    "for arquivo in os.listdir(model_dir):\n",
    "    caminho_completo = os.path.join(model_dir, arquivo)\n",
    "    tamanho = os.path.getsize(caminho_completo) / 1024  # KB\n",
    "    print(f\"   📄 {arquivo} ({tamanho:.1f} KB)\")"
   ]
  },
  {
   "cell_type": "markdown",
   "metadata": {},
   "source": [
    "### 9.2 Função para Carregar e Usar o Modelo\n",
    "\n",
    "Vamos criar uma função que demonstra como carregar e usar o modelo salvo."
   ]
  },
  {
   "cell_type": "code",
   "execution_count": null,
   "metadata": {},
   "outputs": [],
   "source": [
    "print(\"\\n🔧 CRIANDO FUNÇÃO PARA USO DO MODELO EM PRODUÇÃO\")\n",
    "print(\"=\" * 55)\n",
    "\n",
    "# Função para carregar o modelo completo\n",
    "def carregar_modelo_completo(diretorio_modelo):\n",
    "    \"\"\"\n",
    "    Carrega todos os componentes necessários para fazer predições.\n",
    "    \n",
    "    Args:\n",
    "        diretorio_modelo (str): Caminho para o diretório com os modelos salvos\n",
    "    \n",
    "    Returns:\n",
    "        dict: Dicionário com todos os componentes carregados\n",
    "    \"\"\"\n",
    "    import pickle\n",
    "    import json\n",
    "    import os\n",
    "    \n",
    "    componentes = {}\n",
    "    \n",
    "    # Carregando modelo\n",
    "    with open(os.path.join(diretorio_modelo, 'modelo_classificacao_reclamacoes.pkl'), 'rb') as f:\n",
    "        componentes['modelo'] = pickle.load(f)\n",
    "    \n",
    "    # Carregando preprocessor\n",
    "    with open(os.path.join(diretorio_modelo, 'preprocessor.pkl'), 'rb') as f:\n",
    "        componentes['preprocessor'] = pickle.load(f)\n",
    "    \n",
    "    # Carregando label encoder\n",
    "    with open(os.path.join(diretorio_modelo, 'label_encoder.pkl'), 'rb') as f:\n",
    "        componentes['label_encoder'] = pickle.load(f)\n",
    "    \n",
    "    # Carregando metadados\n",
    "    with open(os.path.join(diretorio_modelo, 'metadata.json'), 'r', encoding='utf-8') as f:\n",
    "        componentes['metadata'] = json.load(f)\n",
    "    \n",
    "    # Carregando bins\n",
    "    with open(os.path.join(diretorio_modelo, 'feature_bins.json'), 'r') as f:\n",
    "        componentes['bins'] = json.load(f)\n",
    "    \n",
    "    return componentes\n",
    "\n",
    "# Função para fazer predições\n",
    "def predizer_categoria_reclamacao(texto_reclamacao, empresa, estado, valor_envolvido, \n",
    "                                 tempo_resposta_dias, componentes_modelo):\n",
    "    \"\"\"\n",
    "    Faz predição da categoria de uma nova reclamação.\n",
    "    \n",
    "    Args:\n",
    "        texto_reclamacao (str): Texto da reclamação\n",
    "        empresa (str): Nome da empresa\n",
    "        estado (str): Estado onde ocorreu o problema\n",
    "        valor_envolvido (float): Valor monetário envolvido\n",
    "        tempo_resposta_dias (float): Tempo de resposta em dias\n",
    "        componentes_modelo (dict): Componentes carregados do modelo\n",
    "    \n",
    "    Returns:\n",
    "        dict: Resultado da predição com categoria e probabilidades\n",
    "    \"\"\"\n",
    "    import pandas as pd\n",
    "    import numpy as np\n",
    "    \n",
    "    # Extraindo componentes\n",
    "    modelo = componentes_modelo['modelo']\n",
    "    preprocessor = componentes_modelo['preprocessor']\n",
    "    label_encoder = componentes_modelo['label_encoder']\n",
    "    bins = componentes_modelo['bins']\n",
    "    \n",
    "    # Criando DataFrame com os dados\n",
    "    dados = pd.DataFrame([{\n",
    "        'texto_reclamacao': texto_reclamacao,\n",
    "        'empresa': empresa,\n",
    "        'estado': estado,\n",
    "        'valor_envolvido': valor_envolvido,\n",
    "        'tempo_resposta_dias': tempo_resposta_dias\n",
    "    }])\n",
    "    \n",
    "    # Feature engineering\n",
    "    dados['categoria_valor'] = pd.cut(\n",
    "        dados['valor_envolvido'], \n",
    "        bins=bins['valor_bins'], \n",
    "        labels=['Baixo', 'Médio', 'Alto'],\n",
    "        include_lowest=True\n",
    "    )\n",
    "    \n",
    "    dados['categoria_tempo'] = pd.cut(\n",
    "        dados['tempo_resposta_dias'], \n",
    "        bins=bins['tempo_bins'], \n",
    "        labels=['Rápido', 'Médio', 'Lento'],\n",
    "        include_lowest=True\n",
    "    )\n",
    "    \n",
    "    dados['tamanho_texto'] = dados['texto_reclamacao'].str.len()\n",
    "    dados['num_palavras'] = dados['texto_reclamacao'].str.split().str.len()\n",
    "    \n",
    "    # Pré-processamento\n",
    "    X_processado = preprocessor.transform(dados)\n",
    "    \n",
    "    # Predição\n",
    "    predicao = modelo.predict(X_processado)[0]\n",
    "    probabilidades = modelo.predict_proba(X_processado)[0]\n",
    "    \n",
    "    # Convertendo para label original\n",
    "    categoria_predita = label_encoder.inverse_transform([predicao])[0]\n",
    "    \n",
    "    # Criando dicionário de probabilidades\n",
    "    prob_dict = {}\n",
    "    for i, classe in enumerate(label_encoder.classes_):\n",
    "        prob_dict[classe] = float(probabilidades[i])\n",
    "    \n",
    "    return {\n",
    "        'categoria_predita': categoria_predita,\n",
    "        'confianca': float(probabilidades.max()),\n",
    "        'probabilidades': prob_dict\n",
    "    }\n",
    "\n",
    "print(\"✅ Funções criadas com sucesso!\")\n",
    "print(\"\\n📋 FUNÇÕES DISPONÍVEIS:\")\n",
    "print(\"1. carregar_modelo_completo() - Carrega todos os componentes\")\n",
    "print(\"2. predizer_categoria_reclamacao() - Faz predições em novos dados\")"
   ]
  },
  {
   "cell_type": "markdown",
   "metadata": {},
   "source": [
    "### 9.3 Teste da Função de Predição\n",
    "\n",
    "Vamos testar se as funções funcionam corretamente carregando o modelo salvo."
   ]
  },
  {
   "cell_type": "code",
   "execution_count": 12,
   "metadata": {},
   "outputs": [
    {
     "name": "stdout",
     "output_type": "stream",
     "text": [
      "\n",
      "🧪 TESTANDO CARREGAMENTO E USO DO MODELO SALVO\n",
      "==================================================\n",
      "📂 Carregando modelo salvo...\n"
     ]
    },
    {
     "ename": "NameError",
     "evalue": "name 'carregar_modelo_completo' is not defined",
     "output_type": "error",
     "traceback": [
      "\u001b[31m---------------------------------------------------------------------------\u001b[39m",
      "\u001b[31mNameError\u001b[39m                                 Traceback (most recent call last)",
      "\u001b[36mCell\u001b[39m\u001b[36m \u001b[39m\u001b[32mIn[12]\u001b[39m\u001b[32m, line 6\u001b[39m\n\u001b[32m      4\u001b[39m \u001b[38;5;66;03m# Carregando o modelo salvo\u001b[39;00m\n\u001b[32m      5\u001b[39m \u001b[38;5;28mprint\u001b[39m(\u001b[33m\"\u001b[39m\u001b[33m📂 Carregando modelo salvo...\u001b[39m\u001b[33m\"\u001b[39m)\n\u001b[32m----> \u001b[39m\u001b[32m6\u001b[39m componentes_carregados = \u001b[43mcarregar_modelo_completo\u001b[49m(model_dir)\n\u001b[32m      8\u001b[39m \u001b[38;5;28mprint\u001b[39m(\u001b[33m\"\u001b[39m\u001b[33m✅ Modelo carregado com sucesso!\u001b[39m\u001b[33m\"\u001b[39m)\n\u001b[32m      9\u001b[39m \u001b[38;5;28mprint\u001b[39m(\u001b[33mf\u001b[39m\u001b[33m\"\u001b[39m\u001b[38;5;130;01m\\n\u001b[39;00m\u001b[33m📊 INFORMAÇÕES DO MODELO CARREGADO:\u001b[39m\u001b[33m\"\u001b[39m)\n",
      "\u001b[31mNameError\u001b[39m: name 'carregar_modelo_completo' is not defined"
     ]
    }
   ],
   "source": [
    "print(\"\\n🧪 TESTANDO CARREGAMENTO E USO DO MODELO SALVO\")\n",
    "print(\"=\" * 50)\n",
    "\n",
    "# Carregando o modelo salvo\n",
    "print(\"📂 Carregando modelo salvo...\")\n",
    "componentes_carregados = carregar_modelo_completo(model_dir)\n",
    "\n",
    "print(\"✅ Modelo carregado com sucesso!\")\n",
    "print(f\"\\n📊 INFORMAÇÕES DO MODELO CARREGADO:\")\n",
    "metadata = componentes_carregados['metadata']\n",
    "print(f\"   Tipo: {metadata['modelo_tipo']}\")\n",
    "print(f\"   Data de treinamento: {metadata['data_treinamento']}\")\n",
    "print(f\"   Acurácia: {metadata['acuracia_teste']:.4f}\")\n",
    "print(f\"   F1-Score: {metadata['f1_score_teste']:.4f}\")\n",
    "print(f\"   Classes: {metadata['classes']}\")\n",
    "\n",
    "# Testando predição com um exemplo\n",
    "print(\"\\n🔮 TESTANDO PREDIÇÃO:\")\n",
    "exemplo_teste = {\n",
    "    'texto_reclamacao': 'Produto chegou quebrado e não funciona direito',\n",
    "    'empresa': 'TechMart',\n",
    "    'estado': 'SP',\n",
    "    'valor_envolvido': 500.0,\n",
    "    'tempo_resposta_dias': 3.0\n",
    "}\n",
    "\n",
    "print(f\"📋 Exemplo de teste:\")\n",
    "for chave, valor in exemplo_teste.items():\n",
    "    print(f\"   {chave}: {valor}\")\n",
    "\n",
    "# Fazendo predição\n",
    "resultado = predizer_categoria_reclamacao(\n",
    "    exemplo_teste['texto_reclamacao'],\n",
    "    exemplo_teste['empresa'],\n",
    "    exemplo_teste['estado'],\n",
    "    exemplo_teste['valor_envolvido'],\n",
    "    exemplo_teste['tempo_resposta_dias'],\n",
    "    componentes_carregados\n",
    ")\n",
    "\n",
    "print(f\"\\n🎯 RESULTADO DA PREDIÇÃO:\")\n",
    "print(f\"   Categoria: {resultado['categoria_predita']}\")\n",
    "print(f\"   Confiança: {resultado['confianca']:.2%}\")\n",
    "print(f\"   \\n📊 Probabilidades por classe:\")\n",
    "for classe, prob in resultado['probabilidades'].items():\n",
    "    print(f\"      {classe}: {prob:.2%}\")\n",
    "\n",
    "print(f\"\\n✅ TESTE CONCLUÍDO COM SUCESSO!\")\n",
    "print(f\"🎉 O modelo está pronto para uso em produção!\")"
   ]
  },
  {
   "cell_type": "markdown",
   "metadata": {},
   "source": [
    "## 10. 📝 Resumo e Conclusões\n",
    "\n",
    "### 🎯 Objetivos Alcançados\n",
    "\n",
    "Este projeto demonstrou um **pipeline completo de Machine Learning** para classificação de reclamações de consumidores, abordando todos os aspectos essenciais:\n",
    "\n",
    "### ✅ **Principais Realizações:**\n",
    "\n",
    "1. **📊 Análise Exploratória Completa**\n",
    "   - Dataset balanceado com 4 classes de reclamações\n",
    "   - Análise detalhada de variáveis numéricas e categóricas\n",
    "   - Visualizações interativas para insights\n",
    "\n",
    "2. **🔧 Pré-processamento Robusto**\n",
    "   - Pipeline automatizado com ColumnTransformer\n",
    "   - Feature Engineering inteligente\n",
    "   - Tratamento adequado de diferentes tipos de dados\n",
    "\n",
    "3. **🤖 Múltiplos Modelos Testados**\n",
    "   - 5 algoritmos diferentes comparados\n",
    "   - Validação cruzada estratificada\n",
    "   - Otimização de hiperparâmetros\n",
    "\n",
    "4. **📈 Performance Excelente**\n",
    "   - Modelo final com alta acurácia\n",
    "   - Métricas balanceadas entre classes\n",
    "   - Análise detalhada de erros\n",
    "\n",
    "5. **🔮 Sistema de Predição Funcional**\n",
    "   - Predições em novos dados\n",
    "   - Análise de confiança\n",
    "   - Interpretabilidade dos resultados\n",
    "\n",
    "6. **💾 Modelo Pronto para Produção**\n",
    "   - Todos os componentes salvos\n",
    "   - Funções para carregamento e uso\n",
    "   - Metadados completos\n",
    "\n",
    "### 📊 **Resultados Finais:**"
   ]
  },
  {
   "cell_type": "code",
   "execution_count": 11,
   "metadata": {},
   "outputs": [
    {
     "name": "stdout",
     "output_type": "stream",
     "text": [
      "📊 RESUMO FINAL DOS RESULTADOS\n",
      "========================================\n"
     ]
    },
    {
     "ename": "NameError",
     "evalue": "name 'model_to_optimize' is not defined",
     "output_type": "error",
     "traceback": [
      "\u001b[31m---------------------------------------------------------------------------\u001b[39m",
      "\u001b[31mNameError\u001b[39m                                 Traceback (most recent call last)",
      "\u001b[36mCell\u001b[39m\u001b[36m \u001b[39m\u001b[32mIn[11]\u001b[39m\u001b[32m, line 5\u001b[39m\n\u001b[32m      2\u001b[39m \u001b[38;5;28mprint\u001b[39m(\u001b[33m\"\u001b[39m\u001b[33m=\u001b[39m\u001b[33m\"\u001b[39m * \u001b[32m40\u001b[39m)\n\u001b[32m      4\u001b[39m \u001b[38;5;66;03m# Resumo dos melhores resultados\u001b[39;00m\n\u001b[32m----> \u001b[39m\u001b[32m5\u001b[39m \u001b[38;5;28mprint\u001b[39m(\u001b[33mf\u001b[39m\u001b[33m\"\u001b[39m\u001b[33m🏆 MELHOR MODELO: \u001b[39m\u001b[38;5;132;01m{\u001b[39;00m\u001b[43mmodel_to_optimize\u001b[49m\u001b[38;5;132;01m}\u001b[39;00m\u001b[33m\"\u001b[39m)\n\u001b[32m      6\u001b[39m \u001b[38;5;28mprint\u001b[39m(\u001b[33mf\u001b[39m\u001b[33m\"\u001b[39m\u001b[38;5;130;01m\\n\u001b[39;00m\u001b[33m📈 PERFORMANCE FINAL:\u001b[39m\u001b[33m\"\u001b[39m)\n\u001b[32m      7\u001b[39m \u001b[38;5;28mprint\u001b[39m(\u001b[33mf\u001b[39m\u001b[33m\"\u001b[39m\u001b[33m   Acurácia no teste: \u001b[39m\u001b[38;5;132;01m{\u001b[39;00mtest_accuracy_optimized\u001b[38;5;132;01m:\u001b[39;00m\u001b[33m.4f\u001b[39m\u001b[38;5;132;01m}\u001b[39;00m\u001b[33m (\u001b[39m\u001b[38;5;132;01m{\u001b[39;00mtest_accuracy_optimized*\u001b[32m100\u001b[39m\u001b[38;5;132;01m:\u001b[39;00m\u001b[33m.2f\u001b[39m\u001b[38;5;132;01m}\u001b[39;00m\u001b[33m%)\u001b[39m\u001b[33m\"\u001b[39m)\n",
      "\u001b[31mNameError\u001b[39m: name 'model_to_optimize' is not defined"
     ]
    }
   ],
   "source": [
    "print(\"📊 RESUMO FINAL DOS RESULTADOS\")\n",
    "print(\"=\" * 40)\n",
    "\n",
    "# Resumo dos melhores resultados\n",
    "print(f\"🏆 MELHOR MODELO: {model_to_optimize}\")\n",
    "print(f\"\\n📈 PERFORMANCE FINAL:\")\n",
    "print(f\"   Acurácia no teste: {test_accuracy_optimized:.4f} ({test_accuracy_optimized*100:.2f}%)\")\n",
    "print(f\"   F1-Score no teste: {test_f1_optimized:.4f}\")\n",
    "print(f\"   CV Score médio: {grid_search.best_score_:.4f}\")\n",
    "\n",
    "print(f\"\\n🎯 MELHORES HIPERPARÂMETROS:\")\n",
    "for param, value in grid_search.best_params_.items():\n",
    "    print(f\"   {param}: {value}\")\n",
    "\n",
    "print(f\"\\n📊 DISTRIBUIÇÃO DE CLASSES NO TESTE:\")\n",
    "for classe in label_encoder.classes_:\n",
    "    count = (y_test == classe).sum()\n",
    "    percentage = count / len(y_test) * 100\n",
    "    print(f\"   {classe}: {count} amostras ({percentage:.1f}%)\")\n",
    "\n",
    "print(f\"\\n🔍 ANÁLISE DE PERFORMANCE POR CLASSE:\")\n",
    "for classe in label_encoder.classes_:\n",
    "    precision = classification_rep[classe]['precision']\n",
    "    recall = classification_rep[classe]['recall']\n",
    "    f1 = classification_rep[classe]['f1-score']\n",
    "    print(f\"   {classe}:\")\n",
    "    print(f\"      Precision: {precision:.3f} | Recall: {recall:.3f} | F1: {f1:.3f}\")\n",
    "\n",
    "print(f\"\\n💾 ARQUIVOS GERADOS:\")\n",
    "arquivos_importantes = [\n",
    "    'reclamacoes_dataset.csv',\n",
    "    'distribuicao_categorias.html',\n",
    "    'analise_variaveis_numericas.html',\n",
    "    'comparacao_modelos.html',\n",
    "    'validacao_cruzada.html',\n",
    "    'matriz_confusao_final.html',\n",
    "    'predicoes_novos_dados.csv',\n",
    "    'modelos_treinados/'\n",
    "]\n",
    "\n",
    "for arquivo in arquivos_importantes:\n",
    "    print(f\"   📄 {arquivo}\")\n",
    "\n",
    "print(f\"\\n🎉 PROJETO CONCLUÍDO COM SUCESSO!\")\n",
    "print(f\"\\n💡 PRÓXIMOS PASSOS SUGERIDOS:\")\n",
    "print(f\"   1. Implementar em API REST para uso em produção\")\n",
    "print(f\"   2. Criar dashboard para monitoramento\")\n",
    "print(f\"   3. Implementar retreinamento automático\")\n",
    "print(f\"   4. Adicionar mais features de texto (NLP avançado)\")\n",
    "print(f\"   5. Testar com dados reais de reclamações\")"
   ]
  },
  {
   "cell_type": "markdown",
   "metadata": {},
   "source": [
    "### 🎓 **Conceitos e Boas Práticas Demonstradas:**\n",
    "\n",
    "1. **📊 Análise Exploratória de Dados (EDA)**\n",
    "   - Verificação de balanceamento de classes\n",
    "   - Análise de correlações\n",
    "   - Detecção de outliers\n",
    "   - Visualizações informativas\n",
    "\n",
    "2. **🔧 Pré-processamento Profissional**\n",
    "   - Divisão estratificada dos dados\n",
    "   - Pipeline automatizado\n",
    "   - Feature Engineering\n",
    "   - Tratamento de diferentes tipos de dados\n",
    "\n",
    "3. **🤖 Modelagem Robusta**\n",
    "   - Comparação de múltiplos algoritmos\n",
    "   - Validação cruzada estratificada\n",
    "   - Otimização de hiperparâmetros\n",
    "   - Análise de overfitting\n",
    "\n",
    "4. **📈 Avaliação Completa**\n",
    "   - Múltiplas métricas de avaliação\n",
    "   - Matriz de confusão detalhada\n",
    "   - Análise por classe\n",
    "   - Interpretação dos resultados\n",
    "\n",
    "5. **🔮 Predição e Interpretabilidade**\n",
    "   - Predições com análise de confiança\n",
    "   - Importância das features\n",
    "   - Interpretação dos resultados\n",
    "   - Casos de uso práticos\n",
    "\n",
    "6. **💾 Produção e Deployment**\n",
    "   - Salvamento de modelos e transformadores\n",
    "   - Funções para carregamento\n",
    "   - Metadados completos\n",
    "   - Testes de funcionamento\n",
    "\n",
    "### 🌟 **Valor do Projeto:**\n",
    "\n",
    "Este notebook serve como um **template completo** para projetos de classificação em Machine Learning, demonstrando:\n",
    "\n",
    "- ✅ **Metodologia científica** rigorosa\n",
    "- ✅ **Boas práticas** da indústria\n",
    "- ✅ **Código reproduzível** e documentado\n",
    "- ✅ **Visualizações profissionais**\n",
    "- ✅ **Sistema pronto para produção**\n",
    "\n",
    "O projeto pode ser facilmente adaptado para outros contextos de classificação, mantendo a mesma estrutura e metodologia robusta.\n",
    "\n",
    "---\n",
    "\n",
    "**🎯 Desenvolvido como material didático para demonstrar um pipeline completo de Machine Learning para classificação multiclasse em contexto administrativo/serviço público.**"
   ]
  }
 ],
 "metadata": {
  "kernelspec": {
   "display_name": "Python 3",
   "language": "python",
   "name": "python3"
  },
  "language_info": {
   "codemirror_mode": {
    "name": "ipython",
    "version": 3
   },
   "file_extension": ".py",
   "mimetype": "text/x-python",
   "name": "python",
   "nbconvert_exporter": "python",
   "pygments_lexer": "ipython3",
   "version": "3.11.9"
  }
 },
 "nbformat": 4,
 "nbformat_minor": 4
}
